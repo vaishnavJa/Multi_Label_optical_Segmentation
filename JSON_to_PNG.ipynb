{
 "cells": [
  {
   "cell_type": "code",
   "execution_count": 1,
   "metadata": {},
   "outputs": [],
   "source": [
    "import numpy as np\n",
    "import cv2\n",
    "import json\n",
    "import os\n",
    "import pickle"
   ]
  },
  {
   "cell_type": "code",
   "execution_count": 2,
   "metadata": {},
   "outputs": [],
   "source": [
    "f = open('labels/Labels_JSON.json')\n",
    "data = json.load(f)\n",
    "images = data[\"images\"]"
   ]
  },
  {
   "cell_type": "code",
   "execution_count": 3,
   "metadata": {},
   "outputs": [],
   "source": [
    "f = open('labels/Labels_JSON.json')\n",
    "data = json.load(f)\n",
    "images = data[\"images\"]\n",
    "labels = []\n",
    "image_names = []\n",
    "\n",
    "for image in images:\n",
    "    image_name = int(image['image_name'][:-4])\n",
    "    image_names.append(image_name)\n",
    "    label = image['labels']\n",
    "    labels.append(label)\n",
    "\n",
    "labels[12]\n",
    "\n",
    "def rle_decode(mask_rle, shape):\n",
    "    \"\"\"\n",
    "    mask_rle: run-length as string formatted (start length)\n",
    "    shape: (width, height) of array to return\n",
    "    Returns numpy array, 1 - mask, 0 - background\n",
    "    \"\"\"\n",
    "    s = mask_rle\n",
    "    starts, lengths = [np.asarray(x, dtype=int) for x in (s[0:][::2], s[1:][::2])]\n",
    "    starts -= 1\n",
    "    ends = starts + lengths\n",
    "    shape = shape[1], shape[0]\n",
    "    img = np.zeros(shape[0] * shape[1], dtype=np.uint8)\n",
    "    for lo, hi in zip(starts, ends):\n",
    "        img[lo:hi] = 255\n",
    "    return img.reshape(shape)"
   ]
  },
  {
   "cell_type": "code",
   "execution_count": 4,
   "metadata": {},
   "outputs": [],
   "source": [
    "def get_filepaths(directory,low,high,exten='.jpg'):\n",
    "    \n",
    "    filepaths = []\n",
    "    for filename in os.listdir(directory):\n",
    "        basename, ext = os.path.splitext(filename)\n",
    "        if ext != exten:\n",
    "            continue\n",
    "        try:\n",
    "            number = int(basename)\n",
    "        except ValueError:\n",
    "            continue  # not numeric\n",
    "        if low <= number <= high:\n",
    "            # process file\n",
    "            filename = os.path.join(directory, filename)\n",
    "            filepaths.append(basename)\n",
    "            \n",
    "    return filepaths"
   ]
  },
  {
   "cell_type": "code",
   "execution_count": 5,
   "metadata": {},
   "outputs": [],
   "source": [
    "label_image_pair = {}\n",
    "for image in images:\n",
    "    image_name = int(image['image_name'][:-4])\n",
    "    label = image['labels']\n",
    "    for l in label: \n",
    "        if l['class_name'] in label_image_pair.keys():\n",
    "            label_image_pair[l['class_name']].append(image_name)\n",
    "        else:\n",
    "            label_image_pair[l['class_name']] = [image_name]"
   ]
  },
  {
   "cell_type": "code",
   "execution_count": 6,
   "metadata": {},
   "outputs": [],
   "source": [
    "image_label_pair = {}\n",
    "for image in images:\n",
    "    image_name = int(image['image_name'][:-4])\n",
    "    label = image['labels']\n",
    "    for l in label: \n",
    "        if image_name in image_label_pair.keys():\n",
    "            image_label_pair[image_name].append(l['class_name'])\n",
    "        else:\n",
    "            image_label_pair[image_name] = [l['class_name']]"
   ]
  },
  {
   "cell_type": "code",
   "execution_count": 7,
   "metadata": {},
   "outputs": [],
   "source": [
    "with open(f'l_to_i.pyb', \"wb\") as fp:   #Pickling\n",
    "    pickle.dump(label_image_pair, fp)\n",
    "with open(f'i_l.pyb', \"wb\") as fp:   #Pickling\n",
    "    pickle.dump(image_label_pair, fp)"
   ]
  },
  {
   "cell_type": "code",
   "execution_count": 13,
   "metadata": {
    "scrolled": true
   },
   "outputs": [],
   "source": [
    "shape = (1500, 3000, 3)\n",
    "mask = np.zeros(shape, dtype = np.uint8)\n",
    "i = 0\n",
    "masks = []\n",
    "color13 = np.array([255, 255, 255])\n",
    "#color13 = np.array([222, 222, 55])\n",
    "numbers = [0, 0, 0, 0, 0, 0, 0, 0, 0, 0, 0, 0, 0, 0]\n",
    "#colors = [(50, 69, 57), (170, 98, 195), (222, 222, 55), (112, 168, 172), (112, 215, 214)] # For reducing number of classes\n",
    "colors = [(50, 69, 57), (170, 98, 195), (222, 222, 55), (112, 168, 172), (112, 215, 214), (181, 72, 24), (22, 132, 221), (167, 228, 28), (124, 33, 204), (16, 0, 241), (72, 117, 136), (70, 113, 190), (149, 89, 6), (255, 255, 255)] # For all classes\n",
    "#colors = [(0, 0, 0), (50, 69, 57), (50, 69, 57), (50, 69, 57), (50, 69, 57), (50, 69, 57), (22, 132, 221), (167, 228, 28), (124, 33, 204), (16, 0, 241), (72, 117, 136), (70, 113, 190), (149, 89, 6), (255, 255, 255)] # All Crease as same class\n",
    "#colors = [(0, 0, 0), (50, 69, 57), (50, 69, 57), (50, 69, 57), (50, 69, 57), (50, 69, 57), (170, 98, 195), (170, 98, 195), (170, 98, 195), (222, 222, 55), (222, 222, 55), (222, 222, 55), (222, 222, 55), (222, 222, 55)]\n",
    "\n",
    "ll = 0 \n",
    "for label in labels:\n",
    "    \n",
    "    if image_names[ll] in np.arange(0,600):\n",
    "#         print(image_names[ll])\n",
    "        ll += 1\n",
    "        continue\n",
    "    \n",
    "    visited_classes = []\n",
    "    \n",
    "    for value in label:\n",
    "        \n",
    "        mask = np.zeros(shape, dtype = np.uint8)\n",
    "        class_name = int(value['class_name'])\n",
    "        \n",
    "        if class_name == 3:\n",
    "            continue\n",
    "        \n",
    "        visited_classes.append(class_name)\n",
    "            \n",
    "#         print('here')\n",
    "        \n",
    "        if(value['polygon'] != None):\n",
    "\n",
    "            points = np.array([value['polygon']], dtype = np.int32)\n",
    "            cv2.fillPoly(mask, points, color = colors[class_name])\n",
    "        else:\n",
    "            \n",
    "            brush = np.zeros(shape, dtype = np.uint8)\n",
    "            bbox = value['bbox']\n",
    "            xyz = rle_decode(value['mask'], (bbox[2]-bbox[0], bbox[3]-bbox[1]))\n",
    "            xyz = cv2.merge([xyz, xyz, xyz])\n",
    "            brush[bbox[1]:bbox[3], bbox[0]:bbox[2]] = xyz\n",
    "            \n",
    "            for i in range(brush.shape[0]):\n",
    "                for j in range(brush.shape[1]):\n",
    "                    if((brush[i, j] == color13).all()):\n",
    "                        \n",
    "                        mask[i, j] = colors[class_name]\n",
    "            \n",
    "    \n",
    "#         x = cv2.resize(mask, dsize=(3000, 1500), interpolation = cv2.INTER_NEAREST)\n",
    "        cv2.imwrite(f'../dataset/mask_1500x3000/{image_names[ll]}_{class_name}.jpg', mask)\n",
    "    \n",
    "#     for neg_class in set(np.arange(1,14)) - set([3]) - set(visited_classes):\n",
    "#         mask = np.zeros((256, 512,3), dtype = np.uint8)\n",
    "#         cv2.imwrite(f'../labels/masks_c/{image_names[ll]}_{neg_class}.jpg', mask)\n",
    "\n",
    "    ll += 1"
   ]
  },
  {
   "cell_type": "code",
   "execution_count": 30,
   "metadata": {},
   "outputs": [
    {
     "data": {
      "text/plain": [
       "{1, 2, 4, 5, 6, 7, 8, 9, 10, 11, 12, 13}"
      ]
     },
     "execution_count": 30,
     "metadata": {},
     "output_type": "execute_result"
    }
   ],
   "source": [
    "set(np.arange(1,14)) - set([3]) - set(visited_classes)"
   ]
  },
  {
   "cell_type": "code",
   "execution_count": 21,
   "metadata": {},
   "outputs": [
    {
     "name": "stdout",
     "output_type": "stream",
     "text": [
      "1\n",
      "2\n",
      "3\n",
      "4\n",
      "5\n",
      "9\n",
      "10\n",
      "11\n",
      "12\n",
      "13\n"
     ]
    }
   ],
   "source": [
    "for i in set(np.arange(1,14)) - set([3]) - set(visited)):\n",
    "    print(i)"
   ]
  },
  {
   "cell_type": "code",
   "execution_count": 41,
   "metadata": {
    "scrolled": true
   },
   "outputs": [
    {
     "data": {
      "text/plain": [
       "array([], dtype=int64)"
      ]
     },
     "execution_count": 41,
     "metadata": {},
     "output_type": "execute_result"
    }
   ],
   "source": [
    "np.where([0,1,1,0,0,1,0] == 1)[0]"
   ]
  },
  {
   "cell_type": "code",
   "execution_count": 42,
   "metadata": {},
   "outputs": [
    {
     "data": {
      "text/plain": [
       "False"
      ]
     },
     "execution_count": 42,
     "metadata": {},
     "output_type": "execute_result"
    }
   ],
   "source": [
    "[0,1,1,0,0,1,0] == 1"
   ]
  },
  {
   "cell_type": "code",
   "execution_count": 6,
   "metadata": {},
   "outputs": [
    {
     "data": {
      "text/plain": [
       "14"
      ]
     },
     "execution_count": 6,
     "metadata": {},
     "output_type": "execute_result"
    }
   ],
   "source": [
    "len(colors)"
   ]
  },
  {
   "cell_type": "code",
   "execution_count": 7,
   "metadata": {
    "scrolled": true
   },
   "outputs": [],
   "source": [
    "for i in range(len(masks)):\n",
    "    \n",
    "#     x = cv2.resize(masks[i], dsize=(512, 256), interpolation = cv2.INTER_NEAREST)\n",
    "    #print(image_names[i])\n",
    "#     cv2.imshow('mask', x)\n",
    "#     cv2.waitKey(10)\n",
    "# cv2.destroyAllWindows()"
   ]
  },
  {
   "cell_type": "code",
   "execution_count": null,
   "metadata": {},
   "outputs": [],
   "source": []
  }
 ],
 "metadata": {
  "kernelspec": {
   "display_name": "Python 3",
   "language": "python",
   "name": "python3"
  },
  "language_info": {
   "codemirror_mode": {
    "name": "ipython",
    "version": 3
   },
   "file_extension": ".py",
   "mimetype": "text/x-python",
   "name": "python",
   "nbconvert_exporter": "python",
   "pygments_lexer": "ipython3",
   "version": "3.8.5"
  }
 },
 "nbformat": 4,
 "nbformat_minor": 5
}
