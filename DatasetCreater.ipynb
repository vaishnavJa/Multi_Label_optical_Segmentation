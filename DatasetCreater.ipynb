{
 "cells": [
  {
   "cell_type": "code",
   "execution_count": 1,
   "id": "fc9231ce",
   "metadata": {},
   "outputs": [],
   "source": [
    "from sklearn.model_selection import train_test_split\n",
    "from glob import glob\n",
    "import os\n",
    "import shutil\n",
    "import random\n",
    "import pickle\n",
    "from sklearn.preprocessing import MultiLabelBinarizer\n",
    "import numpy as np"
   ]
  },
  {
   "cell_type": "code",
   "execution_count": 11,
   "id": "f63831bf",
   "metadata": {},
   "outputs": [],
   "source": [
    "def get_filepaths(directory,low,high,exten='.jpg'): \n",
    "    \n",
    "    filepaths = []\n",
    "    weird = [692, 693, 694, 695, 696, 697, 701, 705, 706, 707, 708, 709, 715, 718, 720, 698]\n",
    "    for filename in os.listdir(directory):\n",
    "        basename, ext = os.path.splitext(filename)\n",
    "        if ext != exten:\n",
    "            continue\n",
    "        if int(basename) in weird:\n",
    "            continue\n",
    "        try:\n",
    "            number = int(basename)\n",
    "        except ValueError:\n",
    "            continue  # not numeric\n",
    "        if low <= number <= high:\n",
    "            # process file\n",
    "            filename = os.path.join(directory, filename)\n",
    "            filepaths.append(filename)\n",
    "            \n",
    "    return filepaths"
   ]
  },
  {
   "cell_type": "code",
   "execution_count": 12,
   "id": "fd768c60",
   "metadata": {},
   "outputs": [],
   "source": [
    "def copy_files(files,dst):\n",
    "    \n",
    "    old_files = glob(os.path.join(dst,'*'))\n",
    "    for f in old_files:\n",
    "        os.chmod(f,0o777)\n",
    "        os.remove(f)\n",
    "    for file in files:\n",
    "        shutil.copy(file,dst)"
   ]
  },
  {
   "cell_type": "code",
   "execution_count": 13,
   "id": "a9ad6ca2",
   "metadata": {},
   "outputs": [],
   "source": [
    "img_src = 'E:/AI/FAPS/dataset/PA_Jakob_Roser_Datentrager/06_Datensatze/01_Images/Images_512x256'\n",
    "seg_src = 'E:/AI/FAPS/dataset/PA_Jakob_Roser_Datentrager/06_Datensatze/01_Masks/Masks_JPG_512x256'"
   ]
  },
  {
   "cell_type": "code",
   "execution_count": 14,
   "id": "c18a67af",
   "metadata": {},
   "outputs": [],
   "source": [
    "all_data_neg = get_filepaths(img_src,1,600)\n",
    "all_data_pos = get_filepaths(img_src,601,1000)\n",
    "all_data_seg = get_filepaths(seg_src,601,1000,'.png')"
   ]
  },
  {
   "cell_type": "code",
   "execution_count": 6,
   "id": "809fc37c",
   "metadata": {},
   "outputs": [],
   "source": [
    "for split in [30,8]:\n",
    "    \n",
    "    train_pos_dst = f'E:/AI/FAPS/dataset/WS/{split}/train/pos'\n",
    "    train_neg_dst = f'E:/AI/FAPS/dataset/WS/{split}/train/neg'\n",
    "    train_seg_dst = f'E:/AI/FAPS/dataset/WS/{split}/train/seg'\n",
    "\n",
    "    test_pos_dst = f'E:/AI/FAPS/dataset/WS/{split}/test/pos'\n",
    "    test_neg_dst = f'E:/AI/FAPS/dataset/WS/{split}/test/neg'\n",
    "    test_seg_dst = f'E:/AI/FAPS/dataset/WS/{split}/test/seg'\n",
    "    \n",
    "    train_pos_path,test_pos_path,train_seg_path,test_seg_path = train_test_split(all_data_pos,all_data_seg,random_state=1337)\n",
    "    train_neg_path,test_neg_path = train_test_split(all_data_neg)\n",
    "    random.seed(1337)\n",
    "    train_seg_path = random.sample(train_seg_path,split)\n",
    "#     copy_files(train_pos_path,train_pos_dst)\n",
    "#     copy_files(test_pos_path,test_pos_dst)\n",
    "#     copy_files(train_seg_path,train_seg_dst)\n",
    "#     copy_files(test_seg_path,test_seg_dst)\n",
    "#     copy_files(train_neg_path,train_neg_dst)\n",
    "#     copy_files(test_neg_path,test_neg_dst)\n",
    "    \n",
    "    vals = [train_pos_path,test_pos_path,train_seg_path,test_seg_path,train_neg_path,test_neg_path]\n",
    "    with open(f'E:\\AI\\FAPS\\code\\Mixedsupervision\\splits\\PA\\split_{split}.pyb', \"wb\") as fp:   #Pickling\n",
    "        pickle.dump(vals, fp)\n",
    "    "
   ]
  },
  {
   "cell_type": "code",
   "execution_count": 32,
   "id": "6e6e0537",
   "metadata": {},
   "outputs": [],
   "source": [
    "def get_names(paths):\n",
    "    names = []\n",
    "    for p in paths:\n",
    "        name = os.path.basename(os.path.normpath(p))\n",
    "        name = int(name[:-4])\n",
    "        names.append(name)\n",
    "    return names"
   ]
  },
  {
   "cell_type": "code",
   "execution_count": 56,
   "id": "0818ca13",
   "metadata": {},
   "outputs": [],
   "source": [
    "def read_split(num_seg):\n",
    "    fn = f\"PA/split_{num_seg}.pyb\"\n",
    "    with open(f\"splits/{fn}\", \"rb\") as f:\n",
    "        vals = pickle.load(f)\n",
    "    return vals"
   ]
  },
  {
   "cell_type": "code",
   "execution_count": 8,
   "id": "8048e4d6",
   "metadata": {},
   "outputs": [],
   "source": [
    "with open(f'labels/l_to_i.pyb', \"rb\") as fp:   #Pickling\n",
    "    label_image_pair = pickle.load(fp)\n",
    "with open(f'labels/i_l.pyb', \"rb\") as fp:   #Pickling\n",
    "    image_label_pair = pickle.load(fp)"
   ]
  },
  {
   "cell_type": "code",
   "execution_count": 9,
   "id": "5fe0b0a6",
   "metadata": {},
   "outputs": [
    {
     "data": {
      "text/plain": [
       "array([691, 698, 699, 700, 702, 703, 704, 710, 711, 712, 713, 714, 716,\n",
       "       717, 719, 891, 892, 901, 902, 911, 912, 913, 914, 915, 947, 948,\n",
       "       953, 954, 959, 960, 961, 985, 989, 993, 994])"
      ]
     },
     "execution_count": 9,
     "metadata": {},
     "output_type": "execute_result"
    }
   ],
   "source": [
    "y_vals = []\n",
    "for i in range(1,1001):\n",
    "    y"
   ]
  },
  {
   "cell_type": "code",
   "execution_count": 10,
   "id": "33eac6ff",
   "metadata": {},
   "outputs": [
    {
     "data": {
      "text/plain": [
       "['3', '5']"
      ]
     },
     "execution_count": 10,
     "metadata": {},
     "output_type": "execute_result"
    }
   ],
   "source": [
    "image_label_pair[691]"
   ]
  },
  {
   "cell_type": "code",
   "execution_count": 41,
   "id": "4b990c5e",
   "metadata": {},
   "outputs": [],
   "source": [
    "seg = 0\n",
    "train_pos_path,test_pos_path,train_seg_path,test_seg_path,train_neg_path,test_neg_path = read_split(seg)"
   ]
  },
  {
   "cell_type": "code",
   "execution_count": 51,
   "id": "f2cc69c4",
   "metadata": {},
   "outputs": [],
   "source": [
    "paths = train_pos_path\n",
    "img_names = get_names(paths)\n",
    "count_dict = {}\n",
    "for i in range(1,881):\n",
    "    if i not in image_label_pair.keys():\n",
    "        continue\n",
    "    for l in image_label_pair[i]:\n",
    "        if l in count_dict.keys():\n",
    "            count_dict[l]+=1\n",
    "        else:\n",
    "            count_dict[l] = 1"
   ]
  },
  {
   "cell_type": "code",
   "execution_count": 121,
   "id": "477c4f2d",
   "metadata": {},
   "outputs": [],
   "source": [
    "X = np.array(list(image_label_pair.keys())).reshape(-1,1)\n",
    "y = list(image_label_pair.values())"
   ]
  },
  {
   "cell_type": "code",
   "execution_count": 122,
   "id": "9a714b6d",
   "metadata": {},
   "outputs": [],
   "source": [
    "one_hot = MultiLabelBinarizer()"
   ]
  },
  {
   "cell_type": "code",
   "execution_count": 123,
   "id": "b5299b16",
   "metadata": {
    "scrolled": true
   },
   "outputs": [],
   "source": [
    "X_train, y_train, X_test, y_test = iterative_train_test_split(X, one_hot.fit_transform(y), test_size = 0.1)\n"
   ]
  },
  {
   "cell_type": "code",
   "execution_count": 1,
   "id": "1d089ef5",
   "metadata": {},
   "outputs": [],
   "source": [
    "from sklearn.datasets import make_multilabel_classification\n",
    "X,Y = make_multilabel_classification(n_samples=100, n_classes=3, n_labels=2)"
   ]
  },
  {
   "cell_type": "code",
   "execution_count": 4,
   "id": "d19bfff5",
   "metadata": {},
   "outputs": [
    {
     "data": {
      "text/plain": [
       "array([[0., 1., 3., ..., 0., 1., 0.],\n",
       "       [0., 3., 4., ..., 0., 1., 0.],\n",
       "       [0., 4., 3., ..., 4., 0., 2.],\n",
       "       ...,\n",
       "       [0., 2., 4., ..., 4., 2., 0.],\n",
       "       [4., 3., 6., ..., 3., 1., 1.],\n",
       "       [4., 1., 6., ..., 2., 1., 3.]])"
      ]
     },
     "execution_count": 4,
     "metadata": {},
     "output_type": "execute_result"
    }
   ],
   "source": [
    "X"
   ]
  },
  {
   "cell_type": "code",
   "execution_count": 133,
   "id": "79c222a1",
   "metadata": {},
   "outputs": [
    {
     "data": {
      "text/plain": [
       "{'3': 751,\n",
       " '9': 45,\n",
       " '2': 45,\n",
       " '10': 45,\n",
       " '12': 44,\n",
       " '11': 45,\n",
       " '8': 45,\n",
       " '7': 45,\n",
       " '6': 43,\n",
       " '1': 45,\n",
       " '5': 31,\n",
       " '13': 44,\n",
       " '4': 45}"
      ]
     },
     "execution_count": 133,
     "metadata": {},
     "output_type": "execute_result"
    }
   ],
   "source": [
    "count_dict = {}\n",
    "for i in X_train:\n",
    "    i = i[0]\n",
    "    if i not in image_label_pair.keys():\n",
    "        continue\n",
    "    for l in image_label_pair[i]:\n",
    "        if l in count_dict.keys():\n",
    "            count_dict[l]+=1\n",
    "        else:\n",
    "            count_dict[l] = 1\n",
    "count_dict"
   ]
  },
  {
   "cell_type": "code",
   "execution_count": 132,
   "id": "0baf6b4f",
   "metadata": {},
   "outputs": [
    {
     "data": {
      "text/plain": [
       "(886, 1)"
      ]
     },
     "execution_count": 132,
     "metadata": {},
     "output_type": "execute_result"
    }
   ],
   "source": [
    "X_train.shape"
   ]
  },
  {
   "cell_type": "code",
   "execution_count": 128,
   "id": "20beec12",
   "metadata": {},
   "outputs": [
    {
     "data": {
      "text/plain": [
       "(985, 1)"
      ]
     },
     "execution_count": 128,
     "metadata": {},
     "output_type": "execute_result"
    }
   ],
   "source": [
    "X.shape"
   ]
  },
  {
   "cell_type": "code",
   "execution_count": 129,
   "id": "2f8d4a4e",
   "metadata": {},
   "outputs": [],
   "source": [
    "test = X_train.reshape(-1)"
   ]
  },
  {
   "cell_type": "code",
   "execution_count": 130,
   "id": "db31e630",
   "metadata": {},
   "outputs": [
    {
     "data": {
      "text/plain": [
       "886"
      ]
     },
     "execution_count": 130,
     "metadata": {},
     "output_type": "execute_result"
    }
   ],
   "source": [
    "len(np.unique(test))"
   ]
  },
  {
   "cell_type": "code",
   "execution_count": 144,
   "id": "51281494",
   "metadata": {},
   "outputs": [
    {
     "data": {
      "text/plain": [
       "['3', '12']"
      ]
     },
     "execution_count": 144,
     "metadata": {},
     "output_type": "execute_result"
    }
   ],
   "source": [
    "image_label_pair[844]"
   ]
  },
  {
   "cell_type": "code",
   "execution_count": 8,
   "id": "27d57f76",
   "metadata": {},
   "outputs": [
    {
     "data": {
      "text/plain": [
       "array([[[-1, -1, -1,  3,  4],\n",
       "        [ 5,  6,  7,  8,  9]],\n",
       "\n",
       "       [[10, 11, 12, 13, 14],\n",
       "        [15, 16, 17, 18, 19]]])"
      ]
     },
     "execution_count": 8,
     "metadata": {},
     "output_type": "execute_result"
    }
   ],
   "source": [
    "x = np.arange(20).reshape(2,2,5)\n",
    "y = np.where(x < 3 , -1,x)\n",
    "y"
   ]
  },
  {
   "cell_type": "code",
   "execution_count": 10,
   "id": "ceabda80",
   "metadata": {},
   "outputs": [
    {
     "ename": "ValueError",
     "evalue": "operands could not be broadcast together with shapes (2,2,5) (3,) (3,) ",
     "output_type": "error",
     "traceback": [
      "\u001b[1;31m---------------------------------------------------------------------------\u001b[0m",
      "\u001b[1;31mValueError\u001b[0m                                Traceback (most recent call last)",
      "Cell \u001b[1;32mIn [10], line 1\u001b[0m\n\u001b[1;32m----> 1\u001b[0m \u001b[43mnp\u001b[49m\u001b[38;5;241;43m.\u001b[39;49m\u001b[43mwhere\u001b[49m\u001b[43m(\u001b[49m\u001b[43my\u001b[49m\u001b[43m \u001b[49m\u001b[38;5;241;43m==\u001b[39;49m\u001b[43m \u001b[49m\u001b[38;5;241;43m-\u001b[39;49m\u001b[38;5;241;43m1\u001b[39;49m\u001b[43m \u001b[49m\u001b[43m,\u001b[49m\u001b[43m \u001b[49m\u001b[43mnp\u001b[49m\u001b[38;5;241;43m.\u001b[39;49m\u001b[43marray\u001b[49m\u001b[43m(\u001b[49m\u001b[43m[\u001b[49m\u001b[38;5;241;43m0\u001b[39;49m\u001b[43m,\u001b[49m\u001b[38;5;241;43m0\u001b[39;49m\u001b[43m,\u001b[49m\u001b[38;5;241;43m0\u001b[39;49m\u001b[43m]\u001b[49m\u001b[43m)\u001b[49m\u001b[43m,\u001b[49m\u001b[43mnp\u001b[49m\u001b[38;5;241;43m.\u001b[39;49m\u001b[43marray\u001b[49m\u001b[43m(\u001b[49m\u001b[43m[\u001b[49m\u001b[38;5;241;43m2\u001b[39;49m\u001b[43m,\u001b[49m\u001b[38;5;241;43m3\u001b[39;49m\u001b[43m,\u001b[49m\u001b[38;5;241;43m3\u001b[39;49m\u001b[43m]\u001b[49m\u001b[43m)\u001b[49m\u001b[43m \u001b[49m\u001b[43m)\u001b[49m\n",
      "File \u001b[1;32m<__array_function__ internals>:5\u001b[0m, in \u001b[0;36mwhere\u001b[1;34m(*args, **kwargs)\u001b[0m\n",
      "\u001b[1;31mValueError\u001b[0m: operands could not be broadcast together with shapes (2,2,5) (3,) (3,) "
     ]
    }
   ],
   "source": [
    "np.where(y == -1 , np.array([0,0,0]),np.array([2,3,3]) )"
   ]
  },
  {
   "cell_type": "code",
   "execution_count": null,
   "id": "e755e07a",
   "metadata": {},
   "outputs": [],
   "source": []
  }
 ],
 "metadata": {
  "kernelspec": {
   "display_name": "Python 3 (ipykernel)",
   "language": "python",
   "name": "python3"
  },
  "language_info": {
   "codemirror_mode": {
    "name": "ipython",
    "version": 3
   },
   "file_extension": ".py",
   "mimetype": "text/x-python",
   "name": "python",
   "nbconvert_exporter": "python",
   "pygments_lexer": "ipython3",
   "version": "3.8.15"
  }
 },
 "nbformat": 4,
 "nbformat_minor": 5
}
