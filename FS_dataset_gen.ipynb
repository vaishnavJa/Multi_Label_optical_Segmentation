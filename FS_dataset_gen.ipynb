{
 "cells": [
  {
   "cell_type": "code",
   "execution_count": 10,
   "id": "839c491d",
   "metadata": {},
   "outputs": [],
   "source": [
    "import numpy as np\n",
    "import pandas as pd\n",
    "import matplotlib.pyplot as plt\n",
    "import os\n",
    "%matplotlib inline\n",
    "import glob\n",
    "import pickle\n",
    "from sklearn.preprocessing import MultiLabelBinarizer"
   ]
  },
  {
   "cell_type": "code",
   "execution_count": 2,
   "id": "af502714",
   "metadata": {},
   "outputs": [],
   "source": [
    "img_path_prefix = \"E:/AI/FAPS/dataset/PA_Jakob_Roser_Datentrager/06_Datensatze/01_Images/Images_512x256/\"\n",
    "seg_path_prefix = \"E:/AI/FAPS/dataset/PA_Jakob_Roser_Datentrager/06_Datensatze/01_Masks/Masks_JPG_512x256/\""
   ]
  },
  {
   "cell_type": "code",
   "execution_count": 3,
   "id": "2296004a",
   "metadata": {},
   "outputs": [],
   "source": [
    "def gen_full_path(fnames,isMask=True,isPos = True):\n",
    "    \n",
    "    global img_path_prefix,seg_path_prefix\n",
    "    paths = []\n",
    "    prefix = seg_path_prefix if isMask else img_path_prefix \n",
    "    suffix = '.png' if isMask else '.jpg'\n",
    "    for f in fnames:\n",
    "        if not isPos:\n",
    "            if f not in range(1,601):\n",
    "                continue\n",
    "        else:\n",
    "            if f in range(1,601):\n",
    "                continue\n",
    "            \n",
    "#         print(f)\n",
    "        paths.append(f'{prefix}{f}{suffix}')\n",
    "    return paths    \n",
    "        "
   ]
  },
  {
   "cell_type": "code",
   "execution_count": 30,
   "id": "13b84560",
   "metadata": {},
   "outputs": [],
   "source": [
    "def gen_y_vals(img_names,image_label_pair):\n",
    "    \n",
    "    labels_trained = []\n",
    "    for i in img_names:\n",
    "        labels_trained.append(image_label_pair[i])\n",
    "    X,y = np.array(train_data).reshape(-1,1),labels_trained\n",
    "    one_hot = MultiLabelBinarizer()\n",
    "    y_vals = one_hot.fit_transform(y)\n",
    "    y_vals=np.delete(y_vals,2,axis = 1)\n",
    "    return y_vals\n",
    "   \n",
    "        "
   ]
  },
  {
   "cell_type": "code",
   "execution_count": 4,
   "id": "900da797",
   "metadata": {},
   "outputs": [],
   "source": [
    "train_data =  [1, 2, 3, 5, 6, 8, 11, 12, 14, 16, 17, 18, 19, 21, 22, 24, 27, 28, 30, 31, 32, 33, 34, 35, 37, 38, 41, 43, 44, 46, 47, 48, 49, 50, 51, 53, 54, 56, 57, 59, 60, 62, 63, 64, 65, 66, 67, 70, 72, 73, 75, 76, 78, 79, 81, 82, 83, 85, 86, 88, 89, 91, 92, 94, 95, 96, 98, 99, 101, 102, 104, 105, 107, 108, 111, 112, 113, 114, 115, 117, 120, 121, 123, 124, 126, 127, 128, 129, 130, 131, 133, 134, 136, 137, 139, 140, 142, 143, 144, 145, 146, 147, 149, 152, 153, 155, 156, 158, 159, 160, 161, 162, 163, 165, 166, 168, 171, 172, 174, 175, 176, 177, 178, 181, 182, 184, 185, 187, 188, 190, 191, 192, 193, 195, 197, 198, 200, 201, 203, 204, 206, 207, 208, 210, 211, 213, 214, 216, 217, 219, 220, 222, 223, 224, 225, 226, 227, 229, 230, 232, 233, 235, 236, 238, 240, 241, 242, 243, 245, 246, 248, 251, 252, 254, 255, 256, 257, 258, 259, 261, 262, 264, 265, 268, 270, 271, 272, 273, 274, 275, 277, 280, 281, 283, 284, 286, 287, 288, 289, 291, 293, 294, 296, 299, 300, 302, 303, 304, 305, 306, 307, 310, 312, 313, 315, 316, 318, 319, 321, 322, 323, 325, 326, 328, 329, 331, 332, 334, 335, 336, 337, 339, 341, 342, 344, 345, 347, 348, 350, 351, 352, 353, 354, 355, 357, 358, 360, 361, 363, 366, 367, 368, 369, 370, 371, 373, 374, 376, 377, 380, 382, 383, 384, 385, 386, 387, 389, 390, 392, 393, 396, 398, 399, 400, 401, 402, 403, 405, 406, 408, 409, 411, 412, 414, 416, 417, 418, 419, 421, 422, 424, 425, 427, 428, 430, 431, 432, 433, 434, 435, 437, 438, 440, 441, 443, 444, 446, 447, 448, 449, 450, 451, 453, 454, 456, 457, 459, 460, 462, 463, 464, 465, 466, 467, 469, 470, 472, 473, 475, 476, 478, 479, 480, 481, 482, 483, 485, 486, 488, 489, 491, 492, 494, 495, 496, 497, 498, 499, 501, 502, 504, 505, 507, 508, 510, 512, 513, 514, 515, 517, 518, 520, 521, 523, 524, 526, 527, 528, 529, 530, 531, 533, 534, 536, 537, 539, 540, 542, 543, 544, 545, 546, 547, 549, 550, 552, 553, 555, 558, 559, 561, 562, 563, 565, 566, 568, 569, 571, 572, 574, 575, 576, 577, 578, 579, 581, 582, 584, 585, 587, 588, 590, 591, 592, 593, 594, 595, 597, 598, 600, 601, 603, 604, 606, 607, 608, 609, 610, 611, 613, 616, 617, 619, 620, 622, 623, 624, 625, 626, 627, 629, 630, 632, 633, 635, 636, 638, 640, 641, 642, 643, 645, 646, 648, 649, 651, 652, 654, 655, 656, 657, 658, 659, 661, 662, 664, 665, 667, 668, 671, 672, 673, 674, 675, 678, 680, 681, 683, 684, 686, 687, 688, 689, 690, 691, 693, 694, 696, 697, 699, 702, 703, 704, 705, 706, 707, 709, 710, 712, 713, 715, 716, 718, 719, 720, 721, 722, 723, 725, 726, 728, 729, 731, 734, 735, 737, 738, 739, 741, 742, 744, 745, 747, 748, 750, 751, 752, 753, 754, 755, 757, 760, 761, 763, 764, 766, 767, 768, 769, 770, 773, 774, 777, 779, 780, 782, 783, 784, 785, 786, 787, 789, 790, 792, 793, 796, 798, 800, 801, 802, 805, 806, 808, 809, 811, 812, 814, 815, 816, 818, 819, 821, 822, 824, 825, 827, 828, 830, 831, 832, 833, 834, 837, 838, 840, 841, 843, 844, 846, 847, 848, 849, 850, 851, 853, 854, 855, 857, 859, 860, 862, 863, 864, 865, 866, 867, 870, 871, 872, 875, 876, 878, 879, 880, 881, 882, 883, 886, 888, 889, 891, 892, 894, 895, 896, 897, 898, 899, 901, 902, 904, 907, 908, 910, 911, 912, 913, 914, 915, 917, 918, 920, 921, 923, 924, 926, 927, 928, 929, 930, 931, 933, 934, 936, 937, 939, 940, 942, 944, 945, 946, 947, 949, 950, 952, 953, 955, 956, 957, 958, 959, 960, 961, 962, 963, 964, 965, 966, 968, 969, 971, 972, 974, 975, 976, 977, 978, 979, 981, 982, 984, 987, 988, 990, 991, 992, 995, 997, 998, 1000]"
   ]
  },
  {
   "cell_type": "code",
   "execution_count": 5,
   "id": "ddd16d36",
   "metadata": {},
   "outputs": [],
   "source": [
    "val_data = [9, 13, 25, 26, 40, 42, 58, 69, 74, 80, 90, 97, 106, 110, 119, 135, 150, 151, 167, 169, 179, 183, 194, 199, 209, 215, 231, 239, 247, 249, 263, 267, 278, 279, 290, 295, 308, 309, 320, 324, 338, 340, 356, 364, 372, 381, 395, 410, 415, 426, 442, 458, 474, 490, 506, 511, 522, 538, 554, 560, 612, 614, 637, 639, 669, 670, 679, 700, 730, 736, 756, 758, 775, 776, 794, 799, 810, 817, 835, 836, 852, 856, 869, 885, 887, 893, 903, 905, 935, 948, 967, 973, 983, 985, 993, 994]"
   ]
  },
  {
   "cell_type": "code",
   "execution_count": 6,
   "id": "473d4ae2",
   "metadata": {},
   "outputs": [],
   "source": [
    "test_data = [4, 7, 10, 15, 20, 23, 29, 36, 39, 45, 52, 55, 61, 68, 71, 77, 84, 87, 93, 100, 103, 109, 116, 118, 122, 125, 132, 138, 141, 148, 154, 157, 164, 170, 173, 180, 186, 189, 196, 202, 205, 212, 218, 221, 228, 234, 237, 244, 250, 253, 260, 266, 269, 276, 282, 285, 292, 297, 298, 301, 311, 314, 317, 327, 330, 333, 343, 346, 349, 359, 362, 365, 375, 378, 379, 388, 391, 394, 397, 404, 407, 413, 420, 423, 429, 436, 439, 445, 452, 455, 461, 468, 471, 477, 484, 487, 493, 500, 503, 509, 516, 519, 525, 532, 535, 541, 548, 551, 556, 557, 564, 567, 570, 573, 580, 583, 586, 589, 596, 599, 602, 605, 615, 618, 621, 628, 631, 634, 644, 647, 650, 653, 660, 663, 666, 676, 677, 682, 685, 692, 695, 698, 701, 708, 711, 714, 717, 724, 727, 732, 733, 740, 743, 746, 749, 759, 762, 765, 771, 772, 778, 781, 788, 791, 795, 797, 803, 804, 807, 813, 820, 823, 826, 829, 839, 842, 845, 858, 861, 868, 873, 874, 877, 884, 890, 900, 906, 909, 916, 919, 922, 925, 932, 938, 941, 943, 951, 954, 970, 980, 986, 989, 996, 999]"
   ]
  },
  {
   "cell_type": "code",
   "execution_count": 7,
   "id": "3920997d",
   "metadata": {},
   "outputs": [],
   "source": [
    "with open(f'labels/l_to_i.pyb', \"rb\") as fp:   #Pickling\n",
    "    label_image_pair = pickle.load(fp)\n",
    "with open(f'labels/i_l.pyb', \"rb\") as fp:   #Pickling\n",
    "    image_label_pair = pickle.load(fp)"
   ]
  },
  {
   "cell_type": "code",
   "execution_count": 31,
   "id": "4d424d74",
   "metadata": {},
   "outputs": [],
   "source": [
    "train_pos_path = gen_full_path(train_data,False)\n",
    "train_seg_path = gen_full_path(train_data)\n",
    "train_neg_path = gen_full_path(train_data,False,False)\n",
    "train_y_vals = gen_y_vals(train_data,image_label_pair)\n",
    "\n",
    "test_pos_path = gen_full_path(test_data,False)\n",
    "test_seg_path = gen_full_path(test_data)\n",
    "test_neg_path = gen_full_path(test_data,False,False)\n",
    "test_y_vals = gen_y_vals(test_data,image_label_pair)\n",
    "\n",
    "val_pos_path = gen_full_path(val_data,False)\n",
    "val_seg_path = gen_full_path(val_data)\n",
    "val_neg_path = gen_full_path(val_data,False,False)\n",
    "val_y_vals = gen_y_vals(val_data,image_label_pair)"
   ]
  },
  {
   "cell_type": "code",
   "execution_count": 34,
   "id": "f5edbe32",
   "metadata": {},
   "outputs": [],
   "source": [
    "val = [train_pos_path,\n",
    "       test_pos_path,\n",
    "       train_seg_path,\n",
    "       test_seg_path,\n",
    "       train_neg_path,\n",
    "       test_neg_path,\n",
    "       train_y_vals,\n",
    "       test_y_vals,\n",
    "       val_pos_path,\n",
    "       val_seg_path,\n",
    "       val_neg_path,\n",
    "       val_y_vals]"
   ]
  },
  {
   "cell_type": "code",
   "execution_count": 36,
   "id": "2d7b2d30",
   "metadata": {},
   "outputs": [
    {
     "data": {
      "text/plain": [
       "280"
      ]
     },
     "execution_count": 36,
     "metadata": {},
     "output_type": "execute_result"
    }
   ],
   "source": [
    "len(train_seg_path)"
   ]
  },
  {
   "cell_type": "code",
   "execution_count": 37,
   "id": "6aa7cf9d",
   "metadata": {},
   "outputs": [],
   "source": [
    "with open(\"splits/PA_M/split_280.pyb\",\"wb\") as f:\n",
    "    pickle.dump(val,f)"
   ]
  },
  {
   "cell_type": "code",
   "execution_count": 7,
   "id": "0e4d81c3",
   "metadata": {},
   "outputs": [],
   "source": [
    "with open(f'labels/l_to_i.pyb', \"rb\") as fp:   #Pickling\n",
    "    label_image_pair = pickle.load(fp)\n",
    "with open(f'labels/i_l.pyb', \"rb\") as fp:   #Pickling\n",
    "    image_label_pair = pickle.load(fp)"
   ]
  },
  {
   "cell_type": "code",
   "execution_count": 12,
   "id": "103a4923",
   "metadata": {},
   "outputs": [
    {
     "name": "stdout",
     "output_type": "stream",
     "text": [
      "False classification:  {'3': 81, '1': 5, '2': 5, '4': 5, '5': 5, '6': 6, '7': 5, '8': 4, '9': 5, '10': 5, '11': 5, '12': 5, '13': 5}\n"
     ]
    }
   ],
   "source": [
    "imgs = val_data\n",
    "\n",
    "count_dict = {}\n",
    "false_ls = []\n",
    "for i in imgs:\n",
    "    if i not in image_label_pair.keys():\n",
    "        continue\n",
    "    for l in image_label_pair[i]:\n",
    "        false_ls.append(int(l))\n",
    "        if l in count_dict.keys():\n",
    "            count_dict[l]+=1\n",
    "        else:\n",
    "            count_dict[l] = 1\n",
    "\n",
    "print('False classification: ',count_dict)\n"
   ]
  },
  {
   "cell_type": "code",
   "execution_count": 20,
   "id": "3b063c02",
   "metadata": {},
   "outputs": [],
   "source": [
    "X = np.array(list(image_label_pair.keys())).reshape(-1,1)\n",
    "y = list(image_label_pair.values())"
   ]
  },
  {
   "cell_type": "code",
   "execution_count": 26,
   "id": "63830775",
   "metadata": {},
   "outputs": [],
   "source": [
    "from skmultilearn.model_selection.iterative_stratification import iterative_train_test_split"
   ]
  },
  {
   "cell_type": "code",
   "execution_count": 56,
   "id": "087cac43",
   "metadata": {},
   "outputs": [
    {
     "ename": "NameError",
     "evalue": "name 'iterative_train_test_split' is not defined",
     "output_type": "error",
     "traceback": [
      "\u001b[1;31m---------------------------------------------------------------------------\u001b[0m",
      "\u001b[1;31mNameError\u001b[0m                                 Traceback (most recent call last)",
      "\u001b[1;32m~\\AppData\\Local\\Temp/ipykernel_5760/3829686275.py\u001b[0m in \u001b[0;36m<module>\u001b[1;34m\u001b[0m\n\u001b[0;32m      1\u001b[0m \u001b[0mone_hot\u001b[0m \u001b[1;33m=\u001b[0m \u001b[0mMultiLabelBinarizer\u001b[0m\u001b[1;33m(\u001b[0m\u001b[1;33m)\u001b[0m\u001b[1;33m\u001b[0m\u001b[1;33m\u001b[0m\u001b[0m\n\u001b[1;32m----> 2\u001b[1;33m \u001b[0mX_train\u001b[0m\u001b[1;33m,\u001b[0m \u001b[0my_train\u001b[0m\u001b[1;33m,\u001b[0m \u001b[0mX_test\u001b[0m\u001b[1;33m,\u001b[0m \u001b[0my_test\u001b[0m \u001b[1;33m=\u001b[0m \u001b[0miterative_train_test_split\u001b[0m\u001b[1;33m(\u001b[0m\u001b[0mX\u001b[0m\u001b[1;33m,\u001b[0m \u001b[0mone_hot\u001b[0m\u001b[1;33m.\u001b[0m\u001b[0mfit_transform\u001b[0m\u001b[1;33m(\u001b[0m\u001b[0my\u001b[0m\u001b[1;33m)\u001b[0m\u001b[1;33m,\u001b[0m \u001b[0mtest_size\u001b[0m \u001b[1;33m=\u001b[0m \u001b[1;36m0.1\u001b[0m\u001b[1;33m)\u001b[0m\u001b[1;33m\u001b[0m\u001b[1;33m\u001b[0m\u001b[0m\n\u001b[0m",
      "\u001b[1;31mNameError\u001b[0m: name 'iterative_train_test_split' is not defined"
     ]
    }
   ],
   "source": [
    "one_hot = MultiLabelBinarizer()\n",
    "X_train, y_train, X_test, y_test = iterative_train_test_split(X, one_hot.fit_transform(y), test_size = 0.1)"
   ]
  },
  {
   "cell_type": "code",
   "execution_count": null,
   "id": "2f0cd919",
   "metadata": {},
   "outputs": [],
   "source": []
  },
  {
   "cell_type": "code",
   "execution_count": 58,
   "id": "95b23ccb",
   "metadata": {},
   "outputs": [
    {
     "ename": "TypeError",
     "evalue": "'NoneType' object is not callable",
     "output_type": "error",
     "traceback": [
      "\u001b[1;31m---------------------------------------------------------------------------\u001b[0m",
      "\u001b[1;31mTypeError\u001b[0m                                 Traceback (most recent call last)",
      "\u001b[1;32m~\\AppData\\Local\\Temp/ipykernel_5760/3311932390.py\u001b[0m in \u001b[0;36m<module>\u001b[1;34m\u001b[0m\n\u001b[1;32m----> 1\u001b[1;33m \u001b[0mone_hot\u001b[0m\u001b[1;33m.\u001b[0m\u001b[0mclasses\u001b[0m\u001b[1;33m(\u001b[0m\u001b[1;33m)\u001b[0m\u001b[1;33m\u001b[0m\u001b[1;33m\u001b[0m\u001b[0m\n\u001b[0m",
      "\u001b[1;31mTypeError\u001b[0m: 'NoneType' object is not callable"
     ]
    }
   ],
   "source": [
    "one_hot."
   ]
  },
  {
   "cell_type": "code",
   "execution_count": null,
   "id": "98a3fb20",
   "metadata": {},
   "outputs": [],
   "source": []
  },
  {
   "cell_type": "code",
   "execution_count": 38,
   "id": "a940a33b",
   "metadata": {},
   "outputs": [],
   "source": [
    "x = np.arange(20).reshape(4,5) "
   ]
  },
  {
   "cell_type": "code",
   "execution_count": 42,
   "id": "88f3e485",
   "metadata": {},
   "outputs": [
    {
     "data": {
      "text/plain": [
       "array([[ 0,  1,  2,  3,  4],\n",
       "       [10, 11, 12, 13, 14],\n",
       "       [15, 16, 17, 18, 19]])"
      ]
     },
     "execution_count": 42,
     "metadata": {},
     "output_type": "execute_result"
    }
   ],
   "source": [
    "x[[0,2,3]]"
   ]
  },
  {
   "cell_type": "code",
   "execution_count": 48,
   "id": "acbfd3d5",
   "metadata": {},
   "outputs": [],
   "source": [
    "a,v = np.arange(20).reshape(4,5,1),np.array([1,2,3]).reshape(1,3)"
   ]
  },
  {
   "cell_type": "code",
   "execution_count": 64,
   "id": "08815129",
   "metadata": {},
   "outputs": [
    {
     "data": {
      "text/plain": [
       "(4, 5, 3)"
      ]
     },
     "execution_count": 64,
     "metadata": {},
     "output_type": "execute_result"
    }
   ],
   "source": [
    "np.squeeze((a*v)).shape"
   ]
  },
  {
   "cell_type": "code",
   "execution_count": 66,
   "id": "44c45faa",
   "metadata": {},
   "outputs": [
    {
     "data": {
      "text/plain": [
       "(2, 10)"
      ]
     },
     "execution_count": 66,
     "metadata": {},
     "output_type": "execute_result"
    }
   ],
   "source": [
    "np.squeeze(a.reshape(2,-1)).shape"
   ]
  },
  {
   "cell_type": "code",
   "execution_count": 51,
   "id": "3a6ca2d2",
   "metadata": {},
   "outputs": [
    {
     "data": {
      "text/plain": [
       "array([[1, 2, 3]])"
      ]
     },
     "execution_count": 51,
     "metadata": {},
     "output_type": "execute_result"
    }
   ],
   "source": [
    "v"
   ]
  },
  {
   "cell_type": "code",
   "execution_count": null,
   "id": "24588166",
   "metadata": {},
   "outputs": [],
   "source": []
  }
 ],
 "metadata": {
  "kernelspec": {
   "display_name": "Python 3 (ipykernel)",
   "language": "python",
   "name": "python3"
  },
  "language_info": {
   "codemirror_mode": {
    "name": "ipython",
    "version": 3
   },
   "file_extension": ".py",
   "mimetype": "text/x-python",
   "name": "python",
   "nbconvert_exporter": "python",
   "pygments_lexer": "ipython3",
   "version": "3.8.15"
  }
 },
 "nbformat": 4,
 "nbformat_minor": 5
}
