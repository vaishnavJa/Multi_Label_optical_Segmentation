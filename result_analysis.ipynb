{
 "cells": [
  {
   "cell_type": "code",
   "execution_count": 388,
   "metadata": {},
   "outputs": [],
   "source": [
    "import pandas as pd\n",
    "import numpy as np\n",
    "import cv2\n",
    "import matplotlib.pyplot as plt\n",
    "import os\n",
    "import pickle\n",
    "import re\n",
    "import glob\n",
    "from sklearn.metrics import f1_score,precision_score,recall_score\n",
    "\n",
    "%matplotlib inline"
   ]
  },
  {
   "cell_type": "code",
   "execution_count": 390,
   "metadata": {},
   "outputs": [],
   "source": [
    "runname = 'FS280_NO_WEGLOSS'\n",
    "testname = ''"
   ]
  },
  {
   "cell_type": "code",
   "execution_count": 391,
   "metadata": {},
   "outputs": [],
   "source": [
    "with open(f'./labels/l_to_i.pyb', \"rb\") as fp:   #Pickling\n",
    "    label_image_pair = pickle.load(fp)\n",
    "with open(f'./labels/i_l.pyb', \"rb\") as fp:   #Pickling\n",
    "    image_label_pair = pickle.load(fp)"
   ]
  },
  {
   "cell_type": "code",
   "execution_count": 392,
   "metadata": {},
   "outputs": [],
   "source": [
    "result_parent_path = '/home/woody/iwfa/iwfa024h/results/PA_M/'"
   ]
  },
  {
   "cell_type": "code",
   "execution_count": 368,
   "metadata": {},
   "outputs": [
    {
     "ename": "TypeError",
     "evalue": "'<' not supported between instances of 'str' and 'float'",
     "output_type": "error",
     "traceback": [
      "\u001b[0;31m---------------------------------------------------------------------------\u001b[0m",
      "\u001b[0;31mTypeError\u001b[0m                                 Traceback (most recent call last)",
      "\u001b[0;32m<ipython-input-368-53192be0e6ac>\u001b[0m in \u001b[0;36m<module>\u001b[0;34m\u001b[0m\n\u001b[1;32m     20\u001b[0m     \u001b[0mval_df_result\u001b[0m \u001b[0;34m=\u001b[0m \u001b[0mpd\u001b[0m\u001b[0;34m.\u001b[0m\u001b[0mread_csv\u001b[0m\u001b[0;34m(\u001b[0m\u001b[0mval_resultcsv_path\u001b[0m\u001b[0;34m)\u001b[0m\u001b[0;34m\u001b[0m\u001b[0;34m\u001b[0m\u001b[0m\n\u001b[1;32m     21\u001b[0m \u001b[0;34m\u001b[0m\u001b[0m\n\u001b[0;32m---> 22\u001b[0;31m     \u001b[0mtest_wrong_df\u001b[0m \u001b[0;34m=\u001b[0m \u001b[0mtest_df_result\u001b[0m\u001b[0;34m[\u001b[0m\u001b[0;34m(\u001b[0m\u001b[0mtest_df_result\u001b[0m\u001b[0;34m[\u001b[0m\u001b[0;34m'IOU'\u001b[0m\u001b[0;34m]\u001b[0m \u001b[0;34m<\u001b[0m \u001b[0;36m0.5\u001b[0m\u001b[0;34m)\u001b[0m\u001b[0;34m]\u001b[0m\u001b[0;34m.\u001b[0m\u001b[0msort_values\u001b[0m\u001b[0;34m(\u001b[0m\u001b[0;34m'IOU'\u001b[0m\u001b[0;34m)\u001b[0m\u001b[0;34m\u001b[0m\u001b[0;34m\u001b[0m\u001b[0m\n\u001b[0m\u001b[1;32m     23\u001b[0m     \u001b[0mval_wrong_df\u001b[0m \u001b[0;34m=\u001b[0m \u001b[0mval_df_result\u001b[0m\u001b[0;34m[\u001b[0m\u001b[0;34m(\u001b[0m\u001b[0mval_df_result\u001b[0m\u001b[0;34m[\u001b[0m\u001b[0;34m'IOU'\u001b[0m\u001b[0;34m]\u001b[0m \u001b[0;34m<\u001b[0m \u001b[0;36m0.5\u001b[0m\u001b[0;34m)\u001b[0m\u001b[0;34m]\u001b[0m\u001b[0;34m.\u001b[0m\u001b[0msort_values\u001b[0m\u001b[0;34m(\u001b[0m\u001b[0;34m'IOU'\u001b[0m\u001b[0;34m)\u001b[0m\u001b[0;34m\u001b[0m\u001b[0;34m\u001b[0m\u001b[0m\n\u001b[1;32m     24\u001b[0m \u001b[0;34m\u001b[0m\u001b[0m\n",
      "\u001b[0;32m~/.local/lib/python3.8/site-packages/pandas/core/ops/common.py\u001b[0m in \u001b[0;36mnew_method\u001b[0;34m(self, other)\u001b[0m\n\u001b[1;32m     62\u001b[0m         \u001b[0mother\u001b[0m \u001b[0;34m=\u001b[0m \u001b[0mitem_from_zerodim\u001b[0m\u001b[0;34m(\u001b[0m\u001b[0mother\u001b[0m\u001b[0;34m)\u001b[0m\u001b[0;34m\u001b[0m\u001b[0;34m\u001b[0m\u001b[0m\n\u001b[1;32m     63\u001b[0m \u001b[0;34m\u001b[0m\u001b[0m\n\u001b[0;32m---> 64\u001b[0;31m         \u001b[0;32mreturn\u001b[0m \u001b[0mmethod\u001b[0m\u001b[0;34m(\u001b[0m\u001b[0mself\u001b[0m\u001b[0;34m,\u001b[0m \u001b[0mother\u001b[0m\u001b[0;34m)\u001b[0m\u001b[0;34m\u001b[0m\u001b[0;34m\u001b[0m\u001b[0m\n\u001b[0m\u001b[1;32m     65\u001b[0m \u001b[0;34m\u001b[0m\u001b[0m\n\u001b[1;32m     66\u001b[0m     \u001b[0;32mreturn\u001b[0m \u001b[0mnew_method\u001b[0m\u001b[0;34m\u001b[0m\u001b[0;34m\u001b[0m\u001b[0m\n",
      "\u001b[0;32m~/.local/lib/python3.8/site-packages/pandas/core/ops/__init__.py\u001b[0m in \u001b[0;36mwrapper\u001b[0;34m(self, other)\u001b[0m\n\u001b[1;32m    527\u001b[0m         \u001b[0mrvalues\u001b[0m \u001b[0;34m=\u001b[0m \u001b[0mextract_array\u001b[0m\u001b[0;34m(\u001b[0m\u001b[0mother\u001b[0m\u001b[0;34m,\u001b[0m \u001b[0mextract_numpy\u001b[0m\u001b[0;34m=\u001b[0m\u001b[0;32mTrue\u001b[0m\u001b[0;34m)\u001b[0m\u001b[0;34m\u001b[0m\u001b[0;34m\u001b[0m\u001b[0m\n\u001b[1;32m    528\u001b[0m \u001b[0;34m\u001b[0m\u001b[0m\n\u001b[0;32m--> 529\u001b[0;31m         \u001b[0mres_values\u001b[0m \u001b[0;34m=\u001b[0m \u001b[0mcomparison_op\u001b[0m\u001b[0;34m(\u001b[0m\u001b[0mlvalues\u001b[0m\u001b[0;34m,\u001b[0m \u001b[0mrvalues\u001b[0m\u001b[0;34m,\u001b[0m \u001b[0mop\u001b[0m\u001b[0;34m)\u001b[0m\u001b[0;34m\u001b[0m\u001b[0;34m\u001b[0m\u001b[0m\n\u001b[0m\u001b[1;32m    530\u001b[0m \u001b[0;34m\u001b[0m\u001b[0m\n\u001b[1;32m    531\u001b[0m         \u001b[0;32mreturn\u001b[0m \u001b[0m_construct_result\u001b[0m\u001b[0;34m(\u001b[0m\u001b[0mself\u001b[0m\u001b[0;34m,\u001b[0m \u001b[0mres_values\u001b[0m\u001b[0;34m,\u001b[0m \u001b[0mindex\u001b[0m\u001b[0;34m=\u001b[0m\u001b[0mself\u001b[0m\u001b[0;34m.\u001b[0m\u001b[0mindex\u001b[0m\u001b[0;34m,\u001b[0m \u001b[0mname\u001b[0m\u001b[0;34m=\u001b[0m\u001b[0mres_name\u001b[0m\u001b[0;34m)\u001b[0m\u001b[0;34m\u001b[0m\u001b[0;34m\u001b[0m\u001b[0m\n",
      "\u001b[0;32m~/.local/lib/python3.8/site-packages/pandas/core/ops/array_ops.py\u001b[0m in \u001b[0;36mcomparison_op\u001b[0;34m(left, right, op)\u001b[0m\n\u001b[1;32m    245\u001b[0m \u001b[0;34m\u001b[0m\u001b[0m\n\u001b[1;32m    246\u001b[0m     \u001b[0;32melif\u001b[0m \u001b[0mis_object_dtype\u001b[0m\u001b[0;34m(\u001b[0m\u001b[0mlvalues\u001b[0m\u001b[0;34m.\u001b[0m\u001b[0mdtype\u001b[0m\u001b[0;34m)\u001b[0m\u001b[0;34m:\u001b[0m\u001b[0;34m\u001b[0m\u001b[0;34m\u001b[0m\u001b[0m\n\u001b[0;32m--> 247\u001b[0;31m         \u001b[0mres_values\u001b[0m \u001b[0;34m=\u001b[0m \u001b[0mcomp_method_OBJECT_ARRAY\u001b[0m\u001b[0;34m(\u001b[0m\u001b[0mop\u001b[0m\u001b[0;34m,\u001b[0m \u001b[0mlvalues\u001b[0m\u001b[0;34m,\u001b[0m \u001b[0mrvalues\u001b[0m\u001b[0;34m)\u001b[0m\u001b[0;34m\u001b[0m\u001b[0;34m\u001b[0m\u001b[0m\n\u001b[0m\u001b[1;32m    248\u001b[0m \u001b[0;34m\u001b[0m\u001b[0m\n\u001b[1;32m    249\u001b[0m     \u001b[0;32melse\u001b[0m\u001b[0;34m:\u001b[0m\u001b[0;34m\u001b[0m\u001b[0;34m\u001b[0m\u001b[0m\n",
      "\u001b[0;32m~/.local/lib/python3.8/site-packages/pandas/core/ops/array_ops.py\u001b[0m in \u001b[0;36mcomp_method_OBJECT_ARRAY\u001b[0;34m(op, x, y)\u001b[0m\n\u001b[1;32m     55\u001b[0m         \u001b[0mresult\u001b[0m \u001b[0;34m=\u001b[0m \u001b[0mlibops\u001b[0m\u001b[0;34m.\u001b[0m\u001b[0mvec_compare\u001b[0m\u001b[0;34m(\u001b[0m\u001b[0mx\u001b[0m\u001b[0;34m.\u001b[0m\u001b[0mravel\u001b[0m\u001b[0;34m(\u001b[0m\u001b[0;34m)\u001b[0m\u001b[0;34m,\u001b[0m \u001b[0my\u001b[0m\u001b[0;34m,\u001b[0m \u001b[0mop\u001b[0m\u001b[0;34m)\u001b[0m\u001b[0;34m\u001b[0m\u001b[0;34m\u001b[0m\u001b[0m\n\u001b[1;32m     56\u001b[0m     \u001b[0;32melse\u001b[0m\u001b[0;34m:\u001b[0m\u001b[0;34m\u001b[0m\u001b[0;34m\u001b[0m\u001b[0m\n\u001b[0;32m---> 57\u001b[0;31m         \u001b[0mresult\u001b[0m \u001b[0;34m=\u001b[0m \u001b[0mlibops\u001b[0m\u001b[0;34m.\u001b[0m\u001b[0mscalar_compare\u001b[0m\u001b[0;34m(\u001b[0m\u001b[0mx\u001b[0m\u001b[0;34m.\u001b[0m\u001b[0mravel\u001b[0m\u001b[0;34m(\u001b[0m\u001b[0;34m)\u001b[0m\u001b[0;34m,\u001b[0m \u001b[0my\u001b[0m\u001b[0;34m,\u001b[0m \u001b[0mop\u001b[0m\u001b[0;34m)\u001b[0m\u001b[0;34m\u001b[0m\u001b[0;34m\u001b[0m\u001b[0m\n\u001b[0m\u001b[1;32m     58\u001b[0m     \u001b[0;32mreturn\u001b[0m \u001b[0mresult\u001b[0m\u001b[0;34m.\u001b[0m\u001b[0mreshape\u001b[0m\u001b[0;34m(\u001b[0m\u001b[0mx\u001b[0m\u001b[0;34m.\u001b[0m\u001b[0mshape\u001b[0m\u001b[0;34m)\u001b[0m\u001b[0;34m\u001b[0m\u001b[0;34m\u001b[0m\u001b[0m\n\u001b[1;32m     59\u001b[0m \u001b[0;34m\u001b[0m\u001b[0m\n",
      "\u001b[0;32mpandas/_libs/ops.pyx\u001b[0m in \u001b[0;36mpandas._libs.ops.scalar_compare\u001b[0;34m()\u001b[0m\n",
      "\u001b[0;31mTypeError\u001b[0m: '<' not supported between instances of 'str' and 'float'"
     ]
    },
    {
     "data": {
      "image/png": "[encoded data removed]",
      "text/plain": [
       "<Figure size 720x720 with 4 Axes>"
      ]
     },
     "metadata": {
      "needs_background": "light"
     },
     "output_type": "display_data"
    }
   ],
   "source": [
    "fig,(ax1,ax2) = plt.subplots(2,2,figsize=(10,10))\n",
    "\n",
    "# thresholds = [0.1,0.2,0.3,0.4,0.5,0.6,0.7]\n",
    "# thresholds = [0.1]\n",
    "test_value = ''\n",
    "\n",
    "plot_threshold_mean = []\n",
    "plot_threshold_mean_pos = []\n",
    "plot_wrong_count = [] \n",
    "plot_label_count = []\n",
    "\n",
    "i=0\n",
    "for thresh in thresholds:\n",
    "\n",
    "    test_resultcsv_path = os.path.join(result_parent_path,runname,f'TRAIN_results{thresh*10}.csv').replace(\"\\\\\",'/')\n",
    "    val_resultcsv_path = os.path.join(result_parent_path,runname,f'VAL_results{thresh*10}.csv').replace(\"\\\\\",'/')\n",
    "\n",
    "\n",
    "    test_df_result = pd.read_csv(test_resultcsv_path)\n",
    "    val_df_result = pd.read_csv(val_resultcsv_path)\n",
    "\n",
    "    test_wrong_df = test_df_result[(test_df_result['IOU'] < 0.5)].sort_values('IOU')\n",
    "    val_wrong_df = val_df_result[(val_df_result['IOU'] < 0.5)].sort_values('IOU')\n",
    "\n",
    "#     print(wrong_df)\n",
    "#     print(\"thresh:\",i,f'wrong count:{wrong_df.shape[0]} %{wrong_df.shape[0]/df_result.shape[0]*100//1}')\n",
    "    plot_wrong_count.append([thresh,test_wrong_df.shape[0],test_df_result.IOU[(test_df_result['IOU'] < 0.7)].shape[0],\n",
    "                            val_wrong_df.shape[0],val_df_result.IOU[(val_df_result['IOU'] < 0.7)].shape[0]])\n",
    "\n",
    "    plot_threshold_mean.append([thresh,test_df_result.IOU.mean(),val_df_result.IOU.mean()])\n",
    "    plot_threshold_mean_pos.append([thresh,test_df_result.IOU[test_df_result.ground_truth != \"0.0,0.0,0.0,0.0,0.0,0.0,0.0,0.0,0.0,0.0,0.0,0.0\"].mean(),val_df_result.IOU[val_df_result.ground_truth != \"0.0,0.0,0.0,0.0,0.0,0.0,0.0,0.0,0.0,0.0,0.0,0.0\"].mean()])\n",
    "#     print('iou',df_result.IOU.mean(),'iou_positive:',df_result.IOU[df_result.ground_truth == True].mean())\n",
    "\n",
    "    test_imgs = []\n",
    "    for i in test_wrong_df.index:\n",
    "        img = test_wrong_df.loc[i].img_name\n",
    "        test_imgs.append(img)\n",
    "\n",
    "    val_imgs = []\n",
    "    for i in val_wrong_df.index:\n",
    "        img = val_wrong_df.loc[i].img_name\n",
    "        val_imgs.append(img)\n",
    "\n",
    "    count_dict = dict.fromkeys(list(label_image_pair.keys()),[0,0])\n",
    "\n",
    "#     img_dict = {}\n",
    "    false_ls = []\n",
    "    for i in test_imgs:\n",
    "        if i not in image_label_pair.keys():\n",
    "            continue\n",
    "        for l in image_label_pair[i]:\n",
    "            false_ls.append(int(l))\n",
    "            if l in count_dict.keys():\n",
    "                count_dict[l][0]+=1\n",
    "#                 img_dict[l].append(i)\n",
    "            else:\n",
    "                count_dict[l][0] = 1\n",
    "\n",
    "    false_ls = []\n",
    "    for i in val_imgs:\n",
    "        if i not in image_label_pair.keys():\n",
    "            continue\n",
    "        for l in image_label_pair[i]:\n",
    "            false_ls.append(int(l))\n",
    "            if l in count_dict.keys():\n",
    "                count_dict[l][1]+=1\n",
    "#                 img_dict[l].append(i)\n",
    "            else:\n",
    "                count_dict[l][1] = 1\n",
    "#                 img_dict[l] = [i]\n",
    "\n",
    "#     print('False classification: ',count_dict)\n",
    "    plot_label_count.append([thresh,count_dict.copy()])\n",
    "#     for l in np.sort(np.int32(list(count_dict.keys()))):\n",
    "#         print(l,count_dict[str(l)]/5)\n",
    "# df_result.loc[:,'ground_truth'] =  df_result.loc[:,'ground_truth'] == 1\n",
    "plot_threshold_mean = np.array(plot_threshold_mean)\n",
    "plot_threshold_mean_pos = np.array(plot_threshold_mean_pos)\n",
    "plot_wrong_count = np.array(plot_wrong_count)\n",
    "\n",
    "print('plot_threshold_mean','\\n\\n',plot_threshold_mean, '\\n\\n','plot_threshold_mean_pos','\\n\\n',plot_threshold_mean_pos,'\\n\\n','plot_wrong_count','\\n\\n',plot_wrong_count)\n",
    "\n",
    "#     plt.subplot(1,1)\n",
    "ax1[0].plot(plot_threshold_mean[:,0], plot_threshold_mean[:,1],label='all_test_'+test_value)\n",
    "ax1[0].plot(plot_threshold_mean_pos[:,0], plot_threshold_mean_pos[:,1],label='positive_test_'+test_value)\n",
    "ax1[0].scatter(plot_threshold_mean[:,0], plot_threshold_mean[:,1])\n",
    "ax1[0].scatter(plot_threshold_mean_pos[:,0], plot_threshold_mean_pos[:,1])\n",
    "\n",
    "ax1[1].plot(plot_threshold_mean[:,0], plot_threshold_mean[:,2],label='all_val_'+test_value)\n",
    "ax1[1].plot(plot_threshold_mean_pos[:,0], plot_threshold_mean_pos[:,2],label='positive_val_'+test_value)\n",
    "ax1[1].scatter(plot_threshold_mean[:,0], plot_threshold_mean[:,2])\n",
    "ax1[1].scatter(plot_threshold_mean_pos[:,0], plot_threshold_mean_pos[:,2])\n",
    "\n",
    "for c in [0,1]:   \n",
    "    ax1[c].legend()\n",
    "    ax1[c].set_xlabel('threshold')\n",
    "    ax1[c].set_ylabel('IOU mean')\n",
    "#     ax1[c].set_ylim(0,1)\n",
    "#     ax1.legend(loc=4)\n",
    "\n",
    "#     plt.subplot(2,1)\n",
    "ax2[0].plot(plot_wrong_count[:,0], plot_wrong_count[:,1],label='0.5_test_'+test_value)\n",
    "ax2[0].scatter(plot_wrong_count[:,0], plot_wrong_count[:,1])\n",
    "ax2[0].plot(plot_wrong_count[:,0], plot_wrong_count[:,2],label='0.7_test_'+test_value)\n",
    "ax2[0].scatter(plot_wrong_count[:,0], plot_wrong_count[:,2])\n",
    "\n",
    "ax2[1].plot(plot_wrong_count[:,0], plot_wrong_count[:,3],label='0.5_val_'+test_value)\n",
    "ax2[1].scatter(plot_wrong_count[:,0], plot_wrong_count[:,3])\n",
    "ax2[1].plot(plot_wrong_count[:,0], plot_wrong_count[:,4],label='0.7_val_'+test_value)\n",
    "ax2[1].scatter(plot_wrong_count[:,0], plot_wrong_count[:,4])\n",
    "\n",
    "for c in [0,1]:   \n",
    "    ax2[c].legend()\n",
    "    ax2[c].set_xlabel('threshold')\n",
    "    ax2[c].set_ylabel('count')\n",
    "#     ax2[c].set_ylim(0,204)\n",
    "plt.savefig('result.jpg')"
   ]
  },
  {
   "cell_type": "code",
   "execution_count": 520,
   "metadata": {},
   "outputs": [],
   "source": [
    "runname = 'FS280_NO_WEGLOSS'\n",
    "testname = ''\n",
    "\n",
    "thresh = 0.1\n",
    "\n",
    "# test_resultcsv_path = os.path.join(result_parent_path,runname,f'TEST_2_results{thresh*10}.csv').replace(\"\\\\\",'/')\n",
    "val_resultcsv_path = os.path.join(result_parent_path,runname,f'VAL_2_results{thresh*10}.csv').replace(\"\\\\\",'/')\n",
    "\n",
    "\n",
    "# test_df_result = pd.read_csv(test_resultcsv_path)\n",
    "val_df_result = pd.read_csv(val_resultcsv_path)"
   ]
  },
  {
   "cell_type": "code",
   "execution_count": 521,
   "metadata": {},
   "outputs": [],
   "source": [
    "ious = val_df_result.IOU.apply(lambda x: [float(i) for i in x.split(',')] )\n",
    "ground_truth = val_df_result.ground_truth.apply(lambda x: [float(i) for i in x.split(',')] )"
   ]
  },
  {
   "cell_type": "code",
   "execution_count": 522,
   "metadata": {},
   "outputs": [],
   "source": [
    "ious_neg = val_df_result[:60].IOU.apply(lambda x: [float(i) for i in x.split(',')] )"
   ]
  },
  {
   "cell_type": "code",
   "execution_count": 523,
   "metadata": {
    "scrolled": true
   },
   "outputs": [],
   "source": [
    "ious = np.concatenate([np.atleast_2d(a) for a in np.array(ious)],axis=0)\n",
    "ious_neg = np.concatenate([np.atleast_2d(a) for a in np.array(ious_neg)],axis=0)\n",
    "ground_truth = np.concatenate([np.atleast_2d(a) for a in np.array(ground_truth)],axis=0)"
   ]
  },
  {
   "cell_type": "code",
   "execution_count": 524,
   "metadata": {},
   "outputs": [],
   "source": [
    "counts = dict.fromkeys(np.arange(1,13,dtype = int),[])\n",
    "counts_neg = dict.fromkeys(np.arange(1,13,dtype = int),[])"
   ]
  },
  {
   "cell_type": "code",
   "execution_count": 525,
   "metadata": {},
   "outputs": [
    {
     "data": {
      "text/plain": [
       "(60, 12)"
      ]
     },
     "execution_count": 525,
     "metadata": {},
     "output_type": "execute_result"
    }
   ],
   "source": [
    "ious_neg.shape"
   ]
  },
  {
   "cell_type": "code",
   "execution_count": 526,
   "metadata": {
    "scrolled": true
   },
   "outputs": [],
   "source": [
    "\n",
    "for i in range(1,13):\n",
    "    counts[i] = ious[:,i-1][ground_truth[:,i-1] == 1]\n",
    "    counts_neg[i] = ious_neg[:,i-1]"
   ]
  },
  {
   "cell_type": "code",
   "execution_count": 530,
   "metadata": {},
   "outputs": [
    {
     "data": {
      "text/plain": [
       "([<matplotlib.axis.XTick at 0x7f2431c83eb0>,\n",
       "  <matplotlib.axis.XTick at 0x7f2431c83190>,\n",
       "  <matplotlib.axis.XTick at 0x7f2431c83c40>,\n",
       "  <matplotlib.axis.XTick at 0x7f2431c50520>,\n",
       "  <matplotlib.axis.XTick at 0x7f2431c50a30>,\n",
       "  <matplotlib.axis.XTick at 0x7f2431c50f40>,\n",
       "  <matplotlib.axis.XTick at 0x7f2431c500a0>,\n",
       "  <matplotlib.axis.XTick at 0x7f2431c57100>,\n",
       "  <matplotlib.axis.XTick at 0x7f2431c57640>,\n",
       "  <matplotlib.axis.XTick at 0x7f2431c57b50>,\n",
       "  <matplotlib.axis.XTick at 0x7f2431c5d0a0>,\n",
       "  <matplotlib.axis.XTick at 0x7f2431c5d5b0>],\n",
       " <a list of 12 Text major ticklabel objects>)"
      ]
     },
     "execution_count": 530,
     "metadata": {},
     "output_type": "execute_result"
    },
    {
     "data": {
      "image/png": "[encoded data removed]",
      "text/plain": [
       "<Figure size 864x288 with 1 Axes>"
      ]
     },
     "metadata": {
      "needs_background": "light"
     },
     "output_type": "display_data"
    }
   ],
   "source": [
    "plt.figure(figsize=(12,4))\n",
    "# plt.scatter(np.arange(1,13),np.mean(ious,0),c = 'red')\n",
    "for i in counts.keys():\n",
    "    plt.scatter(i,np.mean(counts[i]),c = 'blue')\n",
    "#     plt.scatter(i,np.mean(counts_neg[i]),c = 'green')\n",
    "plt.xlabel('Class Labels')\n",
    "plt.ylabel('IOU')\n",
    "plt.ylim(0,1)\n",
    "plt.xticks(range(1,13))"
   ]
  },
  {
   "cell_type": "code",
   "execution_count": 531,
   "metadata": {},
   "outputs": [],
   "source": [
    "pos_ious = []\n",
    "for i in counts.keys():\n",
    "    pos_ious = np.append(pos_ious,counts[i])"
   ]
  },
  {
   "cell_type": "code",
   "execution_count": 532,
   "metadata": {},
   "outputs": [
    {
     "data": {
      "text/plain": [
       "0.517"
      ]
     },
     "execution_count": 532,
     "metadata": {},
     "output_type": "execute_result"
    }
   ],
   "source": [
    "pos_ious.mean()"
   ]
  },
  {
   "cell_type": "code",
   "execution_count": 533,
   "metadata": {},
   "outputs": [
    {
     "data": {
      "text/plain": [
       "(0.0, 1.0)"
      ]
     },
     "execution_count": 533,
     "metadata": {},
     "output_type": "execute_result"
    },
    {
     "data": {
      "image/png": "[encoded data removed]",
      "text/plain": [
       "<Figure size 864x288 with 1 Axes>"
      ]
     },
     "metadata": {
      "needs_background": "light"
     },
     "output_type": "display_data"
    }
   ],
   "source": [
    "plt.figure(figsize=(12,4))\n",
    "for i in counts.keys():\n",
    "    plt.scatter(i,np.mean(counts[i]),c = 'red')\n",
    "plt.xlabel('Class Labels')\n",
    "plt.ylabel('IOU')\n",
    "plt.xticks(range(1,13))\n",
    "plt.ylim(0,1)"
   ]
  },
  {
   "cell_type": "code",
   "execution_count": 534,
   "metadata": {},
   "outputs": [],
   "source": [
    "counts2 = counts"
   ]
  },
  {
   "cell_type": "code",
   "execution_count": 329,
   "metadata": {},
   "outputs": [
    {
     "data": {
      "text/plain": [
       "(0.0, 1.0)"
      ]
     },
     "execution_count": 329,
     "metadata": {},
     "output_type": "execute_result"
    },
    {
     "data": {
      "image/png": "[encoded data removed]",
      "text/plain": [
       "<Figure size 864x288 with 1 Axes>"
      ]
     },
     "metadata": {
      "needs_background": "light"
     },
     "output_type": "display_data"
    }
   ],
   "source": [
    "plt.figure(figsize=(12,4))\n",
    "for i in counts.keys():\n",
    "    plt.scatter(i,np.mean(counts[i]),c = 'red')\n",
    "    plt.scatter(i,np.mean(counts[i]),c = 'blue')\n",
    "plt.xlabel('Class Labels')\n",
    "plt.ylabel('IOU')\n",
    "plt.xticks(range(1,13))\n",
    "plt.ylim(0,1)"
   ]
  },
  {
   "cell_type": "code",
   "execution_count": 316,
   "metadata": {},
   "outputs": [
    {
     "data": {
      "text/plain": [
       "(0.0, 1.0)"
      ]
     },
     "execution_count": 316,
     "metadata": {},
     "output_type": "execute_result"
    },
    {
     "data": {
      "image/png": "[encoded data removed]",
      "text/plain": [
       "<Figure size 864x288 with 1 Axes>"
      ]
     },
     "metadata": {
      "needs_background": "light"
     },
     "output_type": "display_data"
    }
   ],
   "source": [
    "plt.figure(figsize=(12,4))\n",
    "for i in counts.keys():\n",
    "    plt.scatter(i,np.mean(counts[i]),c = 'red')\n",
    "plt.xticks(range(1,13))\n",
    "plt.ylim(0,1)"
   ]
  },
  {
   "cell_type": "code",
   "execution_count": null,
   "metadata": {},
   "outputs": [],
   "source": [
    "val_df_result[val_df_result.img_name == ]"
   ]
  },
  {
   "cell_type": "code",
   "execution_count": 264,
   "metadata": {},
   "outputs": [
    {
     "data": {
      "text/plain": [
       "(0.0, 1.0)"
      ]
     },
     "execution_count": 264,
     "metadata": {},
     "output_type": "execute_result"
    },
    {
     "data": {
      "image/png": "[encoded data removed]",
      "text/plain": [
       "<Figure size 864x288 with 1 Axes>"
      ]
     },
     "metadata": {
      "needs_background": "light"
     },
     "output_type": "display_data"
    }
   ],
   "source": [
    "plt.figure(figsize=(12,4))\n",
    "for i in counts.keys():\n",
    "    plt.scatter(i,np.mean(counts[i]),c = 'red')\n",
    "plt.xticks(range(1,13))\n",
    "plt.ylim(0,1)"
   ]
  },
  {
   "cell_type": "code",
   "execution_count": 308,
   "metadata": {},
   "outputs": [
    {
     "data": {
      "text/html": [
       "<div>\n",
       "<style scoped>\n",
       "    .dataframe tbody tr th:only-of-type {\n",
       "        vertical-align: middle;\n",
       "    }\n",
       "\n",
       "    .dataframe tbody tr th {\n",
       "        vertical-align: top;\n",
       "    }\n",
       "\n",
       "    .dataframe thead th {\n",
       "        text-align: right;\n",
       "    }\n",
       "</style>\n",
       "<table border=\"1\" class=\"dataframe\">\n",
       "  <thead>\n",
       "    <tr style=\"text-align: right;\">\n",
       "      <th></th>\n",
       "      <th>prediction</th>\n",
       "      <th>IOU</th>\n",
       "      <th>ground_truth</th>\n",
       "      <th>fscore</th>\n",
       "      <th>img_name</th>\n",
       "    </tr>\n",
       "  </thead>\n",
       "  <tbody>\n",
       "    <tr>\n",
       "      <th>127</th>\n",
       "      <td>0.85,1.0,0.0,0.0,0.0,0.0,0.0,0.0,0.0,0.0,0.0,0.0</td>\n",
       "      <td>0.0,0.16,1.0,1.0,1.0,1.0,1.0,1.0,1.0,1.0,1.0,1.0</td>\n",
       "      <td>0,1,0,0,0,0,0,0,0,0,0,0</td>\n",
       "      <td>0.928571</td>\n",
       "      <td>634</td>\n",
       "    </tr>\n",
       "  </tbody>\n",
       "</table>\n",
       "</div>"
      ],
      "text/plain": [
       "                                           prediction  \\\n",
       "127  0.85,1.0,0.0,0.0,0.0,0.0,0.0,0.0,0.0,0.0,0.0,0.0   \n",
       "\n",
       "                                                  IOU  \\\n",
       "127  0.0,0.16,1.0,1.0,1.0,1.0,1.0,1.0,1.0,1.0,1.0,1.0   \n",
       "\n",
       "                ground_truth    fscore  img_name  \n",
       "127  0,1,0,0,0,0,0,0,0,0,0,0  0.928571       634  "
      ]
     },
     "execution_count": 308,
     "metadata": {},
     "output_type": "execute_result"
    }
   ],
   "source": [
    "test_df_result[test_df_result.img_name == 634]"
   ]
  },
  {
   "cell_type": "code",
   "execution_count": 181,
   "metadata": {},
   "outputs": [
    {
     "data": {
      "text/plain": [
       "array([601, 602, 603, 604, 605, 606, 607, 608, 609, 610, 611, 612, 613,\n",
       "       614, 615, 616, 617, 618, 619, 620, 621, 622, 623, 624, 625, 626,\n",
       "       627, 628, 629, 630, 881, 882, 883, 884, 885, 886, 887, 888, 889,\n",
       "       890, 941, 942, 943, 944, 945, 946, 981, 982, 983, 984])"
      ]
     },
     "execution_count": 181,
     "metadata": {},
     "output_type": "execute_result"
    }
   ],
   "source": [
    "np.sort(label_image_pair['1'])"
   ]
  },
  {
   "cell_type": "code",
   "execution_count": null,
   "metadata": {},
   "outputs": [],
   "source": []
  },
  {
   "cell_type": "code",
   "execution_count": null,
   "metadata": {},
   "outputs": [],
   "source": []
  },
  {
   "cell_type": "code",
   "execution_count": null,
   "metadata": {},
   "outputs": [],
   "source": []
  },
  {
   "cell_type": "code",
   "execution_count": null,
   "metadata": {},
   "outputs": [],
   "source": []
  },
  {
   "cell_type": "code",
   "execution_count": null,
   "metadata": {},
   "outputs": [],
   "source": []
  },
  {
   "cell_type": "code",
   "execution_count": null,
   "metadata": {},
   "outputs": [],
   "source": []
  },
  {
   "cell_type": "code",
   "execution_count": 126,
   "metadata": {},
   "outputs": [],
   "source": [
    "runname = 'FS280_BEST_3'\n",
    "testname = ''"
   ]
  },
  {
   "cell_type": "code",
   "execution_count": 127,
   "metadata": {},
   "outputs": [
    {
     "name": "stdout",
     "output_type": "stream",
     "text": [
      "plot_threshold_mean \n",
      "\n",
      " [[0.5        0.58823529 0.58823529]] \n",
      "\n",
      " plot_threshold_mean_pos \n",
      "\n",
      " [[5.00000000e-01 1.23539729e-09 1.23539729e-09]] \n",
      "\n",
      " plot_wrong_count \n",
      "\n",
      " [[ 0.5 84.  84.  84.  84. ]]\n"
     ]
    },
    {
     "data": {
      "image/png": "[encoded data removed]",
      "text/plain": [
       "<Figure size 720x720 with 4 Axes>"
      ]
     },
     "metadata": {
      "needs_background": "light"
     },
     "output_type": "display_data"
    }
   ],
   "source": [
    "fig,(ax1,ax2) = plt.subplots(2,2,figsize=(10,10))\n",
    "\n",
    "\n",
    "\n",
    "thresholds = [0.5]\n",
    "test_value = ''\n",
    "\n",
    "plot_threshold_mean = []\n",
    "plot_threshold_mean_pos = []\n",
    "plot_wrong_count = [] \n",
    "plot_label_count = []\n",
    "\n",
    "i=0\n",
    "for thresh in thresholds:\n",
    "    \n",
    "\n",
    "    test_resultcsv_path = os.path.join(result_parent_path,runname,f'_results{thresh*10}.csv').replace(\"\\\\\",'/')\n",
    "    val_resultcsv_path = os.path.join(result_parent_path,runname,f'_results{thresh*10}.csv').replace(\"\\\\\",'/')\n",
    "\n",
    "\n",
    "    test_df_result = pd.read_csv(test_resultcsv_path)\n",
    "    val_df_result = pd.read_csv(val_resultcsv_path)\n",
    "    \n",
    "#     test_df_result.columns = ['prediction','IOu', 'ground_truth', 'fscore', 'img_name']\n",
    "#     val_df_result.columns = ['prediction','fscore', 'ground_truth', 'IOU', 'img_name']\n",
    "\n",
    "    test_wrong_df = test_df_result[(test_df_result['IOU'] < 0.5)].sort_values('IOU')\n",
    "    val_wrong_df = val_df_result[(val_df_result['IOU'] < 0.5)].sort_values('IOU')\n",
    "\n",
    "#     print(wrong_df)\n",
    "#     print(\"thresh:\",i,f'wrong count:{wrong_df.shape[0]} %{wrong_df.shape[0]/df_result.shape[0]*100//1}')\n",
    "    plot_wrong_count.append([thresh,test_wrong_df.shape[0],test_df_result.IOU[(test_df_result['IOU'] < 0.7)].shape[0],\n",
    "                            val_wrong_df.shape[0],val_df_result.IOU[(val_df_result['IOU'] < 0.7)].shape[0]])\n",
    "\n",
    "    plot_threshold_mean.append([thresh,test_df_result.IOU.mean(),val_df_result.IOU.mean()])\n",
    "    plot_threshold_mean_pos.append([thresh,test_df_result.IOU[test_df_result.ground_truth != \"0.0,0.0,0.0,0.0,0.0,0.0,0.0,0.0,0.0,0.0,0.0,0.0\"].mean(),val_df_result.IOU[val_df_result.ground_truth != \"0.0,0.0,0.0,0.0,0.0,0.0,0.0,0.0,0.0,0.0,0.0,0.0\"].mean()])\n",
    "#     print('iou',df_result.IOU.mean(),'iou_positive:',df_result.IOU[df_result.ground_truth == True].mean())\n",
    "\n",
    "    test_imgs = []\n",
    "    for i in test_wrong_df.index:\n",
    "        img = test_wrong_df.loc[i].img_name\n",
    "        test_imgs.append(img)\n",
    "\n",
    "    val_imgs = []\n",
    "    for i in val_wrong_df.index:\n",
    "        img = val_wrong_df.loc[i].img_name\n",
    "        val_imgs.append(img)\n",
    "\n",
    "    count_dict = dict.fromkeys(list(label_image_pair.keys()),[0,0])\n",
    "\n",
    "#     img_dict = {}\n",
    "    false_ls = []\n",
    "    for i in test_imgs:\n",
    "        if i not in image_label_pair.keys():\n",
    "            continue\n",
    "        for l in image_label_pair[i]:\n",
    "            false_ls.append(int(l))\n",
    "            if l in count_dict.keys():\n",
    "                count_dict[l][0]+=1\n",
    "#                 img_dict[l].append(i)\n",
    "            else:\n",
    "                count_dict[l][0] = 1\n",
    "\n",
    "    false_ls = []\n",
    "    for i in val_imgs:\n",
    "        if i not in image_label_pair.keys():\n",
    "            continue\n",
    "        for l in image_label_pair[i]:\n",
    "            false_ls.append(int(l))\n",
    "            if l in count_dict.keys():\n",
    "                count_dict[l][1]+=1\n",
    "#                 img_dict[l].append(i)\n",
    "            else:\n",
    "                count_dict[l][1] = 1\n",
    "#                 img_dict[l] = [i]\n",
    "\n",
    "#     print('False classification: ',count_dict)\n",
    "    plot_label_count.append([thresh,count_dict.copy()])\n",
    "#     for l in np.sort(np.int32(list(count_dict.keys()))):\n",
    "#         print(l,count_dict[str(l)]/5)\n",
    "# df_result.loc[:,'ground_truth'] =  df_result.loc[:,'ground_truth'] == 1\n",
    "plot_threshold_mean = np.array(plot_threshold_mean)\n",
    "plot_threshold_mean_pos = np.array(plot_threshold_mean_pos)\n",
    "plot_wrong_count = np.array(plot_wrong_count)\n",
    "\n",
    "print('plot_threshold_mean','\\n\\n',plot_threshold_mean, '\\n\\n','plot_threshold_mean_pos','\\n\\n',plot_threshold_mean_pos,'\\n\\n','plot_wrong_count','\\n\\n',plot_wrong_count)\n",
    "\n",
    "#     plt.subplot(1,1)\n",
    "ax1[0].plot(plot_threshold_mean[:,0], plot_threshold_mean[:,1],label='all_test_'+test_value)\n",
    "ax1[0].plot(plot_threshold_mean_pos[:,0], plot_threshold_mean_pos[:,1],label='positive_test_'+test_value)\n",
    "ax1[0].scatter(plot_threshold_mean[:,0], plot_threshold_mean[:,1])\n",
    "ax1[0].scatter(plot_threshold_mean_pos[:,0], plot_threshold_mean_pos[:,1])\n",
    "\n",
    "ax1[1].plot(plot_threshold_mean[:,0], plot_threshold_mean[:,2],label='all_val_'+test_value)\n",
    "ax1[1].plot(plot_threshold_mean_pos[:,0], plot_threshold_mean_pos[:,2],label='positive_val_'+test_value)\n",
    "ax1[1].scatter(plot_threshold_mean[:,0], plot_threshold_mean[:,2])\n",
    "ax1[1].scatter(plot_threshold_mean_pos[:,0], plot_threshold_mean_pos[:,2])\n",
    "\n",
    "for c in [0,1]:   \n",
    "    ax1[c].legend()\n",
    "    ax1[c].set_xlabel('threshold')\n",
    "    ax1[c].set_ylabel('IOU mean')\n",
    "#     ax1[c].set_ylim(0,1)\n",
    "#     ax1.legend(loc=4)\n",
    "\n",
    "#     plt.subplot(2,1)\n",
    "ax2[0].plot(plot_wrong_count[:,0], plot_wrong_count[:,1],label='0.5_test_'+test_value)\n",
    "ax2[0].scatter(plot_wrong_count[:,0], plot_wrong_count[:,1])\n",
    "ax2[0].plot(plot_wrong_count[:,0], plot_wrong_count[:,2],label='0.7_test_'+test_value)\n",
    "ax2[0].scatter(plot_wrong_count[:,0], plot_wrong_count[:,2])\n",
    "\n",
    "ax2[1].plot(plot_wrong_count[:,0], plot_wrong_count[:,3],label='0.5_val_'+test_value)\n",
    "ax2[1].scatter(plot_wrong_count[:,0], plot_wrong_count[:,3])\n",
    "ax2[1].plot(plot_wrong_count[:,0], plot_wrong_count[:,4],label='0.7_val_'+test_value)\n",
    "ax2[1].scatter(plot_wrong_count[:,0], plot_wrong_count[:,4])\n",
    "\n",
    "for c in [0,1]:   \n",
    "    ax2[c].legend()\n",
    "    ax2[c].set_xlabel('threshold')\n",
    "    ax2[c].set_ylabel('count')\n",
    "#     ax2[c].set_ylim(0,204)\n",
    "plt.savefig('result.jpg')"
   ]
  },
  {
   "cell_type": "code",
   "execution_count": 92,
   "metadata": {
    "scrolled": true
   },
   "outputs": [
    {
     "data": {
      "text/html": [
       "<div>\n",
       "<style scoped>\n",
       "    .dataframe tbody tr th:only-of-type {\n",
       "        vertical-align: middle;\n",
       "    }\n",
       "\n",
       "    .dataframe tbody tr th {\n",
       "        vertical-align: top;\n",
       "    }\n",
       "\n",
       "    .dataframe thead th {\n",
       "        text-align: right;\n",
       "    }\n",
       "</style>\n",
       "<table border=\"1\" class=\"dataframe\">\n",
       "  <thead>\n",
       "    <tr style=\"text-align: right;\">\n",
       "      <th></th>\n",
       "      <th>prediction</th>\n",
       "      <th>IOU</th>\n",
       "      <th>ground_truth</th>\n",
       "      <th>fscore</th>\n",
       "      <th>img_name</th>\n",
       "    </tr>\n",
       "  </thead>\n",
       "  <tbody>\n",
       "    <tr>\n",
       "      <th>0</th>\n",
       "      <td>nan,nan,nan,nan,nan,nan,nan,nan,nan,nan,nan,nan</td>\n",
       "      <td>1.000000e+00</td>\n",
       "      <td>0.0,0.0,0.0,0.0,0.0,0.0,0.0,0.0,0.0,0.0,0.0,0.0</td>\n",
       "      <td>1.000000</td>\n",
       "      <td>4</td>\n",
       "    </tr>\n",
       "    <tr>\n",
       "      <th>1</th>\n",
       "      <td>nan,nan,nan,nan,nan,nan,nan,nan,nan,nan,nan,nan</td>\n",
       "      <td>1.000000e+00</td>\n",
       "      <td>0.0,0.0,0.0,0.0,0.0,0.0,0.0,0.0,0.0,0.0,0.0,0.0</td>\n",
       "      <td>1.000000</td>\n",
       "      <td>7</td>\n",
       "    </tr>\n",
       "    <tr>\n",
       "      <th>2</th>\n",
       "      <td>nan,nan,nan,nan,nan,nan,nan,nan,nan,nan,nan,nan</td>\n",
       "      <td>1.000000e+00</td>\n",
       "      <td>0.0,0.0,0.0,0.0,0.0,0.0,0.0,0.0,0.0,0.0,0.0,0.0</td>\n",
       "      <td>1.000000</td>\n",
       "      <td>10</td>\n",
       "    </tr>\n",
       "    <tr>\n",
       "      <th>3</th>\n",
       "      <td>nan,nan,nan,nan,nan,nan,nan,nan,nan,nan,nan,nan</td>\n",
       "      <td>1.000000e+00</td>\n",
       "      <td>0.0,0.0,0.0,0.0,0.0,0.0,0.0,0.0,0.0,0.0,0.0,0.0</td>\n",
       "      <td>1.000000</td>\n",
       "      <td>15</td>\n",
       "    </tr>\n",
       "    <tr>\n",
       "      <th>4</th>\n",
       "      <td>nan,nan,nan,nan,nan,nan,nan,nan,nan,nan,nan,nan</td>\n",
       "      <td>1.000000e+00</td>\n",
       "      <td>0.0,0.0,0.0,0.0,0.0,0.0,0.0,0.0,0.0,0.0,0.0,0.0</td>\n",
       "      <td>1.000000</td>\n",
       "      <td>20</td>\n",
       "    </tr>\n",
       "    <tr>\n",
       "      <th>...</th>\n",
       "      <td>...</td>\n",
       "      <td>...</td>\n",
       "      <td>...</td>\n",
       "      <td>...</td>\n",
       "      <td>...</td>\n",
       "    </tr>\n",
       "    <tr>\n",
       "      <th>199</th>\n",
       "      <td>nan,nan,nan,nan,nan,nan,nan,nan,nan,nan,nan,nan</td>\n",
       "      <td>1.794688e-10</td>\n",
       "      <td>0,0,0,0,0,0,0,0,0,0,1,1</td>\n",
       "      <td>0.757576</td>\n",
       "      <td>980</td>\n",
       "    </tr>\n",
       "    <tr>\n",
       "      <th>200</th>\n",
       "      <td>nan,nan,nan,nan,nan,nan,nan,nan,nan,nan,nan,nan</td>\n",
       "      <td>1.602821e-10</td>\n",
       "      <td>0,1,0,0,1,1,0,0,0,1,0,0</td>\n",
       "      <td>0.533333</td>\n",
       "      <td>986</td>\n",
       "    </tr>\n",
       "    <tr>\n",
       "      <th>201</th>\n",
       "      <td>nan,nan,nan,nan,nan,nan,nan,nan,nan,nan,nan,nan</td>\n",
       "      <td>6.852600e-11</td>\n",
       "      <td>0,0,1,1,0,0,0,0,0,1,0,1</td>\n",
       "      <td>0.533333</td>\n",
       "      <td>989</td>\n",
       "    </tr>\n",
       "    <tr>\n",
       "      <th>202</th>\n",
       "      <td>nan,nan,nan,nan,nan,nan,nan,nan,nan,nan,nan,nan</td>\n",
       "      <td>1.006543e-10</td>\n",
       "      <td>0,0,0,0,0,1,1,0,0,1,0,1</td>\n",
       "      <td>0.533333</td>\n",
       "      <td>996</td>\n",
       "    </tr>\n",
       "    <tr>\n",
       "      <th>203</th>\n",
       "      <td>nan,nan,nan,nan,nan,nan,nan,nan,nan,nan,nan,nan</td>\n",
       "      <td>1.696929e-10</td>\n",
       "      <td>0,0,0,0,0,0,0,1,1,1,0,1</td>\n",
       "      <td>0.533333</td>\n",
       "      <td>999</td>\n",
       "    </tr>\n",
       "  </tbody>\n",
       "</table>\n",
       "<p>204 rows × 5 columns</p>\n",
       "</div>"
      ],
      "text/plain": [
       "                                          prediction           IOU  \\\n",
       "0    nan,nan,nan,nan,nan,nan,nan,nan,nan,nan,nan,nan  1.000000e+00   \n",
       "1    nan,nan,nan,nan,nan,nan,nan,nan,nan,nan,nan,nan  1.000000e+00   \n",
       "2    nan,nan,nan,nan,nan,nan,nan,nan,nan,nan,nan,nan  1.000000e+00   \n",
       "3    nan,nan,nan,nan,nan,nan,nan,nan,nan,nan,nan,nan  1.000000e+00   \n",
       "4    nan,nan,nan,nan,nan,nan,nan,nan,nan,nan,nan,nan  1.000000e+00   \n",
       "..                                               ...           ...   \n",
       "199  nan,nan,nan,nan,nan,nan,nan,nan,nan,nan,nan,nan  1.794688e-10   \n",
       "200  nan,nan,nan,nan,nan,nan,nan,nan,nan,nan,nan,nan  1.602821e-10   \n",
       "201  nan,nan,nan,nan,nan,nan,nan,nan,nan,nan,nan,nan  6.852600e-11   \n",
       "202  nan,nan,nan,nan,nan,nan,nan,nan,nan,nan,nan,nan  1.006543e-10   \n",
       "203  nan,nan,nan,nan,nan,nan,nan,nan,nan,nan,nan,nan  1.696929e-10   \n",
       "\n",
       "                                        ground_truth    fscore  img_name  \n",
       "0    0.0,0.0,0.0,0.0,0.0,0.0,0.0,0.0,0.0,0.0,0.0,0.0  1.000000         4  \n",
       "1    0.0,0.0,0.0,0.0,0.0,0.0,0.0,0.0,0.0,0.0,0.0,0.0  1.000000         7  \n",
       "2    0.0,0.0,0.0,0.0,0.0,0.0,0.0,0.0,0.0,0.0,0.0,0.0  1.000000        10  \n",
       "3    0.0,0.0,0.0,0.0,0.0,0.0,0.0,0.0,0.0,0.0,0.0,0.0  1.000000        15  \n",
       "4    0.0,0.0,0.0,0.0,0.0,0.0,0.0,0.0,0.0,0.0,0.0,0.0  1.000000        20  \n",
       "..                                               ...       ...       ...  \n",
       "199                          0,0,0,0,0,0,0,0,0,0,1,1  0.757576       980  \n",
       "200                          0,1,0,0,1,1,0,0,0,1,0,0  0.533333       986  \n",
       "201                          0,0,1,1,0,0,0,0,0,1,0,1  0.533333       989  \n",
       "202                          0,0,0,0,0,1,1,0,0,1,0,1  0.533333       996  \n",
       "203                          0,0,0,0,0,0,0,1,1,1,0,1  0.533333       999  \n",
       "\n",
       "[204 rows x 5 columns]"
      ]
     },
     "execution_count": 92,
     "metadata": {},
     "output_type": "execute_result"
    }
   ],
   "source": [
    "test_df_result"
   ]
  },
  {
   "cell_type": "code",
   "execution_count": 36,
   "metadata": {},
   "outputs": [
    {
     "ename": "AttributeError",
     "evalue": "'DataFrame' object has no attribute 'column'",
     "output_type": "error",
     "traceback": [
      "\u001b[0;31m---------------------------------------------------------------------------\u001b[0m",
      "\u001b[0;31mAttributeError\u001b[0m                            Traceback (most recent call last)",
      "\u001b[0;32m<ipython-input-36-8a2d547cf432>\u001b[0m in \u001b[0;36m<module>\u001b[0;34m\u001b[0m\n\u001b[0;32m----> 1\u001b[0;31m \u001b[0mtest_df_result\u001b[0m\u001b[0;34m.\u001b[0m\u001b[0mcolumn\u001b[0m\u001b[0;34m\u001b[0m\u001b[0;34m\u001b[0m\u001b[0m\n\u001b[0m",
      "\u001b[0;32m~/.local/lib/python3.8/site-packages/pandas/core/generic.py\u001b[0m in \u001b[0;36m__getattr__\u001b[0;34m(self, name)\u001b[0m\n\u001b[1;32m   5272\u001b[0m             \u001b[0;32mif\u001b[0m \u001b[0mself\u001b[0m\u001b[0;34m.\u001b[0m\u001b[0m_info_axis\u001b[0m\u001b[0;34m.\u001b[0m\u001b[0m_can_hold_identifiers_and_holds_name\u001b[0m\u001b[0;34m(\u001b[0m\u001b[0mname\u001b[0m\u001b[0;34m)\u001b[0m\u001b[0;34m:\u001b[0m\u001b[0;34m\u001b[0m\u001b[0;34m\u001b[0m\u001b[0m\n\u001b[1;32m   5273\u001b[0m                 \u001b[0;32mreturn\u001b[0m \u001b[0mself\u001b[0m\u001b[0;34m[\u001b[0m\u001b[0mname\u001b[0m\u001b[0;34m]\u001b[0m\u001b[0;34m\u001b[0m\u001b[0;34m\u001b[0m\u001b[0m\n\u001b[0;32m-> 5274\u001b[0;31m             \u001b[0;32mreturn\u001b[0m \u001b[0mobject\u001b[0m\u001b[0;34m.\u001b[0m\u001b[0m__getattribute__\u001b[0m\u001b[0;34m(\u001b[0m\u001b[0mself\u001b[0m\u001b[0;34m,\u001b[0m \u001b[0mname\u001b[0m\u001b[0;34m)\u001b[0m\u001b[0;34m\u001b[0m\u001b[0;34m\u001b[0m\u001b[0m\n\u001b[0m\u001b[1;32m   5275\u001b[0m \u001b[0;34m\u001b[0m\u001b[0m\n\u001b[1;32m   5276\u001b[0m     \u001b[0;32mdef\u001b[0m \u001b[0m__setattr__\u001b[0m\u001b[0;34m(\u001b[0m\u001b[0mself\u001b[0m\u001b[0;34m,\u001b[0m \u001b[0mname\u001b[0m\u001b[0;34m:\u001b[0m \u001b[0mstr\u001b[0m\u001b[0;34m,\u001b[0m \u001b[0mvalue\u001b[0m\u001b[0;34m)\u001b[0m \u001b[0;34m->\u001b[0m \u001b[0;32mNone\u001b[0m\u001b[0;34m:\u001b[0m\u001b[0;34m\u001b[0m\u001b[0;34m\u001b[0m\u001b[0m\n",
      "\u001b[0;31mAttributeError\u001b[0m: 'DataFrame' object has no attribute 'column'"
     ]
    }
   ],
   "source": [
    "test_df_result.column"
   ]
  },
  {
   "cell_type": "code",
   "execution_count": 37,
   "metadata": {
    "scrolled": false
   },
   "outputs": [
    {
     "ename": "FileNotFoundError",
     "evalue": "[Errno 2] File /home/woody/iwfa/iwfa024h/results/PA_M/FS280_BEST/c/TEST/results1.0.csv does not exist: '/home/woody/iwfa/iwfa024h/results/PA_M/FS280_BEST/c/TEST/results1.0.csv'",
     "output_type": "error",
     "traceback": [
      "\u001b[0;31m---------------------------------------------------------------------------\u001b[0m",
      "\u001b[0;31mFileNotFoundError\u001b[0m                         Traceback (most recent call last)",
      "\u001b[0;32m<ipython-input-37-880751818dd8>\u001b[0m in \u001b[0;36m<module>\u001b[0;34m\u001b[0m\n\u001b[1;32m     31\u001b[0m             \u001b[0mval_resultcsv_path\u001b[0m \u001b[0;34m=\u001b[0m \u001b[0mos\u001b[0m\u001b[0;34m.\u001b[0m\u001b[0mpath\u001b[0m\u001b[0;34m.\u001b[0m\u001b[0mjoin\u001b[0m\u001b[0;34m(\u001b[0m\u001b[0mresult_parent_path\u001b[0m\u001b[0;34m,\u001b[0m\u001b[0mrunname\u001b[0m\u001b[0;34m,\u001b[0m\u001b[0mtestname\u001b[0m\u001b[0;34m,\u001b[0m\u001b[0mtest_value\u001b[0m\u001b[0;34m,\u001b[0m\u001b[0;34m'VAL'\u001b[0m\u001b[0;34m,\u001b[0m\u001b[0;34mf'results{thresh*10}.csv'\u001b[0m\u001b[0;34m)\u001b[0m\u001b[0;34m.\u001b[0m\u001b[0mreplace\u001b[0m\u001b[0;34m(\u001b[0m\u001b[0;34m\"\\\\\"\u001b[0m\u001b[0;34m,\u001b[0m\u001b[0;34m'/'\u001b[0m\u001b[0;34m)\u001b[0m\u001b[0;34m\u001b[0m\u001b[0;34m\u001b[0m\u001b[0m\n\u001b[1;32m     32\u001b[0m \u001b[0;34m\u001b[0m\u001b[0m\n\u001b[0;32m---> 33\u001b[0;31m         \u001b[0mtest_df_result\u001b[0m \u001b[0;34m=\u001b[0m \u001b[0mpd\u001b[0m\u001b[0;34m.\u001b[0m\u001b[0mread_csv\u001b[0m\u001b[0;34m(\u001b[0m\u001b[0mtest_resultcsv_path\u001b[0m\u001b[0;34m)\u001b[0m\u001b[0;34m\u001b[0m\u001b[0;34m\u001b[0m\u001b[0m\n\u001b[0m\u001b[1;32m     34\u001b[0m         \u001b[0mval_df_result\u001b[0m \u001b[0;34m=\u001b[0m \u001b[0mpd\u001b[0m\u001b[0;34m.\u001b[0m\u001b[0mread_csv\u001b[0m\u001b[0;34m(\u001b[0m\u001b[0mval_resultcsv_path\u001b[0m\u001b[0;34m)\u001b[0m\u001b[0;34m\u001b[0m\u001b[0;34m\u001b[0m\u001b[0m\n\u001b[1;32m     35\u001b[0m \u001b[0;34m\u001b[0m\u001b[0m\n",
      "\u001b[0;32m~/.local/lib/python3.8/site-packages/pandas/io/parsers.py\u001b[0m in \u001b[0;36mparser_f\u001b[0;34m(filepath_or_buffer, sep, delimiter, header, names, index_col, usecols, squeeze, prefix, mangle_dupe_cols, dtype, engine, converters, true_values, false_values, skipinitialspace, skiprows, skipfooter, nrows, na_values, keep_default_na, na_filter, verbose, skip_blank_lines, parse_dates, infer_datetime_format, keep_date_col, date_parser, dayfirst, cache_dates, iterator, chunksize, compression, thousands, decimal, lineterminator, quotechar, quoting, doublequote, escapechar, comment, encoding, dialect, error_bad_lines, warn_bad_lines, delim_whitespace, low_memory, memory_map, float_precision)\u001b[0m\n\u001b[1;32m    674\u001b[0m         )\n\u001b[1;32m    675\u001b[0m \u001b[0;34m\u001b[0m\u001b[0m\n\u001b[0;32m--> 676\u001b[0;31m         \u001b[0;32mreturn\u001b[0m \u001b[0m_read\u001b[0m\u001b[0;34m(\u001b[0m\u001b[0mfilepath_or_buffer\u001b[0m\u001b[0;34m,\u001b[0m \u001b[0mkwds\u001b[0m\u001b[0;34m)\u001b[0m\u001b[0;34m\u001b[0m\u001b[0;34m\u001b[0m\u001b[0m\n\u001b[0m\u001b[1;32m    677\u001b[0m \u001b[0;34m\u001b[0m\u001b[0m\n\u001b[1;32m    678\u001b[0m     \u001b[0mparser_f\u001b[0m\u001b[0;34m.\u001b[0m\u001b[0m__name__\u001b[0m \u001b[0;34m=\u001b[0m \u001b[0mname\u001b[0m\u001b[0;34m\u001b[0m\u001b[0;34m\u001b[0m\u001b[0m\n",
      "\u001b[0;32m~/.local/lib/python3.8/site-packages/pandas/io/parsers.py\u001b[0m in \u001b[0;36m_read\u001b[0;34m(filepath_or_buffer, kwds)\u001b[0m\n\u001b[1;32m    446\u001b[0m \u001b[0;34m\u001b[0m\u001b[0m\n\u001b[1;32m    447\u001b[0m     \u001b[0;31m# Create the parser.\u001b[0m\u001b[0;34m\u001b[0m\u001b[0;34m\u001b[0m\u001b[0;34m\u001b[0m\u001b[0m\n\u001b[0;32m--> 448\u001b[0;31m     \u001b[0mparser\u001b[0m \u001b[0;34m=\u001b[0m \u001b[0mTextFileReader\u001b[0m\u001b[0;34m(\u001b[0m\u001b[0mfp_or_buf\u001b[0m\u001b[0;34m,\u001b[0m \u001b[0;34m**\u001b[0m\u001b[0mkwds\u001b[0m\u001b[0;34m)\u001b[0m\u001b[0;34m\u001b[0m\u001b[0;34m\u001b[0m\u001b[0m\n\u001b[0m\u001b[1;32m    449\u001b[0m \u001b[0;34m\u001b[0m\u001b[0m\n\u001b[1;32m    450\u001b[0m     \u001b[0;32mif\u001b[0m \u001b[0mchunksize\u001b[0m \u001b[0;32mor\u001b[0m \u001b[0miterator\u001b[0m\u001b[0;34m:\u001b[0m\u001b[0;34m\u001b[0m\u001b[0;34m\u001b[0m\u001b[0m\n",
      "\u001b[0;32m~/.local/lib/python3.8/site-packages/pandas/io/parsers.py\u001b[0m in \u001b[0;36m__init__\u001b[0;34m(self, f, engine, **kwds)\u001b[0m\n\u001b[1;32m    878\u001b[0m             \u001b[0mself\u001b[0m\u001b[0;34m.\u001b[0m\u001b[0moptions\u001b[0m\u001b[0;34m[\u001b[0m\u001b[0;34m\"has_index_names\"\u001b[0m\u001b[0;34m]\u001b[0m \u001b[0;34m=\u001b[0m \u001b[0mkwds\u001b[0m\u001b[0;34m[\u001b[0m\u001b[0;34m\"has_index_names\"\u001b[0m\u001b[0;34m]\u001b[0m\u001b[0;34m\u001b[0m\u001b[0;34m\u001b[0m\u001b[0m\n\u001b[1;32m    879\u001b[0m \u001b[0;34m\u001b[0m\u001b[0m\n\u001b[0;32m--> 880\u001b[0;31m         \u001b[0mself\u001b[0m\u001b[0;34m.\u001b[0m\u001b[0m_make_engine\u001b[0m\u001b[0;34m(\u001b[0m\u001b[0mself\u001b[0m\u001b[0;34m.\u001b[0m\u001b[0mengine\u001b[0m\u001b[0;34m)\u001b[0m\u001b[0;34m\u001b[0m\u001b[0;34m\u001b[0m\u001b[0m\n\u001b[0m\u001b[1;32m    881\u001b[0m \u001b[0;34m\u001b[0m\u001b[0m\n\u001b[1;32m    882\u001b[0m     \u001b[0;32mdef\u001b[0m \u001b[0mclose\u001b[0m\u001b[0;34m(\u001b[0m\u001b[0mself\u001b[0m\u001b[0;34m)\u001b[0m\u001b[0;34m:\u001b[0m\u001b[0;34m\u001b[0m\u001b[0;34m\u001b[0m\u001b[0m\n",
      "\u001b[0;32m~/.local/lib/python3.8/site-packages/pandas/io/parsers.py\u001b[0m in \u001b[0;36m_make_engine\u001b[0;34m(self, engine)\u001b[0m\n\u001b[1;32m   1112\u001b[0m     \u001b[0;32mdef\u001b[0m \u001b[0m_make_engine\u001b[0m\u001b[0;34m(\u001b[0m\u001b[0mself\u001b[0m\u001b[0;34m,\u001b[0m \u001b[0mengine\u001b[0m\u001b[0;34m=\u001b[0m\u001b[0;34m\"c\"\u001b[0m\u001b[0;34m)\u001b[0m\u001b[0;34m:\u001b[0m\u001b[0;34m\u001b[0m\u001b[0;34m\u001b[0m\u001b[0m\n\u001b[1;32m   1113\u001b[0m         \u001b[0;32mif\u001b[0m \u001b[0mengine\u001b[0m \u001b[0;34m==\u001b[0m \u001b[0;34m\"c\"\u001b[0m\u001b[0;34m:\u001b[0m\u001b[0;34m\u001b[0m\u001b[0;34m\u001b[0m\u001b[0m\n\u001b[0;32m-> 1114\u001b[0;31m             \u001b[0mself\u001b[0m\u001b[0;34m.\u001b[0m\u001b[0m_engine\u001b[0m \u001b[0;34m=\u001b[0m \u001b[0mCParserWrapper\u001b[0m\u001b[0;34m(\u001b[0m\u001b[0mself\u001b[0m\u001b[0;34m.\u001b[0m\u001b[0mf\u001b[0m\u001b[0;34m,\u001b[0m \u001b[0;34m**\u001b[0m\u001b[0mself\u001b[0m\u001b[0;34m.\u001b[0m\u001b[0moptions\u001b[0m\u001b[0;34m)\u001b[0m\u001b[0;34m\u001b[0m\u001b[0;34m\u001b[0m\u001b[0m\n\u001b[0m\u001b[1;32m   1115\u001b[0m         \u001b[0;32melse\u001b[0m\u001b[0;34m:\u001b[0m\u001b[0;34m\u001b[0m\u001b[0;34m\u001b[0m\u001b[0m\n\u001b[1;32m   1116\u001b[0m             \u001b[0;32mif\u001b[0m \u001b[0mengine\u001b[0m \u001b[0;34m==\u001b[0m \u001b[0;34m\"python\"\u001b[0m\u001b[0;34m:\u001b[0m\u001b[0;34m\u001b[0m\u001b[0;34m\u001b[0m\u001b[0m\n",
      "\u001b[0;32m~/.local/lib/python3.8/site-packages/pandas/io/parsers.py\u001b[0m in \u001b[0;36m__init__\u001b[0;34m(self, src, **kwds)\u001b[0m\n\u001b[1;32m   1889\u001b[0m         \u001b[0mkwds\u001b[0m\u001b[0;34m[\u001b[0m\u001b[0;34m\"usecols\"\u001b[0m\u001b[0;34m]\u001b[0m \u001b[0;34m=\u001b[0m \u001b[0mself\u001b[0m\u001b[0;34m.\u001b[0m\u001b[0musecols\u001b[0m\u001b[0;34m\u001b[0m\u001b[0;34m\u001b[0m\u001b[0m\n\u001b[1;32m   1890\u001b[0m \u001b[0;34m\u001b[0m\u001b[0m\n\u001b[0;32m-> 1891\u001b[0;31m         \u001b[0mself\u001b[0m\u001b[0;34m.\u001b[0m\u001b[0m_reader\u001b[0m \u001b[0;34m=\u001b[0m \u001b[0mparsers\u001b[0m\u001b[0;34m.\u001b[0m\u001b[0mTextReader\u001b[0m\u001b[0;34m(\u001b[0m\u001b[0msrc\u001b[0m\u001b[0;34m,\u001b[0m \u001b[0;34m**\u001b[0m\u001b[0mkwds\u001b[0m\u001b[0;34m)\u001b[0m\u001b[0;34m\u001b[0m\u001b[0;34m\u001b[0m\u001b[0m\n\u001b[0m\u001b[1;32m   1892\u001b[0m         \u001b[0mself\u001b[0m\u001b[0;34m.\u001b[0m\u001b[0munnamed_cols\u001b[0m \u001b[0;34m=\u001b[0m \u001b[0mself\u001b[0m\u001b[0;34m.\u001b[0m\u001b[0m_reader\u001b[0m\u001b[0;34m.\u001b[0m\u001b[0munnamed_cols\u001b[0m\u001b[0;34m\u001b[0m\u001b[0;34m\u001b[0m\u001b[0m\n\u001b[1;32m   1893\u001b[0m \u001b[0;34m\u001b[0m\u001b[0m\n",
      "\u001b[0;32mpandas/_libs/parsers.pyx\u001b[0m in \u001b[0;36mpandas._libs.parsers.TextReader.__cinit__\u001b[0;34m()\u001b[0m\n",
      "\u001b[0;32mpandas/_libs/parsers.pyx\u001b[0m in \u001b[0;36mpandas._libs.parsers.TextReader._setup_parser_source\u001b[0;34m()\u001b[0m\n",
      "\u001b[0;31mFileNotFoundError\u001b[0m: [Errno 2] File /home/woody/iwfa/iwfa024h/results/PA_M/FS280_BEST/c/TEST/results1.0.csv does not exist: '/home/woody/iwfa/iwfa024h/results/PA_M/FS280_BEST/c/TEST/results1.0.csv'"
     ]
    },
    {
     "data": {
      "image/png": "[encoded data removed]",
      "text/plain": [
       "<Figure size 720x720 with 4 Axes>"
      ]
     },
     "metadata": {
      "needs_background": "light"
     },
     "output_type": "display_data"
    }
   ],
   "source": [
    "\n",
    "fig,(ax1,ax2) = plt.subplots(2,2,figsize=(10,10))\n",
    "\n",
    "for test_value in test_vals_list:\n",
    "\n",
    "# #     print(test_value)\n",
    "#     result_parent_path =  \"E:/AI/FAPS/code/results/PA_M\"\n",
    "#     if test_val !='c':\n",
    "#         resultcsv_paths = glob.glob(os.path.join(result_parent_path,runname,testname,'resul*.csv'))\n",
    "# #         print('here')\n",
    "#     else:\n",
    "#         resultcsv_paths = glob.glob(os.path.join(result_parent_path,runname,testname,test_value,'resul*.csv'))\n",
    "#     print(resultcsv_paths)\n",
    "    thresholds = [0.1,0.2,0.3,0.4,0.5]\n",
    "\n",
    "    plot_threshold_mean = []\n",
    "    plot_threshold_mean_pos = []\n",
    "    plot_wrong_count = [] \n",
    "    plot_label_count = []\n",
    "\n",
    "    \n",
    "\n",
    "    i=0\n",
    "    for thresh in thresholds:\n",
    "        \n",
    "        if testname == 'NORMAL':\n",
    "            test_resultcsv_path = os.path.join(result_parent_path,runname,testname,'TEST',f'results{thresh*10}.csv').replace(\"\\\\\",'/')\n",
    "            val_resultcsv_path = os.path.join(result_parent_path,runname,testname,'VAL',f'results{thresh*10}.csv').replace(\"\\\\\",'/')\n",
    "\n",
    "        else:\n",
    "            test_resultcsv_path = os.path.join(result_parent_path,runname,testname,test_value,'TEST',f'results{thresh*10}.csv').replace(\"\\\\\",'/')\n",
    "            val_resultcsv_path = os.path.join(result_parent_path,runname,testname,test_value,'VAL',f'results{thresh*10}.csv').replace(\"\\\\\",'/')\n",
    "        \n",
    "        test_df_result = pd.read_csv(test_resultcsv_path)\n",
    "        val_df_result = pd.read_csv(val_resultcsv_path)\n",
    "\n",
    "        test_wrong_df = test_df_result[(test_df_result['IOU'] < 0.5)].sort_values('IOU')\n",
    "        val_wrong_df = val_df_result[(val_df_result['IOU'] < 0.5)].sort_values('IOU')\n",
    "\n",
    "    #     print(wrong_df)\n",
    "    #     print(\"thresh:\",i,f'wrong count:{wrong_df.shape[0]} %{wrong_df.shape[0]/df_result.shape[0]*100//1}')\n",
    "        plot_wrong_count.append([thresh,test_wrong_df.shape[0],test_df_result.IOU[(test_df_result['IOU'] < 0.7)].shape[0],\n",
    "                                val_wrong_df.shape[0],val_df_result.IOU[(val_df_result['IOU'] < 0.7)].shape[0]])\n",
    "\n",
    "        plot_threshold_mean.append([thresh,test_df_result.IOU.mean(),val_df_result.IOU.mean()])\n",
    "        plot_threshold_mean_pos.append([thresh,test_df_result.IOU[test_df_result.ground_truth != \"0.0,0.0,0.0,0.0,0.0,0.0,0.0,0.0,0.0,0.0,0.0,0.0\"].mean(),val_df_result.IOU[val_df_result.ground_truth != \"0.0,0.0,0.0,0.0,0.0,0.0,0.0,0.0,0.0,0.0,0.0,0.0\"].mean()])\n",
    "    #     print('iou',df_result.IOU.mean(),'iou_positive:',df_result.IOU[df_result.ground_truth == True].mean())\n",
    "\n",
    "        test_imgs = []\n",
    "        for i in test_wrong_df.index:\n",
    "            img = test_wrong_df.loc[i].img_name\n",
    "            test_imgs.append(img)\n",
    "\n",
    "        val_imgs = []\n",
    "        for i in val_wrong_df.index:\n",
    "            img = val_wrong_df.loc[i].img_name\n",
    "            val_imgs.append(img)\n",
    "\n",
    "        count_dict = dict.fromkeys(list(label_image_pair.keys()),[0,0])\n",
    "\n",
    "    #     img_dict = {}\n",
    "        false_ls = []\n",
    "        for i in test_imgs:\n",
    "            if i not in image_label_pair.keys():\n",
    "                continue\n",
    "            for l in image_label_pair[i]:\n",
    "                false_ls.append(int(l))\n",
    "                if l in count_dict.keys():\n",
    "                    count_dict[l][0]+=1\n",
    "    #                 img_dict[l].append(i)\n",
    "                else:\n",
    "                    count_dict[l][0] = 1\n",
    "\n",
    "        false_ls = []\n",
    "        for i in val_imgs:\n",
    "            if i not in image_label_pair.keys():\n",
    "                continue\n",
    "            for l in image_label_pair[i]:\n",
    "                false_ls.append(int(l))\n",
    "                if l in count_dict.keys():\n",
    "                    count_dict[l][1]+=1\n",
    "    #                 img_dict[l].append(i)\n",
    "                else:\n",
    "                    count_dict[l][1] = 1\n",
    "    #                 img_dict[l] = [i]\n",
    "\n",
    "    #     print('False classification: ',count_dict)\n",
    "        plot_label_count.append([thresh,count_dict.copy()])\n",
    "    #     for l in np.sort(np.int32(list(count_dict.keys()))):\n",
    "    #         print(l,count_dict[str(l)]/5)\n",
    "    # df_result.loc[:,'ground_truth'] =  df_result.loc[:,'ground_truth'] == 1\n",
    "    plot_threshold_mean = np.array(plot_threshold_mean)\n",
    "    plot_threshold_mean_pos = np.array(plot_threshold_mean_pos)\n",
    "    plot_wrong_count = np.array(plot_wrong_count)\n",
    "\n",
    "    print('plot_threshold_mean','\\n\\n',plot_threshold_mean, '\\n\\n','plot_threshold_mean_pos','\\n\\n',plot_threshold_mean_pos,'\\n\\n','plot_wrong_count','\\n\\n',plot_wrong_count)\n",
    "\n",
    "#     plt.subplot(1,1)\n",
    "    ax1[0].plot(plot_threshold_mean[:,0], plot_threshold_mean[:,1],label='all_test_'+test_value)\n",
    "    ax1[0].plot(plot_threshold_mean_pos[:,0], plot_threshold_mean_pos[:,1],label='positive_test_'+test_value)\n",
    "    ax1[0].scatter(plot_threshold_mean[:,0], plot_threshold_mean[:,1])\n",
    "    ax1[0].scatter(plot_threshold_mean_pos[:,0], plot_threshold_mean_pos[:,1])\n",
    "    \n",
    "    ax1[1].plot(plot_threshold_mean[:,0], plot_threshold_mean[:,2],label='all_val_'+test_value)\n",
    "    ax1[1].plot(plot_threshold_mean_pos[:,0], plot_threshold_mean_pos[:,2],label='positive_val_'+test_value)\n",
    "    ax1[1].scatter(plot_threshold_mean[:,0], plot_threshold_mean[:,2])\n",
    "    ax1[1].scatter(plot_threshold_mean_pos[:,0], plot_threshold_mean_pos[:,2])\n",
    "\n",
    "    for c in [0,1]:   \n",
    "        ax1[c].legend()\n",
    "        ax1[c].set_xlabel('threshold')\n",
    "        ax1[c].set_ylabel('IOU mean')\n",
    "#         ax1[c].set_ylim(0,1)\n",
    "#     ax1.legend(loc=4)\n",
    "\n",
    "#     plt.subplot(2,1)\n",
    "    ax2[0].plot(plot_wrong_count[:,0], plot_wrong_count[:,1],label='0.5_test_'+test_value)\n",
    "    ax2[0].scatter(plot_wrong_count[:,0], plot_wrong_count[:,1])\n",
    "    ax2[0].plot(plot_wrong_count[:,0], plot_wrong_count[:,2],label='0.7_test_'+test_value)\n",
    "    ax2[0].scatter(plot_wrong_count[:,0], plot_wrong_count[:,2])\n",
    "\n",
    "    ax2[1].plot(plot_wrong_count[:,0], plot_wrong_count[:,3],label='0.5_val_'+test_value)\n",
    "    ax2[1].scatter(plot_wrong_count[:,0], plot_wrong_count[:,3])\n",
    "    ax2[1].plot(plot_wrong_count[:,0], plot_wrong_count[:,4],label='0.7_val_'+test_value)\n",
    "    ax2[1].scatter(plot_wrong_count[:,0], plot_wrong_count[:,4])\n",
    "\n",
    "    for c in [0,1]:   \n",
    "        ax2[c].legend()\n",
    "        ax2[c].set_xlabel('threshold')\n",
    "        ax2[c].set_ylabel('count')\n",
    "#         ax2[c].set_ylim(0,204)\n",
    "    plt.savefig('result.jpg')"
   ]
  },
  {
   "cell_type": "code",
   "execution_count": 48,
   "metadata": {},
   "outputs": [
    {
     "data": {
      "text/plain": [
       "(204, 5)"
      ]
     },
     "execution_count": 48,
     "metadata": {},
     "output_type": "execute_result"
    }
   ],
   "source": [
    "test_df_result.shape"
   ]
  },
  {
   "cell_type": "code",
   "execution_count": 57,
   "metadata": {},
   "outputs": [
    {
     "ename": "TypeError",
     "evalue": "list indices must be integers or slices, not tuple",
     "output_type": "error",
     "traceback": [
      "\u001b[1;31m---------------------------------------------------------------------------\u001b[0m",
      "\u001b[1;31mTypeError\u001b[0m                                 Traceback (most recent call last)",
      "Cell \u001b[1;32mIn [57], line 1\u001b[0m\n\u001b[1;32m----> 1\u001b[0m plt\u001b[38;5;241m.\u001b[39mplot(\u001b[43mplot_wrong_count\u001b[49m\u001b[43m[\u001b[49m\u001b[43m:\u001b[49m\u001b[43m,\u001b[49m\u001b[38;5;241;43m0\u001b[39;49m\u001b[43m]\u001b[49m, plot_wrong_count[:,\u001b[38;5;241m1\u001b[39m],label\u001b[38;5;241m=\u001b[39m\u001b[38;5;124m'\u001b[39m\u001b[38;5;124m0.5_test\u001b[39m\u001b[38;5;124m'\u001b[39m)\n\u001b[0;32m      2\u001b[0m plt\u001b[38;5;241m.\u001b[39mscatter(plot_wrong_count[:,\u001b[38;5;241m0\u001b[39m], plot_wrong_count[:,\u001b[38;5;241m1\u001b[39m])\n\u001b[0;32m      3\u001b[0m plt\u001b[38;5;241m.\u001b[39mplot(plot_wrong_count[:,\u001b[38;5;241m0\u001b[39m], plot_wrong_count[:,\u001b[38;5;241m2\u001b[39m],label\u001b[38;5;241m=\u001b[39m\u001b[38;5;124m'\u001b[39m\u001b[38;5;124m0.7_test\u001b[39m\u001b[38;5;124m'\u001b[39m)\n",
      "\u001b[1;31mTypeError\u001b[0m: list indices must be integers or slices, not tuple"
     ]
    }
   ],
   "source": []
  },
  {
   "cell_type": "code",
   "execution_count": 50,
   "metadata": {},
   "outputs": [
    {
     "name": "stdout",
     "output_type": "stream",
     "text": [
      "[[21 17]\n",
      " [21 17]\n",
      " [21 17]\n",
      " [21 17]\n",
      " [21 17]\n",
      " [21 17]\n",
      " [21 17]\n",
      " [21 17]\n",
      " [21 17]\n",
      " [21 17]\n",
      " [21 17]\n",
      " [21 17]\n",
      " [21 17]]\n",
      "[[18 21]\n",
      " [18 21]\n",
      " [18 21]\n",
      " [18 21]\n",
      " [18 21]\n",
      " [18 21]\n",
      " [18 21]\n",
      " [18 21]\n",
      " [18 21]\n",
      " [18 21]\n",
      " [18 21]\n",
      " [18 21]\n",
      " [18 21]]\n",
      "[[23 19]\n",
      " [23 19]\n",
      " [23 19]\n",
      " [23 19]\n",
      " [23 19]\n",
      " [23 19]\n",
      " [23 19]\n",
      " [23 19]\n",
      " [23 19]\n",
      " [23 19]\n",
      " [23 19]\n",
      " [23 19]\n",
      " [23 19]]\n"
     ]
    },
    {
     "data": {
      "text/plain": [
       "(0.0, 30.0)"
      ]
     },
     "execution_count": 50,
     "metadata": {},
     "output_type": "execute_result"
    },
    {
     "data": {
      "image/png": "[encoded data removed]",
      "text/plain": [
       "<Figure size 640x480 with 1 Axes>"
      ]
     },
     "metadata": {},
     "output_type": "display_data"
    }
   ],
   "source": [
    "for i,count in plot_label_count[:-2]:\n",
    "    print(np.array(list(count.values())))\n",
    "    plt.plot(list(count.keys()), np.array(list(count.values()))[:,0],label=i)\n",
    "#     plt.scatter(list(count.keys()), list(count.values()),label=i)\n",
    "plt.legend()\n",
    "plt.ylim(0,30)"
   ]
  },
  {
   "cell_type": "code",
   "execution_count": 343,
   "metadata": {
    "scrolled": true
   },
   "outputs": [
    {
     "name": "stdout",
     "output_type": "stream",
     "text": [
      "False classification:  {'5': 5, '6': 2, '2': 3, '13': 3, '3': 3, '11': 2, '10': 1, '8': 1}\n"
     ]
    },
    {
     "data": {
      "text/plain": [
       "{'5': [948, 985, 994, 993, 700],\n",
       " '6': [948, 985],\n",
       " '2': [948, 985, 637],\n",
       " '13': [985, 994, 993],\n",
       " '3': [994, 993, 700],\n",
       " '11': [994, 993],\n",
       " '10': [994],\n",
       " '8': [993]}"
      ]
     },
     "execution_count": 343,
     "metadata": {},
     "output_type": "execute_result"
    }
   ],
   "source": [
    "\n",
    "img_dict"
   ]
  },
  {
   "cell_type": "code",
   "execution_count": 333,
   "metadata": {},
   "outputs": [
    {
     "name": "stdout",
     "output_type": "stream",
     "text": [
      "2 0.6\n",
      "3 0.6\n",
      "5 1.0\n",
      "6 0.4\n",
      "8 0.2\n",
      "10 0.2\n",
      "11 0.4\n",
      "13 0.6\n"
     ]
    }
   ],
   "source": [
    "\n"
   ]
  },
  {
   "cell_type": "code",
   "execution_count": 334,
   "metadata": {},
   "outputs": [
    {
     "data": {
      "text/plain": [
       "(0.0, 5.0)"
      ]
     },
     "execution_count": 334,
     "metadata": {},
     "output_type": "execute_result"
    },
    {
     "data": {
      "image/png": "[encoded data removed]",
      "text/plain": [
       "<Figure size 640x480 with 1 Axes>"
      ]
     },
     "metadata": {},
     "output_type": "display_data"
    }
   ],
   "source": [
    "plt.hist(false_ls,bins=np.arange(0.5,14.5,1))\n",
    "plt.xticks(np.arange(1,15))\n",
    "plt.ylim(0,5)"
   ]
  },
  {
   "cell_type": "code",
   "execution_count": 95,
   "metadata": {},
   "outputs": [],
   "source": [
    "with open(f'splits/PA/split_16.pyb', \"rb\") as f:\n",
    "    _,_,train_seg_path,test_seg_path,_,_ = pickle.load(f)"
   ]
  },
  {
   "cell_type": "code",
   "execution_count": 98,
   "metadata": {},
   "outputs": [
    {
     "name": "stdout",
     "output_type": "stream",
     "text": [
      "train segmenation count:  {'4': 4, '13': 6, '9': 3, '12': 6, '3': 11, '10': 1, '8': 2, '5': 1, '7': 1, '11': 2, '6': 1, '2': 1}\n"
     ]
    }
   ],
   "source": [
    "count_dict = {}\n",
    "for img in train_seg_path:\n",
    "    i = os.path.basename(os.path.normpath(img))\n",
    "    i = int(i[:-4])\n",
    "    if i not in image_label_pair.keys():\n",
    "        continue\n",
    "    for l in image_label_pair[i]:\n",
    "        if l in count_dict.keys():\n",
    "            count_dict[l]+=1\n",
    "        else:\n",
    "            count_dict[l] = 1\n",
    "print('train segmenation count: ',count_dict)   "
   ]
  },
  {
   "cell_type": "code",
   "execution_count": 99,
   "metadata": {},
   "outputs": [
    {
     "name": "stdout",
     "output_type": "stream",
     "text": [
      "test segmenation count:  {'11': 9, '13': 12, '3': 64, '12': 13, '8': 10, '7': 16, '10': 15, '4': 14, '9': 15, '6': 13, '1': 11, '5': 6, '2': 8}\n"
     ]
    }
   ],
   "source": [
    "count_dict = {}\n",
    "for img in test_seg_path:\n",
    "    i = os.path.basename(os.path.normpath(img))\n",
    "    i = int(i[:-4])\n",
    "    if i not in image_label_pair.keys():\n",
    "        continue\n",
    "    for l in image_label_pair[i]:\n",
    "        if l in count_dict.keys():\n",
    "            count_dict[l]+=1\n",
    "        else:\n",
    "            count_dict[l] = 1\n",
    "print('test segmenation count: ',count_dict)  "
   ]
  },
  {
   "cell_type": "code",
   "execution_count": null,
   "metadata": {},
   "outputs": [],
   "source": [
    "result_parent_path =  \"E:/AI/FAPS/code/Mixedsupervision/results/KSDD2\"\n",
    "test_paths = ['N_246','N_126','N_53','N_16','N_0']\n",
    "for testname in test_paths:\n",
    "    resultcsv_path = os.path.join(result_parent_path,testname,'results.csv').replace(\"\\\\\",'/')\n",
    "    df_result = pd.read_csv(resultcsv_path)\n",
    "    df_result.loc[:,'ground_truth'] =  df_result.loc[:,'ground_truth'] == 1\n",
    "    \n",
    "    print(testname,f1_score(df_result.ground_truth,df_result.decision),precision_score(df_result.ground_truth,df_result.decision),recall_score(df_result.ground_truth,df_result.decision))\n",
    "    wrong_df = df_result.loc[df_result['decision'] != df_result['ground_truth'],:]"
   ]
  },
  {
   "cell_type": "code",
   "execution_count": null,
   "metadata": {},
   "outputs": [],
   "source": [
    "result_parent_path =  \"E:/AI/FAPS/code/Mixedsupervision/results/PA\"\n",
    "test_paths = ['WS288','WS126','WS53','WS16 - Copy','WS0 - Copy']\n",
    "for testname in test_paths:\n",
    "    resultcsv_path = os.path.join(result_parent_path,testname,'results.csv').replace(\"\\\\\",'/')\n",
    "    df_result = pd.read_csv(resultcsv_path)\n",
    "    df_result.loc[:,'ground_truth'] =  df_result.loc[:,'ground_truth'] == 1\n",
    "    \n",
    "    print(testname,f1_score(df_result.ground_truth,df_result.decision),precision_score(df_result.ground_truth,df_result.decision),recall_score(df_result.ground_truth,df_result.decision))\n",
    "    wrong_df = df_result.loc[df_result['decision'] != df_result['ground_truth'],:]"
   ]
  }
 ],
 "metadata": {
  "kernelspec": {
   "display_name": "Python 3",
   "language": "python",
   "name": "python3"
  },
  "language_info": {
   "codemirror_mode": {
    "name": "ipython",
    "version": 3
   },
   "file_extension": ".py",
   "mimetype": "text/x-python",
   "name": "python",
   "nbconvert_exporter": "python",
   "pygments_lexer": "ipython3",
   "version": "3.8.5"
  }
 },
 "nbformat": 4,
 "nbformat_minor": 5
}
