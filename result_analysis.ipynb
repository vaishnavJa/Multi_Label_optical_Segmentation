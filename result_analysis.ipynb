{
 "cells": [
  {
   "cell_type": "code",
   "execution_count": 1,
   "id": "9ecc7c88",
   "metadata": {},
   "outputs": [],
   "source": [
    "import pandas as pd\n",
    "import numpy as np\n",
    "import cv2\n",
    "import matplotlib.pyplot as plt\n",
    "import os\n",
    "import pickle\n",
    "import re\n",
    "import glob\n",
    "from sklearn.metrics import f1_score,precision_score,recall_score\n",
    "\n",
    "%matplotlib inline"
   ]
  },
  {
   "cell_type": "code",
   "execution_count": 2,
   "id": "aa5b0b9e",
   "metadata": {},
   "outputs": [
    {
     "ename": "FileNotFoundError",
     "evalue": "[Errno 2] File E:/AI/FAPS/code/Mixedsupervision/results/PA/WS288/results.csv does not exist: 'E:/AI/FAPS/code/Mixedsupervision/results/PA/WS288/results.csv'",
     "output_type": "error",
     "traceback": [
      "\u001b[1;31m---------------------------------------------------------------------------\u001b[0m",
      "\u001b[1;31mFileNotFoundError\u001b[0m                         Traceback (most recent call last)",
      "Cell \u001b[1;32mIn [2], line 5\u001b[0m\n\u001b[0;32m      3\u001b[0m \u001b[38;5;28;01mfor\u001b[39;00m testname \u001b[38;5;129;01min\u001b[39;00m test_paths:\n\u001b[0;32m      4\u001b[0m     resultcsv_path \u001b[38;5;241m=\u001b[39m os\u001b[38;5;241m.\u001b[39mpath\u001b[38;5;241m.\u001b[39mjoin(result_parent_path,testname,\u001b[38;5;124m'\u001b[39m\u001b[38;5;124mresults.csv\u001b[39m\u001b[38;5;124m'\u001b[39m)\u001b[38;5;241m.\u001b[39mreplace(\u001b[38;5;124m\"\u001b[39m\u001b[38;5;130;01m\\\\\u001b[39;00m\u001b[38;5;124m\"\u001b[39m,\u001b[38;5;124m'\u001b[39m\u001b[38;5;124m/\u001b[39m\u001b[38;5;124m'\u001b[39m)\n\u001b[1;32m----> 5\u001b[0m     df_result \u001b[38;5;241m=\u001b[39m \u001b[43mpd\u001b[49m\u001b[38;5;241;43m.\u001b[39;49m\u001b[43mread_csv\u001b[49m\u001b[43m(\u001b[49m\u001b[43mresultcsv_path\u001b[49m\u001b[43m)\u001b[49m\n\u001b[0;32m      6\u001b[0m     df_result\u001b[38;5;241m.\u001b[39mloc[:,\u001b[38;5;124m'\u001b[39m\u001b[38;5;124mground_truth\u001b[39m\u001b[38;5;124m'\u001b[39m] \u001b[38;5;241m=\u001b[39m  df_result\u001b[38;5;241m.\u001b[39mloc[:,\u001b[38;5;124m'\u001b[39m\u001b[38;5;124mground_truth\u001b[39m\u001b[38;5;124m'\u001b[39m] \u001b[38;5;241m==\u001b[39m \u001b[38;5;241m1\u001b[39m\n\u001b[0;32m      8\u001b[0m     \u001b[38;5;28mprint\u001b[39m(testname,f1_score(df_result\u001b[38;5;241m.\u001b[39mground_truth,df_result\u001b[38;5;241m.\u001b[39mdecision),precision_score(df_result\u001b[38;5;241m.\u001b[39mground_truth,df_result\u001b[38;5;241m.\u001b[39mdecision),recall_score(df_result\u001b[38;5;241m.\u001b[39mground_truth,df_result\u001b[38;5;241m.\u001b[39mdecision))\n",
      "File \u001b[1;32m~\\anaconda3\\envs\\MSSurface\\lib\\site-packages\\pandas\\io\\parsers.py:676\u001b[0m, in \u001b[0;36m_make_parser_function.<locals>.parser_f\u001b[1;34m(filepath_or_buffer, sep, delimiter, header, names, index_col, usecols, squeeze, prefix, mangle_dupe_cols, dtype, engine, converters, true_values, false_values, skipinitialspace, skiprows, skipfooter, nrows, na_values, keep_default_na, na_filter, verbose, skip_blank_lines, parse_dates, infer_datetime_format, keep_date_col, date_parser, dayfirst, cache_dates, iterator, chunksize, compression, thousands, decimal, lineterminator, quotechar, quoting, doublequote, escapechar, comment, encoding, dialect, error_bad_lines, warn_bad_lines, delim_whitespace, low_memory, memory_map, float_precision)\u001b[0m\n\u001b[0;32m    623\u001b[0m     engine_specified \u001b[38;5;241m=\u001b[39m \u001b[38;5;28;01mFalse\u001b[39;00m\n\u001b[0;32m    625\u001b[0m kwds\u001b[38;5;241m.\u001b[39mupdate(\n\u001b[0;32m    626\u001b[0m     delimiter\u001b[38;5;241m=\u001b[39mdelimiter,\n\u001b[0;32m    627\u001b[0m     engine\u001b[38;5;241m=\u001b[39mengine,\n\u001b[1;32m   (...)\u001b[0m\n\u001b[0;32m    673\u001b[0m     skip_blank_lines\u001b[38;5;241m=\u001b[39mskip_blank_lines,\n\u001b[0;32m    674\u001b[0m )\n\u001b[1;32m--> 676\u001b[0m \u001b[38;5;28;01mreturn\u001b[39;00m \u001b[43m_read\u001b[49m\u001b[43m(\u001b[49m\u001b[43mfilepath_or_buffer\u001b[49m\u001b[43m,\u001b[49m\u001b[43m \u001b[49m\u001b[43mkwds\u001b[49m\u001b[43m)\u001b[49m\n",
      "File \u001b[1;32m~\\anaconda3\\envs\\MSSurface\\lib\\site-packages\\pandas\\io\\parsers.py:448\u001b[0m, in \u001b[0;36m_read\u001b[1;34m(filepath_or_buffer, kwds)\u001b[0m\n\u001b[0;32m    445\u001b[0m _validate_names(kwds\u001b[38;5;241m.\u001b[39mget(\u001b[38;5;124m\"\u001b[39m\u001b[38;5;124mnames\u001b[39m\u001b[38;5;124m\"\u001b[39m, \u001b[38;5;28;01mNone\u001b[39;00m))\n\u001b[0;32m    447\u001b[0m \u001b[38;5;66;03m# Create the parser.\u001b[39;00m\n\u001b[1;32m--> 448\u001b[0m parser \u001b[38;5;241m=\u001b[39m \u001b[43mTextFileReader\u001b[49m\u001b[43m(\u001b[49m\u001b[43mfp_or_buf\u001b[49m\u001b[43m,\u001b[49m\u001b[43m \u001b[49m\u001b[38;5;241;43m*\u001b[39;49m\u001b[38;5;241;43m*\u001b[39;49m\u001b[43mkwds\u001b[49m\u001b[43m)\u001b[49m\n\u001b[0;32m    450\u001b[0m \u001b[38;5;28;01mif\u001b[39;00m chunksize \u001b[38;5;129;01mor\u001b[39;00m iterator:\n\u001b[0;32m    451\u001b[0m     \u001b[38;5;28;01mreturn\u001b[39;00m parser\n",
      "File \u001b[1;32m~\\anaconda3\\envs\\MSSurface\\lib\\site-packages\\pandas\\io\\parsers.py:880\u001b[0m, in \u001b[0;36mTextFileReader.__init__\u001b[1;34m(self, f, engine, **kwds)\u001b[0m\n\u001b[0;32m    877\u001b[0m \u001b[38;5;28;01mif\u001b[39;00m \u001b[38;5;124m\"\u001b[39m\u001b[38;5;124mhas_index_names\u001b[39m\u001b[38;5;124m\"\u001b[39m \u001b[38;5;129;01min\u001b[39;00m kwds:\n\u001b[0;32m    878\u001b[0m     \u001b[38;5;28mself\u001b[39m\u001b[38;5;241m.\u001b[39moptions[\u001b[38;5;124m\"\u001b[39m\u001b[38;5;124mhas_index_names\u001b[39m\u001b[38;5;124m\"\u001b[39m] \u001b[38;5;241m=\u001b[39m kwds[\u001b[38;5;124m\"\u001b[39m\u001b[38;5;124mhas_index_names\u001b[39m\u001b[38;5;124m\"\u001b[39m]\n\u001b[1;32m--> 880\u001b[0m \u001b[38;5;28;43mself\u001b[39;49m\u001b[38;5;241;43m.\u001b[39;49m\u001b[43m_make_engine\u001b[49m\u001b[43m(\u001b[49m\u001b[38;5;28;43mself\u001b[39;49m\u001b[38;5;241;43m.\u001b[39;49m\u001b[43mengine\u001b[49m\u001b[43m)\u001b[49m\n",
      "File \u001b[1;32m~\\anaconda3\\envs\\MSSurface\\lib\\site-packages\\pandas\\io\\parsers.py:1114\u001b[0m, in \u001b[0;36mTextFileReader._make_engine\u001b[1;34m(self, engine)\u001b[0m\n\u001b[0;32m   1112\u001b[0m \u001b[38;5;28;01mdef\u001b[39;00m \u001b[38;5;21m_make_engine\u001b[39m(\u001b[38;5;28mself\u001b[39m, engine\u001b[38;5;241m=\u001b[39m\u001b[38;5;124m\"\u001b[39m\u001b[38;5;124mc\u001b[39m\u001b[38;5;124m\"\u001b[39m):\n\u001b[0;32m   1113\u001b[0m     \u001b[38;5;28;01mif\u001b[39;00m engine \u001b[38;5;241m==\u001b[39m \u001b[38;5;124m\"\u001b[39m\u001b[38;5;124mc\u001b[39m\u001b[38;5;124m\"\u001b[39m:\n\u001b[1;32m-> 1114\u001b[0m         \u001b[38;5;28mself\u001b[39m\u001b[38;5;241m.\u001b[39m_engine \u001b[38;5;241m=\u001b[39m \u001b[43mCParserWrapper\u001b[49m\u001b[43m(\u001b[49m\u001b[38;5;28;43mself\u001b[39;49m\u001b[38;5;241;43m.\u001b[39;49m\u001b[43mf\u001b[49m\u001b[43m,\u001b[49m\u001b[43m \u001b[49m\u001b[38;5;241;43m*\u001b[39;49m\u001b[38;5;241;43m*\u001b[39;49m\u001b[38;5;28;43mself\u001b[39;49m\u001b[38;5;241;43m.\u001b[39;49m\u001b[43moptions\u001b[49m\u001b[43m)\u001b[49m\n\u001b[0;32m   1115\u001b[0m     \u001b[38;5;28;01melse\u001b[39;00m:\n\u001b[0;32m   1116\u001b[0m         \u001b[38;5;28;01mif\u001b[39;00m engine \u001b[38;5;241m==\u001b[39m \u001b[38;5;124m\"\u001b[39m\u001b[38;5;124mpython\u001b[39m\u001b[38;5;124m\"\u001b[39m:\n",
      "File \u001b[1;32m~\\anaconda3\\envs\\MSSurface\\lib\\site-packages\\pandas\\io\\parsers.py:1891\u001b[0m, in \u001b[0;36mCParserWrapper.__init__\u001b[1;34m(self, src, **kwds)\u001b[0m\n\u001b[0;32m   1888\u001b[0m \u001b[38;5;28mself\u001b[39m\u001b[38;5;241m.\u001b[39musecols, \u001b[38;5;28mself\u001b[39m\u001b[38;5;241m.\u001b[39musecols_dtype \u001b[38;5;241m=\u001b[39m _validate_usecols_arg(kwds[\u001b[38;5;124m\"\u001b[39m\u001b[38;5;124musecols\u001b[39m\u001b[38;5;124m\"\u001b[39m])\n\u001b[0;32m   1889\u001b[0m kwds[\u001b[38;5;124m\"\u001b[39m\u001b[38;5;124musecols\u001b[39m\u001b[38;5;124m\"\u001b[39m] \u001b[38;5;241m=\u001b[39m \u001b[38;5;28mself\u001b[39m\u001b[38;5;241m.\u001b[39musecols\n\u001b[1;32m-> 1891\u001b[0m \u001b[38;5;28mself\u001b[39m\u001b[38;5;241m.\u001b[39m_reader \u001b[38;5;241m=\u001b[39m \u001b[43mparsers\u001b[49m\u001b[38;5;241;43m.\u001b[39;49m\u001b[43mTextReader\u001b[49m\u001b[43m(\u001b[49m\u001b[43msrc\u001b[49m\u001b[43m,\u001b[49m\u001b[43m \u001b[49m\u001b[38;5;241;43m*\u001b[39;49m\u001b[38;5;241;43m*\u001b[39;49m\u001b[43mkwds\u001b[49m\u001b[43m)\u001b[49m\n\u001b[0;32m   1892\u001b[0m \u001b[38;5;28mself\u001b[39m\u001b[38;5;241m.\u001b[39munnamed_cols \u001b[38;5;241m=\u001b[39m \u001b[38;5;28mself\u001b[39m\u001b[38;5;241m.\u001b[39m_reader\u001b[38;5;241m.\u001b[39munnamed_cols\n\u001b[0;32m   1894\u001b[0m passed_names \u001b[38;5;241m=\u001b[39m \u001b[38;5;28mself\u001b[39m\u001b[38;5;241m.\u001b[39mnames \u001b[38;5;129;01mis\u001b[39;00m \u001b[38;5;28;01mNone\u001b[39;00m\n",
      "File \u001b[1;32mpandas\\_libs\\parsers.pyx:374\u001b[0m, in \u001b[0;36mpandas._libs.parsers.TextReader.__cinit__\u001b[1;34m()\u001b[0m\n",
      "File \u001b[1;32mpandas\\_libs\\parsers.pyx:674\u001b[0m, in \u001b[0;36mpandas._libs.parsers.TextReader._setup_parser_source\u001b[1;34m()\u001b[0m\n",
      "\u001b[1;31mFileNotFoundError\u001b[0m: [Errno 2] File E:/AI/FAPS/code/Mixedsupervision/results/PA/WS288/results.csv does not exist: 'E:/AI/FAPS/code/Mixedsupervision/results/PA/WS288/results.csv'"
     ]
    }
   ],
   "source": [
    "result_parent_path =  \"E:/AI/FAPS/code/Mixedsupervision/results/PA\"\n",
    "test_paths = ['WS288','WS126','WS53','WS16 - Copy','WS0 - Copy']\n",
    "for testname in test_paths:\n",
    "    resultcsv_path = os.path.join(result_parent_path,testname,'results.csv').replace(\"\\\\\",'/')\n",
    "    df_result = pd.read_csv(resultcsv_path)\n",
    "    df_result.loc[:,'ground_truth'] =  df_result.loc[:,'ground_truth'] == 1\n",
    "    \n",
    "    print(testname,f1_score(df_result.ground_truth,df_result.decision),precision_score(df_result.ground_truth,df_result.decision),recall_score(df_result.ground_truth,df_result.decision))\n",
    "    wrong_df = df_result.loc[df_result['decision'] != df_result['ground_truth'],:]"
   ]
  },
  {
   "cell_type": "code",
   "execution_count": null,
   "id": "b108908c",
   "metadata": {},
   "outputs": [],
   "source": [
    "result_parent_path =  \"E:/AI/FAPS/code/Mixedsupervision/results/KSDD2\"\n",
    "test_paths = ['N_246','N_126','N_53','N_16','N_0']\n",
    "for testname in test_paths:\n",
    "    resultcsv_path = os.path.join(result_parent_path,testname,'results.csv').replace(\"\\\\\",'/')\n",
    "    df_result = pd.read_csv(resultcsv_path)\n",
    "    df_result.loc[:,'ground_truth'] =  df_result.loc[:,'ground_truth'] == 1\n",
    "    \n",
    "    print(testname,f1_score(df_result.ground_truth,df_result.decision),precision_score(df_result.ground_truth,df_result.decision),recall_score(df_result.ground_truth,df_result.decision))\n",
    "    wrong_df = df_result.loc[df_result['decision'] != df_result['ground_truth'],:]"
   ]
  },
  {
   "cell_type": "code",
   "execution_count": 2,
   "id": "5821ad9b",
   "metadata": {},
   "outputs": [],
   "source": []
  },
  {
   "cell_type": "code",
   "execution_count": null,
   "id": "4ad6e726",
   "metadata": {},
   "outputs": [],
   "source": [
    "runname = 'FS269'\n",
    "testname = 'WEIGHTED_SEG_LOSS_MAX'\n",
    "test_value = 2"
   ]
  },
  {
   "cell_type": "code",
   "execution_count": 48,
   "id": "7ddb81af",
   "metadata": {},
   "outputs": [],
   "source": [
    "runname = 'FS280'\n",
    "testname = 'WEIGHTED_SEG_LOSS_P'\n",
    "test_value = '0'"
   ]
  },
  {
   "cell_type": "code",
   "execution_count": 58,
   "id": "1ac47e19",
   "metadata": {},
   "outputs": [],
   "source": [
    "runname =  'WS143'\n",
    "testname = 'DELTA_CLS_LOSS'\n",
    "test_value = \"0.1\""
   ]
  },
  {
   "cell_type": "code",
   "execution_count": 14,
   "id": "04a4c457",
   "metadata": {},
   "outputs": [],
   "source": [
    "with open(f'labels/l_to_i.pyb', \"rb\") as fp:   #Pickling\n",
    "    label_image_pair = pickle.load(fp)\n",
    "with open(f'labels/i_l.pyb', \"rb\") as fp:   #Pickling\n",
    "    image_label_pair = pickle.load(fp)"
   ]
  },
  {
   "cell_type": "code",
   "execution_count": 24,
   "id": "e075afce",
   "metadata": {},
   "outputs": [],
   "source": [
    "runname =  'WS143'\n",
    "testname = 'WEIGHTED_SEG_LOSS'\n",
    "test_vals_list = []\n",
    "paths = glob.glob(f'E:/AI/FAPS/code/results/PA/{run}/{testname}/*')\n",
    "for file in paths:\n",
    "    inter = os.path.normpath(file)\n",
    "    test_vals_list.append(inter.split(os.sep)[-1])\n"
   ]
  },
  {
   "cell_type": "code",
   "execution_count": 22,
   "id": "5d42ec77",
   "metadata": {},
   "outputs": [],
   "source": [
    "runname =  'FS280'\n",
    "testname = 'NORMAL'\n",
    "test_vals_list = []\n",
    "paths = glob.glob(f'E:/AI/FAPS/code/Mixedsupervision/results/PA/WS143/{testname}/*')\n",
    "for file in paths:\n",
    "    inter = os.path.normpath(file)\n",
    "    test_vals_list.append(inter.split(os.sep)[-1])\n",
    "\n",
    "test_vals_list = ['c']"
   ]
  },
  {
   "cell_type": "code",
   "execution_count": 23,
   "id": "ba57b505",
   "metadata": {},
   "outputs": [],
   "source": [
    "runname = 'FS280'\n",
    "testname = 'NORMAL'"
   ]
  },
  {
   "cell_type": "code",
   "execution_count": 33,
   "id": "1c1404ff",
   "metadata": {},
   "outputs": [],
   "source": [
    "with open(f'../labels/l_to_i.pyb', \"rb\") as fp:   #Pickling\n",
    "    label_image_pair = pickle.load(fp)\n",
    "with open(f'../labels/i_l.pyb', \"rb\") as fp:   #Pickling\n",
    "    image_label_pair = pickle.load(fp)"
   ]
  },
  {
   "cell_type": "code",
   "execution_count": 49,
   "id": "963366ad",
   "metadata": {
    "scrolled": false
   },
   "outputs": [
    {
     "name": "stdout",
     "output_type": "stream",
     "text": [
      "plot_threshold_mean \n",
      "\n",
      " [[0.1        0.79540583 0.81817907]\n",
      " [0.2        0.81516932 0.8287272 ]\n",
      " [0.3        0.81650626 0.8232105 ]\n",
      " [0.4        0.80894725 0.81545357]\n",
      " [0.5        0.79931862 0.80627361]] \n",
      "\n",
      " plot_threshold_mean_pos \n",
      "\n",
      " [[0.1        0.50740671 0.52035251]\n",
      " [0.2        0.55131151 0.54327253]\n",
      " [0.3        0.55437235 0.52856134]\n",
      " [0.4        0.53601476 0.5078762 ]\n",
      " [0.5        0.51263093 0.48339629]] \n",
      "\n",
      " plot_wrong_count \n",
      "\n",
      " [[ 0.1 38.  67.  17.  29. ]\n",
      " [ 0.2 31.  63.  12.  29. ]\n",
      " [ 0.3 33.  59.  14.  26. ]\n",
      " [ 0.4 35.  59.  15.  26. ]\n",
      " [ 0.5 37.  63.  17.  26. ]]\n"
     ]
    },
    {
     "data": {
      "image/png": "[encoded data removed]",
      "text/plain": [
       "<Figure size 1000x1000 with 4 Axes>"
      ]
     },
     "metadata": {},
     "output_type": "display_data"
    }
   ],
   "source": [
    "\n",
    "fig,(ax1,ax2) = plt.subplots(2,2,figsize=(10,10))\n",
    "\n",
    "for test_value in test_vals_list:\n",
    "\n",
    "# #     print(test_value)\n",
    "#     result_parent_path =  \"E:/AI/FAPS/code/results/PA_M\"\n",
    "#     if test_val !='c':\n",
    "#         resultcsv_paths = glob.glob(os.path.join(result_parent_path,runname,testname,'resul*.csv'))\n",
    "# #         print('here')\n",
    "#     else:\n",
    "#         resultcsv_paths = glob.glob(os.path.join(result_parent_path,runname,testname,test_value,'resul*.csv'))\n",
    "#     print(resultcsv_paths)\n",
    "    thresholds = [0.1,0.2,0.3,0.4,0.5]\n",
    "\n",
    "    plot_threshold_mean = []\n",
    "    plot_threshold_mean_pos = []\n",
    "    plot_wrong_count = [] \n",
    "    plot_label_count = []\n",
    "\n",
    "    \n",
    "\n",
    "    i=0\n",
    "    for thresh in thresholds:\n",
    "        \n",
    "        if testname == 'NORMAL':\n",
    "            test_resultcsv_path = os.path.join(result_parent_path,runname,testname,'TEST',f'results{thresh*10}.csv').replace(\"\\\\\",'/')\n",
    "            val_resultcsv_path = os.path.join(result_parent_path,runname,testname,'VAL',f'results{thresh*10}.csv').replace(\"\\\\\",'/')\n",
    "\n",
    "        else:\n",
    "            test_resultcsv_path = os.path.join(result_parent_path,runname,testname,test_value,'TEST',f'results{thresh*10}.csv').replace(\"\\\\\",'/')\n",
    "            val_resultcsv_path = os.path.join(result_parent_path,runname,testname,test_value,'VAL',f'results{thresh*10}.csv').replace(\"\\\\\",'/')\n",
    "        \n",
    "        test_df_result = pd.read_csv(test_resultcsv_path)\n",
    "        val_df_result = pd.read_csv(val_resultcsv_path)\n",
    "\n",
    "        test_wrong_df = test_df_result[(test_df_result['IOU'] < 0.5)].sort_values('IOU')\n",
    "        val_wrong_df = val_df_result[(val_df_result['IOU'] < 0.5)].sort_values('IOU')\n",
    "\n",
    "    #     print(wrong_df)\n",
    "    #     print(\"thresh:\",i,f'wrong count:{wrong_df.shape[0]} %{wrong_df.shape[0]/df_result.shape[0]*100//1}')\n",
    "        plot_wrong_count.append([thresh,test_wrong_df.shape[0],test_df_result.IOU[(test_df_result['IOU'] < 0.7)].shape[0],\n",
    "                                val_wrong_df.shape[0],val_df_result.IOU[(val_df_result['IOU'] < 0.7)].shape[0]])\n",
    "\n",
    "        plot_threshold_mean.append([thresh,test_df_result.IOU.mean(),val_df_result.IOU.mean()])\n",
    "        plot_threshold_mean_pos.append([thresh,test_df_result.IOU[test_df_result.ground_truth != \"0.0,0.0,0.0,0.0,0.0,0.0,0.0,0.0,0.0,0.0,0.0,0.0\"].mean(),val_df_result.IOU[val_df_result.ground_truth != \"0.0,0.0,0.0,0.0,0.0,0.0,0.0,0.0,0.0,0.0,0.0,0.0\"].mean()])\n",
    "    #     print('iou',df_result.IOU.mean(),'iou_positive:',df_result.IOU[df_result.ground_truth == True].mean())\n",
    "\n",
    "        test_imgs = []\n",
    "        for i in test_wrong_df.index:\n",
    "            img = test_wrong_df.loc[i].img_name\n",
    "            test_imgs.append(img)\n",
    "\n",
    "        val_imgs = []\n",
    "        for i in val_wrong_df.index:\n",
    "            img = val_wrong_df.loc[i].img_name\n",
    "            val_imgs.append(img)\n",
    "\n",
    "        count_dict = dict.fromkeys(list(label_image_pair.keys()),[0,0])\n",
    "\n",
    "    #     img_dict = {}\n",
    "        false_ls = []\n",
    "        for i in test_imgs:\n",
    "            if i not in image_label_pair.keys():\n",
    "                continue\n",
    "            for l in image_label_pair[i]:\n",
    "                false_ls.append(int(l))\n",
    "                if l in count_dict.keys():\n",
    "                    count_dict[l][0]+=1\n",
    "    #                 img_dict[l].append(i)\n",
    "                else:\n",
    "                    count_dict[l][0] = 1\n",
    "\n",
    "        false_ls = []\n",
    "        for i in val_imgs:\n",
    "            if i not in image_label_pair.keys():\n",
    "                continue\n",
    "            for l in image_label_pair[i]:\n",
    "                false_ls.append(int(l))\n",
    "                if l in count_dict.keys():\n",
    "                    count_dict[l][1]+=1\n",
    "    #                 img_dict[l].append(i)\n",
    "                else:\n",
    "                    count_dict[l][1] = 1\n",
    "    #                 img_dict[l] = [i]\n",
    "\n",
    "    #     print('False classification: ',count_dict)\n",
    "        plot_label_count.append([thresh,count_dict.copy()])\n",
    "    #     for l in np.sort(np.int32(list(count_dict.keys()))):\n",
    "    #         print(l,count_dict[str(l)]/5)\n",
    "    # df_result.loc[:,'ground_truth'] =  df_result.loc[:,'ground_truth'] == 1\n",
    "    plot_threshold_mean = np.array(plot_threshold_mean)\n",
    "    plot_threshold_mean_pos = np.array(plot_threshold_mean_pos)\n",
    "    plot_wrong_count = np.array(plot_wrong_count)\n",
    "\n",
    "    print('plot_threshold_mean','\\n\\n',plot_threshold_mean, '\\n\\n','plot_threshold_mean_pos','\\n\\n',plot_threshold_mean_pos,'\\n\\n','plot_wrong_count','\\n\\n',plot_wrong_count)\n",
    "\n",
    "#     plt.subplot(1,1)\n",
    "    ax1[0].plot(plot_threshold_mean[:,0], plot_threshold_mean[:,1],label='all_test_'+test_value)\n",
    "    ax1[0].plot(plot_threshold_mean_pos[:,0], plot_threshold_mean_pos[:,1],label='positive_test_'+test_value)\n",
    "    ax1[0].scatter(plot_threshold_mean[:,0], plot_threshold_mean[:,1])\n",
    "    ax1[0].scatter(plot_threshold_mean_pos[:,0], plot_threshold_mean_pos[:,1])\n",
    "    \n",
    "    ax1[1].plot(plot_threshold_mean[:,0], plot_threshold_mean[:,2],label='all_val_'+test_value)\n",
    "    ax1[1].plot(plot_threshold_mean_pos[:,0], plot_threshold_mean_pos[:,2],label='positive_val_'+test_value)\n",
    "    ax1[1].scatter(plot_threshold_mean[:,0], plot_threshold_mean[:,2])\n",
    "    ax1[1].scatter(plot_threshold_mean_pos[:,0], plot_threshold_mean_pos[:,2])\n",
    "\n",
    "    for c in [0,1]:   \n",
    "        ax1[c].legend()\n",
    "        ax1[c].set_xlabel('threshold')\n",
    "        ax1[c].set_ylabel('IOU mean')\n",
    "        ax1[c].set_ylim(0,1)\n",
    "#     ax1.legend(loc=4)\n",
    "\n",
    "#     plt.subplot(2,1)\n",
    "    ax2[0].plot(plot_wrong_count[:,0], plot_wrong_count[:,1],label='0.5_test_'+test_value)\n",
    "    ax2[0].scatter(plot_wrong_count[:,0], plot_wrong_count[:,1])\n",
    "    ax2[0].plot(plot_wrong_count[:,0], plot_wrong_count[:,2],label='0.7_test_'+test_value)\n",
    "    ax2[0].scatter(plot_wrong_count[:,0], plot_wrong_count[:,2])\n",
    "\n",
    "    ax2[1].plot(plot_wrong_count[:,0], plot_wrong_count[:,3],label='0.5_val_'+test_value)\n",
    "    ax2[1].scatter(plot_wrong_count[:,0], plot_wrong_count[:,3])\n",
    "    ax2[1].plot(plot_wrong_count[:,0], plot_wrong_count[:,4],label='0.7_val_'+test_value)\n",
    "    ax2[1].scatter(plot_wrong_count[:,0], plot_wrong_count[:,4])\n",
    "\n",
    "    for c in [0,1]:   \n",
    "        ax2[c].legend()\n",
    "        ax2[c].set_xlabel('threshold')\n",
    "        ax2[c].set_ylabel('count')\n",
    "        ax2[c].set_ylim(0,204)\n",
    "    plt.savefig('result.jpg')"
   ]
  },
  {
   "cell_type": "code",
   "execution_count": 48,
   "id": "36d6bd3c",
   "metadata": {},
   "outputs": [
    {
     "data": {
      "text/plain": [
       "(204, 5)"
      ]
     },
     "execution_count": 48,
     "metadata": {},
     "output_type": "execute_result"
    }
   ],
   "source": [
    "test_df_result.shape"
   ]
  },
  {
   "cell_type": "code",
   "execution_count": 57,
   "id": "867015ef",
   "metadata": {},
   "outputs": [
    {
     "ename": "TypeError",
     "evalue": "list indices must be integers or slices, not tuple",
     "output_type": "error",
     "traceback": [
      "\u001b[1;31m---------------------------------------------------------------------------\u001b[0m",
      "\u001b[1;31mTypeError\u001b[0m                                 Traceback (most recent call last)",
      "Cell \u001b[1;32mIn [57], line 1\u001b[0m\n\u001b[1;32m----> 1\u001b[0m plt\u001b[38;5;241m.\u001b[39mplot(\u001b[43mplot_wrong_count\u001b[49m\u001b[43m[\u001b[49m\u001b[43m:\u001b[49m\u001b[43m,\u001b[49m\u001b[38;5;241;43m0\u001b[39;49m\u001b[43m]\u001b[49m, plot_wrong_count[:,\u001b[38;5;241m1\u001b[39m],label\u001b[38;5;241m=\u001b[39m\u001b[38;5;124m'\u001b[39m\u001b[38;5;124m0.5_test\u001b[39m\u001b[38;5;124m'\u001b[39m)\n\u001b[0;32m      2\u001b[0m plt\u001b[38;5;241m.\u001b[39mscatter(plot_wrong_count[:,\u001b[38;5;241m0\u001b[39m], plot_wrong_count[:,\u001b[38;5;241m1\u001b[39m])\n\u001b[0;32m      3\u001b[0m plt\u001b[38;5;241m.\u001b[39mplot(plot_wrong_count[:,\u001b[38;5;241m0\u001b[39m], plot_wrong_count[:,\u001b[38;5;241m2\u001b[39m],label\u001b[38;5;241m=\u001b[39m\u001b[38;5;124m'\u001b[39m\u001b[38;5;124m0.7_test\u001b[39m\u001b[38;5;124m'\u001b[39m)\n",
      "\u001b[1;31mTypeError\u001b[0m: list indices must be integers or slices, not tuple"
     ]
    }
   ],
   "source": []
  },
  {
   "cell_type": "code",
   "execution_count": 50,
   "id": "6c1990c5",
   "metadata": {},
   "outputs": [
    {
     "name": "stdout",
     "output_type": "stream",
     "text": [
      "[[21 17]\n",
      " [21 17]\n",
      " [21 17]\n",
      " [21 17]\n",
      " [21 17]\n",
      " [21 17]\n",
      " [21 17]\n",
      " [21 17]\n",
      " [21 17]\n",
      " [21 17]\n",
      " [21 17]\n",
      " [21 17]\n",
      " [21 17]]\n",
      "[[18 21]\n",
      " [18 21]\n",
      " [18 21]\n",
      " [18 21]\n",
      " [18 21]\n",
      " [18 21]\n",
      " [18 21]\n",
      " [18 21]\n",
      " [18 21]\n",
      " [18 21]\n",
      " [18 21]\n",
      " [18 21]\n",
      " [18 21]]\n",
      "[[23 19]\n",
      " [23 19]\n",
      " [23 19]\n",
      " [23 19]\n",
      " [23 19]\n",
      " [23 19]\n",
      " [23 19]\n",
      " [23 19]\n",
      " [23 19]\n",
      " [23 19]\n",
      " [23 19]\n",
      " [23 19]\n",
      " [23 19]]\n"
     ]
    },
    {
     "data": {
      "text/plain": [
       "(0.0, 30.0)"
      ]
     },
     "execution_count": 50,
     "metadata": {},
     "output_type": "execute_result"
    },
    {
     "data": {
      "image/png": "[encoded data removed]",
      "text/plain": [
       "<Figure size 640x480 with 1 Axes>"
      ]
     },
     "metadata": {},
     "output_type": "display_data"
    }
   ],
   "source": [
    "for i,count in plot_label_count[:-2]:\n",
    "    print(np.array(list(count.values())))\n",
    "    plt.plot(list(count.keys()), np.array(list(count.values()))[:,0],label=i)\n",
    "#     plt.scatter(list(count.keys()), list(count.values()),label=i)\n",
    "plt.legend()\n",
    "plt.ylim(0,30)"
   ]
  },
  {
   "cell_type": "code",
   "execution_count": 343,
   "id": "917fff44",
   "metadata": {
    "scrolled": true
   },
   "outputs": [
    {
     "name": "stdout",
     "output_type": "stream",
     "text": [
      "False classification:  {'5': 5, '6': 2, '2': 3, '13': 3, '3': 3, '11': 2, '10': 1, '8': 1}\n"
     ]
    },
    {
     "data": {
      "text/plain": [
       "{'5': [948, 985, 994, 993, 700],\n",
       " '6': [948, 985],\n",
       " '2': [948, 985, 637],\n",
       " '13': [985, 994, 993],\n",
       " '3': [994, 993, 700],\n",
       " '11': [994, 993],\n",
       " '10': [994],\n",
       " '8': [993]}"
      ]
     },
     "execution_count": 343,
     "metadata": {},
     "output_type": "execute_result"
    }
   ],
   "source": [
    "\n",
    "img_dict"
   ]
  },
  {
   "cell_type": "code",
   "execution_count": 333,
   "id": "4e1a1fc7",
   "metadata": {},
   "outputs": [
    {
     "name": "stdout",
     "output_type": "stream",
     "text": [
      "2 0.6\n",
      "3 0.6\n",
      "5 1.0\n",
      "6 0.4\n",
      "8 0.2\n",
      "10 0.2\n",
      "11 0.4\n",
      "13 0.6\n"
     ]
    }
   ],
   "source": [
    "\n"
   ]
  },
  {
   "cell_type": "code",
   "execution_count": 334,
   "id": "9a6cbf54",
   "metadata": {},
   "outputs": [
    {
     "data": {
      "text/plain": [
       "(0.0, 5.0)"
      ]
     },
     "execution_count": 334,
     "metadata": {},
     "output_type": "execute_result"
    },
    {
     "data": {
      "image/png": "[encoded data removed]",
      "text/plain": [
       "<Figure size 640x480 with 1 Axes>"
      ]
     },
     "metadata": {},
     "output_type": "display_data"
    }
   ],
   "source": [
    "plt.hist(false_ls,bins=np.arange(0.5,14.5,1))\n",
    "plt.xticks(np.arange(1,15))\n",
    "plt.ylim(0,5)"
   ]
  },
  {
   "cell_type": "code",
   "execution_count": 95,
   "id": "49480b39",
   "metadata": {},
   "outputs": [],
   "source": [
    "with open(f'splits/PA/split_16.pyb', \"rb\") as f:\n",
    "    _,_,train_seg_path,test_seg_path,_,_ = pickle.load(f)"
   ]
  },
  {
   "cell_type": "code",
   "execution_count": 98,
   "id": "73e72fd5",
   "metadata": {},
   "outputs": [
    {
     "name": "stdout",
     "output_type": "stream",
     "text": [
      "train segmenation count:  {'4': 4, '13': 6, '9': 3, '12': 6, '3': 11, '10': 1, '8': 2, '5': 1, '7': 1, '11': 2, '6': 1, '2': 1}\n"
     ]
    }
   ],
   "source": [
    "count_dict = {}\n",
    "for img in train_seg_path:\n",
    "    i = os.path.basename(os.path.normpath(img))\n",
    "    i = int(i[:-4])\n",
    "    if i not in image_label_pair.keys():\n",
    "        continue\n",
    "    for l in image_label_pair[i]:\n",
    "        if l in count_dict.keys():\n",
    "            count_dict[l]+=1\n",
    "        else:\n",
    "            count_dict[l] = 1\n",
    "print('train segmenation count: ',count_dict)   "
   ]
  },
  {
   "cell_type": "code",
   "execution_count": 99,
   "id": "2e692175",
   "metadata": {},
   "outputs": [
    {
     "name": "stdout",
     "output_type": "stream",
     "text": [
      "test segmenation count:  {'11': 9, '13': 12, '3': 64, '12': 13, '8': 10, '7': 16, '10': 15, '4': 14, '9': 15, '6': 13, '1': 11, '5': 6, '2': 8}\n"
     ]
    }
   ],
   "source": [
    "count_dict = {}\n",
    "for img in test_seg_path:\n",
    "    i = os.path.basename(os.path.normpath(img))\n",
    "    i = int(i[:-4])\n",
    "    if i not in image_label_pair.keys():\n",
    "        continue\n",
    "    for l in image_label_pair[i]:\n",
    "        if l in count_dict.keys():\n",
    "            count_dict[l]+=1\n",
    "        else:\n",
    "            count_dict[l] = 1\n",
    "print('test segmenation count: ',count_dict)  "
   ]
  },
  {
   "cell_type": "code",
   "execution_count": null,
   "id": "7570e667",
   "metadata": {},
   "outputs": [],
   "source": []
  }
 ],
 "metadata": {
  "kernelspec": {
   "display_name": "Python 3 (ipykernel)",
   "language": "python",
   "name": "python3"
  },
  "language_info": {
   "codemirror_mode": {
    "name": "ipython",
    "version": 3
   },
   "file_extension": ".py",
   "mimetype": "text/x-python",
   "name": "python",
   "nbconvert_exporter": "python",
   "pygments_lexer": "ipython3",
   "version": "3.8.15"
  }
 },
 "nbformat": 4,
 "nbformat_minor": 5
}
