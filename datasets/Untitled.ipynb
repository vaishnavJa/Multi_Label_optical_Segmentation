{
 "cells": [
  {
   "cell_type": "code",
   "execution_count": 36,
   "metadata": {},
   "outputs": [],
   "source": [
    "import cv2\n",
    "import glob\n",
    "import time"
   ]
  },
  {
   "cell_type": "code",
   "execution_count": 37,
   "metadata": {},
   "outputs": [],
   "source": [
    "img_loc = \"../../dataset/\"\n",
    "seg_loc = \"../../dataset/\""
   ]
  },
  {
   "cell_type": "code",
   "execution_count": 38,
   "metadata": {},
   "outputs": [],
   "source": [
    "img_files = glob.glob(img_loc+'Images_3000x1500/*jpg')\n",
    "seg_files = glob.glob(seg_loc+'mask_3000x1500/*jpg')"
   ]
  },
  {
   "cell_type": "code",
   "execution_count": 44,
   "metadata": {},
   "outputs": [
    {
     "name": "stdout",
     "output_type": "stream",
     "text": [
      "-507.12585043907166\n"
     ]
    }
   ],
   "source": [
    "start = time.time()\n",
    "for img_l in img_files:\n",
    "    img = cv2.imread(img_l)\n",
    "    new_img = cv2.resize(img, dsize=(3000,1496))\n",
    "    img_name = img_l.split('/')[-1]\n",
    "    cv2.imwrite(f'../../dataset/images_3000x1496/{img_name}',new_img)\n",
    "\n",
    "for seg_l in seg_files:\n",
    "    seg = cv2.imread(seg_l)\n",
    "    new_seg = cv2.resize(seg, dsize=(3000,1496))\n",
    "    seg_name = seg_l.split('/')[-1]\n",
    "    cv2.imwrite(f'../../dataset/mask_3000x1496/{seg_name}',new_seg)\n",
    "    \n",
    "print(start - time.time())"
   ]
  },
  {
   "cell_type": "code",
   "execution_count": null,
   "metadata": {},
   "outputs": [],
   "source": [
    "import matplotlib.pyplot as plt\n",
    "%matplotlib inline"
   ]
  },
  {
   "cell_type": "code",
   "execution_count": 42,
   "metadata": {},
   "outputs": [
    {
     "data": {
      "text/plain": [
       "1000"
      ]
     },
     "execution_count": 42,
     "metadata": {},
     "output_type": "execute_result"
    }
   ],
   "source": [
    "len(img_files)"
   ]
  },
  {
   "cell_type": "code",
   "execution_count": null,
   "metadata": {},
   "outputs": [],
   "source": []
  }
 ],
 "metadata": {
  "kernelspec": {
   "display_name": "Python 3",
   "language": "python",
   "name": "python3"
  },
  "language_info": {
   "codemirror_mode": {
    "name": "ipython",
    "version": 3
   },
   "file_extension": ".py",
   "mimetype": "text/x-python",
   "name": "python",
   "nbconvert_exporter": "python",
   "pygments_lexer": "ipython3",
   "version": "3.8.5"
  }
 },
 "nbformat": 4,
 "nbformat_minor": 4
}
