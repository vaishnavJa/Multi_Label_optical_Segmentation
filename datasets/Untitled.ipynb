{
 "cells": [
  {
   "cell_type": "code",
   "execution_count": 267,
   "metadata": {},
   "outputs": [],
   "source": [
    "import cv2\n",
    "import glob\n",
    "import time\n",
    "import os"
   ]
  },
  {
   "cell_type": "code",
   "execution_count": 268,
   "metadata": {},
   "outputs": [],
   "source": [
    "directory = \"/home/hpc/iwfa/iwfa024h/dataset/\""
   ]
  },
  {
   "cell_type": "code",
   "execution_count": 269,
   "metadata": {},
   "outputs": [],
   "source": [
    "img_files = glob.glob(directory+'Images_3000x1500/*jpg')\n",
    "seg_loc = directory+'mask_512x256/'"
   ]
  },
  {
   "cell_type": "code",
   "execution_count": 274,
   "metadata": {},
   "outputs": [],
   "source": [
    "seg_dataset1 = os.path.join(directory,'dataset1/mask_512x256/')\n",
    "seg_dataset2 = os.path.join(directory,'dataset2/mask_512x256/')\n",
    "seg_dataset3 = os.path.join(directory,'dataset3/mask_512x256/')"
   ]
  },
  {
   "cell_type": "code",
   "execution_count": 275,
   "metadata": {},
   "outputs": [],
   "source": [
    "def strip_class(fn):\n",
    "    seg_name = fn.split('/')[-1]\n",
    "    return seg_name[:-4].split('_')[-1]\n",
    "    "
   ]
  },
  {
   "cell_type": "code",
   "execution_count": 276,
   "metadata": {},
   "outputs": [],
   "source": [
    "def change_label(fn,label,final_path):\n",
    "    seg_path,seg_name =  '/'.join(fn.split('/')[:-1]),fn.split('/')[-1]\n",
    "    seg_image,_ = seg_name[:-4].split('_')[0],seg_name[:-4].split('_')[1]\n",
    "#     print(seg_path)\n",
    "    return os.path.join(final_path,f'{seg_image}_{label}.jpg')"
   ]
  },
  {
   "cell_type": "code",
   "execution_count": 279,
   "metadata": {},
   "outputs": [],
   "source": [
    "for paths in [seg_dataset1 ,seg_dataset2 ,seg_dataset3 ]:\n",
    "    os.system(f'rm {paths}/*')"
   ]
  },
  {
   "cell_type": "code",
   "execution_count": 280,
   "metadata": {},
   "outputs": [],
   "source": [
    "\n",
    "for i in range(1,1001):\n",
    "    seg_files = glob.glob(os.path.join(seg_loc,f'{i}_*'))\n",
    "#     seg_files = ['/home/hpc/iwfa/iwfa024h/dataset/mask_512x256/599_4.jpg']\n",
    "    for s in seg_files:\n",
    "        label = int(strip_class(s))\n",
    "#         print(s,'d')\n",
    "        d1label = label\n",
    "        if label == 3:\n",
    "            continue\n",
    "        if d1label >= 4 :\n",
    "            d1label = label - 1\n",
    "        new_d1s = change_label(s,d1label,seg_dataset1)\n",
    "        os.system(f'cp {s} {new_d1s}')\n",
    "        if label == 1:\n",
    "            continue\n",
    "        d2label = d1label - 1\n",
    "        new_d2s = change_label(s,d2label,seg_dataset2)\n",
    "        os.system(f'cp {s} {new_d2s}')      "
   ]
  },
  {
   "cell_type": "code",
   "execution_count": 282,
   "metadata": {},
   "outputs": [],
   "source": [
    "for i in range(1,1001):\n",
    "    seg_files = glob.glob(os.path.join(seg_loc,f'{i}_*'))\n",
    "#     seg_files = ['/home/hpc/iwfa/iwfa024h/dataset/mask_512x256/599_4.jpg']\n",
    "    for s in seg_files:\n",
    "        label = int(strip_class(s))\n",
    "        d3label = label-1\n",
    "        if label == 1:\n",
    "            continue\n",
    "        new_d3s = change_label(s,d3label,seg_dataset3)\n",
    "        os.system(f'cp {s} {new_d3s}')\n",
    "        "
   ]
  },
  {
   "cell_type": "code",
   "execution_count": 265,
   "metadata": {},
   "outputs": [
    {
     "data": {
      "text/plain": [
       "1"
      ]
     },
     "execution_count": 265,
     "metadata": {},
     "output_type": "execute_result"
    }
   ],
   "source": [
    "d1label"
   ]
  },
  {
   "cell_type": "code",
   "execution_count": null,
   "metadata": {},
   "outputs": [],
   "source": [
    "import matplotlib.pyplot as plt\n",
    "%matplotlib inline"
   ]
  },
  {
   "cell_type": "code",
   "execution_count": 42,
   "metadata": {},
   "outputs": [
    {
     "data": {
      "text/plain": [
       "1000"
      ]
     },
     "execution_count": 42,
     "metadata": {},
     "output_type": "execute_result"
    }
   ],
   "source": [
    "len(img_files)"
   ]
  },
  {
   "cell_type": "code",
   "execution_count": null,
   "metadata": {},
   "outputs": [],
   "source": []
  }
 ],
 "metadata": {
  "kernelspec": {
   "display_name": "Python 3",
   "language": "python",
   "name": "python3"
  },
  "language_info": {
   "codemirror_mode": {
    "name": "ipython",
    "version": 3
   },
   "file_extension": ".py",
   "mimetype": "text/x-python",
   "name": "python",
   "nbconvert_exporter": "python",
   "pygments_lexer": "ipython3",
   "version": "3.8.5"
  }
 },
 "nbformat": 4,
 "nbformat_minor": 4
}
