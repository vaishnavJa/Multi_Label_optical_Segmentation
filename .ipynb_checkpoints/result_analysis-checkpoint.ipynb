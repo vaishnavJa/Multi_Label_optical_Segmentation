{
 "cells": [
  {
   "cell_type": "code",
   "execution_count": 335,
   "id": "9ecc7c88",
   "metadata": {},
   "outputs": [],
   "source": [
    "import pandas as pd\n",
    "import numpy as np\n",
    "import cv2\n",
    "import matplotlib.pyplot as plt\n",
    "import os\n",
    "import pickle\n",
    "import re\n",
    "from sklearn.metrics import f1_score,precision_score,recall_score\n",
    "\n",
    "%matplotlib inline"
   ]
  },
  {
   "cell_type": "code",
   "execution_count": null,
   "id": "5a7e4345",
   "metadata": {},
   "outputs": [],
   "source": []
  },
  {
   "cell_type": "code",
   "execution_count": 101,
   "id": "aa5b0b9e",
   "metadata": {},
   "outputs": [
    {
     "name": "stdout",
     "output_type": "stream",
     "text": [
      "WS288 0.9842931937172774 1.0 0.9690721649484536\n",
      "WS126 0.9538461538461539 0.9489795918367347 0.9587628865979382\n",
      "WS53 0.9533678756476685 0.9484536082474226 0.9583333333333334\n",
      "WS16 - Copy 0.8214285714285714 0.971830985915493 0.711340206185567\n",
      "WS0 - Copy 0.5808383233532933 0.4092827004219409 1.0\n"
     ]
    }
   ],
   "source": [
    "result_parent_path =  \"E:/AI/FAPS/code/Mixedsupervision/results/PA\"\n",
    "test_paths = ['WS288','WS126','WS53','WS16 - Copy','WS0 - Copy']\n",
    "for testname in test_paths:\n",
    "    resultcsv_path = os.path.join(result_parent_path,testname,'results.csv').replace(\"\\\\\",'/')\n",
    "    df_result = pd.read_csv(resultcsv_path)\n",
    "    df_result.loc[:,'ground_truth'] =  df_result.loc[:,'ground_truth'] == 1\n",
    "    \n",
    "    print(testname,f1_score(df_result.ground_truth,df_result.decision),precision_score(df_result.ground_truth,df_result.decision),recall_score(df_result.ground_truth,df_result.decision))\n",
    "    wrong_df = df_result.loc[df_result['decision'] != df_result['ground_truth'],:]"
   ]
  },
  {
   "cell_type": "code",
   "execution_count": 102,
   "id": "b108908c",
   "metadata": {},
   "outputs": [
    {
     "name": "stdout",
     "output_type": "stream",
     "text": [
      "N_246 0.9019607843137255 0.9787234042553191 0.8363636363636363\n",
      "N_126 0.892018779342723 0.9223300970873787 0.8636363636363636\n",
      "N_53 0.8712871287128713 0.9565217391304348 0.8\n",
      "N_16 0.8341708542713567 0.9325842696629213 0.7545454545454545\n",
      "N_0 0.6853932584269663 0.8970588235294118 0.5545454545454546\n"
     ]
    }
   ],
   "source": [
    "result_parent_path =  \"E:/AI/FAPS/code/Mixedsupervision/results/KSDD2\"\n",
    "test_paths = ['N_246','N_126','N_53','N_16','N_0']\n",
    "for testname in test_paths:\n",
    "    resultcsv_path = os.path.join(result_parent_path,testname,'results.csv').replace(\"\\\\\",'/')\n",
    "    df_result = pd.read_csv(resultcsv_path)\n",
    "    df_result.loc[:,'ground_truth'] =  df_result.loc[:,'ground_truth'] == 1\n",
    "    \n",
    "    print(testname,f1_score(df_result.ground_truth,df_result.decision),precision_score(df_result.ground_truth,df_result.decision),recall_score(df_result.ground_truth,df_result.decision))\n",
    "    wrong_df = df_result.loc[df_result['decision'] != df_result['ground_truth'],:]"
   ]
  },
  {
   "cell_type": "code",
   "execution_count": null,
   "id": "5821ad9b",
   "metadata": {},
   "outputs": [],
   "source": []
  },
  {
   "cell_type": "code",
   "execution_count": 97,
   "id": "4ad6e726",
   "metadata": {},
   "outputs": [],
   "source": [
    "testname = 'WEIGHTED_SEG_LOSS_MAX'\n",
    "test_value = 2"
   ]
  },
  {
   "cell_type": "code",
   "execution_count": 307,
   "id": "c42fe1e2",
   "metadata": {},
   "outputs": [],
   "source": [
    "testname = 'WEIGHTED_SEG_LOSS_P_0.5'\n",
    "test_value = 2"
   ]
  },
  {
   "cell_type": "code",
   "execution_count": 267,
   "id": "7ddb81af",
   "metadata": {},
   "outputs": [],
   "source": [
    "testname = 'WEIGHTED_SEG_LOSS_P'\n",
    "test_value = 0"
   ]
  },
  {
   "cell_type": "code",
   "execution_count": null,
   "id": "72e14b5e",
   "metadata": {},
   "outputs": [],
   "source": []
  },
  {
   "cell_type": "code",
   "execution_count": 326,
   "id": "963366ad",
   "metadata": {},
   "outputs": [
    {
     "data": {
      "text/plain": [
       "'WEIGHTED_SEG_LOSS_P_0.5'"
      ]
     },
     "execution_count": 326,
     "metadata": {},
     "output_type": "execute_result"
    }
   ],
   "source": [
    "# result_parent_path =  f\"E:/AI/FAPS/code/Mixedsupervision/results/HYPERPARAM/{testname}/{test_value}/PA/FS269/results2.csv\"\n",
    "resultcsv_path = os.path.join(result_parent_path,testname,'results.csv').replace(\"\\\\\",'/')\n",
    "resultcsv_path = result_parent_path\n",
    "df_result = pd.read_csv(resultcsv_path)\n",
    "testname\n",
    "# df_result.loc[:,'ground_truth'] =  df_result.loc[:,'ground_truth'] == 1"
   ]
  },
  {
   "cell_type": "code",
   "execution_count": 327,
   "id": "36d6bd3c",
   "metadata": {},
   "outputs": [
    {
     "name": "stdout",
     "output_type": "stream",
     "text": [
      "6 %6.0\n"
     ]
    }
   ],
   "source": [
    "wrong_df = df_result[(df_result['IOU'] < 0.5)].sort_values('IOU')\n",
    "print(f'{wrong_df.shape[0]} %{wrong_df.shape[0]/df_result.shape[0]*100//1}')"
   ]
  },
  {
   "cell_type": "code",
   "execution_count": 328,
   "id": "867015ef",
   "metadata": {},
   "outputs": [
    {
     "data": {
      "text/plain": [
       "0.7830131105664704"
      ]
     },
     "execution_count": 328,
     "metadata": {},
     "output_type": "execute_result"
    }
   ],
   "source": [
    "df_result.IOU[df_result.ground_truth == True].mean()"
   ]
  },
  {
   "cell_type": "code",
   "execution_count": 329,
   "id": "6c1990c5",
   "metadata": {},
   "outputs": [],
   "source": [
    "imgs = []\n",
    "for i in wrong_df.index:\n",
    "    img = wrong_df.loc[i].img_name\n",
    "    imgs.append(img)"
   ]
  },
  {
   "cell_type": "code",
   "execution_count": 330,
   "id": "84795b51",
   "metadata": {},
   "outputs": [],
   "source": [
    "with open(f'labels/l_to_i.pyb', \"rb\") as fp:   #Pickling\n",
    "    label_image_pair = pickle.load(fp)\n",
    "with open(f'labels/i_l.pyb', \"rb\") as fp:   #Pickling\n",
    "    image_label_pair = pickle.load(fp)"
   ]
  },
  {
   "cell_type": "code",
   "execution_count": 331,
   "id": "0b08597b",
   "metadata": {},
   "outputs": [
    {
     "data": {
      "text/html": [
       "<div>\n",
       "<style scoped>\n",
       "    .dataframe tbody tr th:only-of-type {\n",
       "        vertical-align: middle;\n",
       "    }\n",
       "\n",
       "    .dataframe tbody tr th {\n",
       "        vertical-align: top;\n",
       "    }\n",
       "\n",
       "    .dataframe thead th {\n",
       "        text-align: right;\n",
       "    }\n",
       "</style>\n",
       "<table border=\"1\" class=\"dataframe\">\n",
       "  <thead>\n",
       "    <tr style=\"text-align: right;\">\n",
       "      <th></th>\n",
       "      <th>prediction</th>\n",
       "      <th>IOU</th>\n",
       "      <th>decision</th>\n",
       "      <th>ground_truth</th>\n",
       "      <th>img_name</th>\n",
       "    </tr>\n",
       "  </thead>\n",
       "  <tbody>\n",
       "    <tr>\n",
       "      <th>89</th>\n",
       "      <td>0.999999</td>\n",
       "      <td>0.092150</td>\n",
       "      <td>True</td>\n",
       "      <td>1.0</td>\n",
       "      <td>948</td>\n",
       "    </tr>\n",
       "    <tr>\n",
       "      <th>93</th>\n",
       "      <td>0.999999</td>\n",
       "      <td>0.261771</td>\n",
       "      <td>True</td>\n",
       "      <td>1.0</td>\n",
       "      <td>985</td>\n",
       "    </tr>\n",
       "    <tr>\n",
       "      <th>62</th>\n",
       "      <td>0.502563</td>\n",
       "      <td>0.445313</td>\n",
       "      <td>True</td>\n",
       "      <td>1.0</td>\n",
       "      <td>637</td>\n",
       "    </tr>\n",
       "    <tr>\n",
       "      <th>95</th>\n",
       "      <td>0.999368</td>\n",
       "      <td>0.449762</td>\n",
       "      <td>True</td>\n",
       "      <td>1.0</td>\n",
       "      <td>994</td>\n",
       "    </tr>\n",
       "    <tr>\n",
       "      <th>94</th>\n",
       "      <td>0.999907</td>\n",
       "      <td>0.451547</td>\n",
       "      <td>True</td>\n",
       "      <td>1.0</td>\n",
       "      <td>993</td>\n",
       "    </tr>\n",
       "    <tr>\n",
       "      <th>67</th>\n",
       "      <td>0.966389</td>\n",
       "      <td>0.460938</td>\n",
       "      <td>True</td>\n",
       "      <td>1.0</td>\n",
       "      <td>700</td>\n",
       "    </tr>\n",
       "  </tbody>\n",
       "</table>\n",
       "</div>"
      ],
      "text/plain": [
       "    prediction       IOU  decision  ground_truth  img_name\n",
       "89    0.999999  0.092150      True           1.0       948\n",
       "93    0.999999  0.261771      True           1.0       985\n",
       "62    0.502563  0.445313      True           1.0       637\n",
       "95    0.999368  0.449762      True           1.0       994\n",
       "94    0.999907  0.451547      True           1.0       993\n",
       "67    0.966389  0.460938      True           1.0       700"
      ]
     },
     "execution_count": 331,
     "metadata": {},
     "output_type": "execute_result"
    }
   ],
   "source": [
    "wrong_df"
   ]
  },
  {
   "cell_type": "code",
   "execution_count": 332,
   "id": "917fff44",
   "metadata": {
    "scrolled": true
   },
   "outputs": [
    {
     "name": "stdout",
     "output_type": "stream",
     "text": [
      "False classification:  {'5': 5, '6': 2, '2': 3, '13': 3, '3': 3, '11': 2, '10': 1, '8': 1}\n"
     ]
    },
    {
     "data": {
      "text/plain": [
       "{'5': [948, 985, 994, 993, 700],\n",
       " '6': [948, 985],\n",
       " '2': [948, 985, 637],\n",
       " '13': [985, 994, 993],\n",
       " '3': [994, 993, 700],\n",
       " '11': [994, 993],\n",
       " '10': [994],\n",
       " '8': [993]}"
      ]
     },
     "execution_count": 332,
     "metadata": {},
     "output_type": "execute_result"
    }
   ],
   "source": [
    "count_dict = {}\n",
    "img_dict = {}\n",
    "false_ls = []\n",
    "for i in imgs:\n",
    "    if i not in image_label_pair.keys():\n",
    "        continue\n",
    "    for l in image_label_pair[i]:\n",
    "        false_ls.append(int(l))\n",
    "        if l in count_dict.keys():\n",
    "            count_dict[l]+=1\n",
    "            img_dict[l].append(i)\n",
    "        else:\n",
    "            count_dict[l] = 1\n",
    "            img_dict[l] = [i]\n",
    "\n",
    "print('False classification: ',count_dict)\n",
    "img_dict"
   ]
  },
  {
   "cell_type": "code",
   "execution_count": 333,
   "id": "4e1a1fc7",
   "metadata": {},
   "outputs": [
    {
     "name": "stdout",
     "output_type": "stream",
     "text": [
      "2 0.6\n",
      "3 0.6\n",
      "5 1.0\n",
      "6 0.4\n",
      "8 0.2\n",
      "10 0.2\n",
      "11 0.4\n",
      "13 0.6\n"
     ]
    }
   ],
   "source": [
    "for l in np.sort(np.int32(list(count_dict.keys()))):\n",
    "    print(l,count_dict[str(l)]/5)\n"
   ]
  },
  {
   "cell_type": "code",
   "execution_count": 334,
   "id": "9a6cbf54",
   "metadata": {},
   "outputs": [
    {
     "data": {
      "text/plain": [
       "(0.0, 5.0)"
      ]
     },
     "execution_count": 334,
     "metadata": {},
     "output_type": "execute_result"
    },
    {
     "data": {
      "image/png": "[encoded data removed]",
      "text/plain": [
       "<Figure size 640x480 with 1 Axes>"
      ]
     },
     "metadata": {},
     "output_type": "display_data"
    }
   ],
   "source": [
    "plt.hist(false_ls,bins=np.arange(0.5,14.5,1))\n",
    "plt.xticks(np.arange(1,15))\n",
    "plt.ylim(0,5)"
   ]
  },
  {
   "cell_type": "code",
   "execution_count": 95,
   "id": "49480b39",
   "metadata": {},
   "outputs": [],
   "source": [
    "with open(f'splits/PA/split_16.pyb', \"rb\") as f:\n",
    "    _,_,train_seg_path,test_seg_path,_,_ = pickle.load(f)"
   ]
  },
  {
   "cell_type": "code",
   "execution_count": 98,
   "id": "73e72fd5",
   "metadata": {},
   "outputs": [
    {
     "name": "stdout",
     "output_type": "stream",
     "text": [
      "train segmenation count:  {'4': 4, '13': 6, '9': 3, '12': 6, '3': 11, '10': 1, '8': 2, '5': 1, '7': 1, '11': 2, '6': 1, '2': 1}\n"
     ]
    }
   ],
   "source": [
    "count_dict = {}\n",
    "for img in train_seg_path:\n",
    "    i = os.path.basename(os.path.normpath(img))\n",
    "    i = int(i[:-4])\n",
    "    if i not in image_label_pair.keys():\n",
    "        continue\n",
    "    for l in image_label_pair[i]:\n",
    "        if l in count_dict.keys():\n",
    "            count_dict[l]+=1\n",
    "        else:\n",
    "            count_dict[l] = 1\n",
    "print('train segmenation count: ',count_dict)   "
   ]
  },
  {
   "cell_type": "code",
   "execution_count": 99,
   "id": "2e692175",
   "metadata": {},
   "outputs": [
    {
     "name": "stdout",
     "output_type": "stream",
     "text": [
      "test segmenation count:  {'11': 9, '13': 12, '3': 64, '12': 13, '8': 10, '7': 16, '10': 15, '4': 14, '9': 15, '6': 13, '1': 11, '5': 6, '2': 8}\n"
     ]
    }
   ],
   "source": [
    "count_dict = {}\n",
    "for img in test_seg_path:\n",
    "    i = os.path.basename(os.path.normpath(img))\n",
    "    i = int(i[:-4])\n",
    "    if i not in image_label_pair.keys():\n",
    "        continue\n",
    "    for l in image_label_pair[i]:\n",
    "        if l in count_dict.keys():\n",
    "            count_dict[l]+=1\n",
    "        else:\n",
    "            count_dict[l] = 1\n",
    "print('test segmenation count: ',count_dict)  "
   ]
  },
  {
   "cell_type": "code",
   "execution_count": null,
   "id": "7570e667",
   "metadata": {},
   "outputs": [],
   "source": []
  }
 ],
 "metadata": {
  "kernelspec": {
   "display_name": "Python 3 (ipykernel)",
   "language": "python",
   "name": "python3"
  },
  "language_info": {
   "codemirror_mode": {
    "name": "ipython",
    "version": 3
   },
   "file_extension": ".py",
   "mimetype": "text/x-python",
   "name": "python",
   "nbconvert_exporter": "python",
   "pygments_lexer": "ipython3",
   "version": "3.8.15"
  }
 },
 "nbformat": 4,
 "nbformat_minor": 5
}
