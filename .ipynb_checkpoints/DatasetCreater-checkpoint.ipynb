{
 "cells": [
  {
   "cell_type": "code",
   "execution_count": 1,
   "id": "fc9231ce",
   "metadata": {},
   "outputs": [],
   "source": [
    "from sklearn.model_selection import train_test_split\n",
    "from glob import glob\n",
    "import os\n",
    "import shutil"
   ]
  },
  {
   "cell_type": "code",
   "execution_count": 11,
   "id": "f63831bf",
   "metadata": {},
   "outputs": [],
   "source": [
    "def get_filepaths(directory,low,high):\n",
    "    \n",
    "    filepaths = []\n",
    "    for filename in os.listdir(directory):\n",
    "        basename, ext = os.path.splitext(filename)\n",
    "        if ext != '.jpg':\n",
    "            continue\n",
    "        try:\n",
    "            number = int(basename)\n",
    "        except ValueError:\n",
    "            continue  # not numeric\n",
    "        if low <= number <= high:\n",
    "            # process file\n",
    "            filename = os.path.join(directory, filename)\n",
    "            filepaths.append(filename)\n",
    "            \n",
    "    return filepaths"
   ]
  },
  {
   "cell_type": "code",
   "execution_count": 12,
   "id": "fd768c60",
   "metadata": {},
   "outputs": [],
   "source": [
    "def copy_files(files,dst):\n",
    "    \n",
    "    old_files = glob(os.path.join(dst,'*'))\n",
    "    for f in old_files:\n",
    "        os.chmod(f,0o777)\n",
    "        os.remove(f)\n",
    "    for file in files:\n",
    "        shutil.copy(file,dst)"
   ]
  },
  {
   "cell_type": "code",
   "execution_count": 13,
   "id": "a9ad6ca2",
   "metadata": {},
   "outputs": [],
   "source": [
    "img_src = 'E:/AI/FAPS/dataset/PA_Jakob_Röser_Datenträger/06_Datensätze/01_Images/Images_512x256'\n",
    "seg_src = 'E:/AI/FAPS/dataset/PA_Jakob_Röser_Datenträger/06_Datensätze/01_Masks/Masks_JPG_512x256'"
   ]
  },
  {
   "cell_type": "code",
   "execution_count": 14,
   "id": "809fc37c",
   "metadata": {},
   "outputs": [],
   "source": [
    "train_pos_dst = 'E:/AI/FAPS/dataset/train/pos'\n",
    "train_neg_dst = 'E:/AI/FAPS/dataset/train/neg'\n",
    "train_seg_dst = 'E:/AI/FAPS/dataset/train/seg'\n",
    "\n",
    "test_pos_dst = 'E:/AI/FAPS/dataset/test/pos'\n",
    "test_neg_dst = 'E:/AI/FAPS/dataset/test/neg'\n",
    "test_seg_dst = 'E:/AI/FAPS/dataset/test/seg'"
   ]
  },
  {
   "cell_type": "code",
   "execution_count": 6,
   "id": "8f50ba02",
   "metadata": {},
   "outputs": [],
   "source": [
    "all_data_neg = get_filepaths(img_src,1,600)"
   ]
  },
  {
   "cell_type": "code",
   "execution_count": 7,
   "id": "9680ffac",
   "metadata": {},
   "outputs": [],
   "source": [
    "all_data_pos = get_filepaths(img_src,601,1000)"
   ]
  },
  {
   "cell_type": "code",
   "execution_count": 8,
   "id": "7c6b0aa7",
   "metadata": {},
   "outputs": [],
   "source": [
    "all_data_seg = get_filepaths(seg_src,601,1000)"
   ]
  },
  {
   "cell_type": "code",
   "execution_count": 10,
   "id": "6f541f87",
   "metadata": {},
   "outputs": [
    {
     "data": {
      "text/plain": [
       "[]"
      ]
     },
     "execution_count": 10,
     "metadata": {},
     "output_type": "execute_result"
    }
   ],
   "source": [
    "all_data_seg"
   ]
  },
  {
   "cell_type": "code",
   "execution_count": 9,
   "id": "5d5f6c30",
   "metadata": {},
   "outputs": [
    {
     "ename": "ValueError",
     "evalue": "Found input variables with inconsistent numbers of samples: [400, 0]",
     "output_type": "error",
     "traceback": [
      "\u001b[1;31m---------------------------------------------------------------------------\u001b[0m",
      "\u001b[1;31mValueError\u001b[0m                                Traceback (most recent call last)",
      "Cell \u001b[1;32mIn [9], line 1\u001b[0m\n\u001b[1;32m----> 1\u001b[0m train_pos_path,test_pos_path,train_seg_path,test_seg_path \u001b[38;5;241m=\u001b[39m \u001b[43mtrain_test_split\u001b[49m\u001b[43m(\u001b[49m\u001b[43mall_data_pos\u001b[49m\u001b[43m,\u001b[49m\u001b[43mall_data_seg\u001b[49m\u001b[43m)\u001b[49m\n\u001b[0;32m      2\u001b[0m train_neg_path,test_neg_path \u001b[38;5;241m=\u001b[39m train_test_split(all_data_neg)\n",
      "File \u001b[1;32m~\\anaconda3\\envs\\MSSurface\\lib\\site-packages\\sklearn\\model_selection\\_split.py:2127\u001b[0m, in \u001b[0;36mtrain_test_split\u001b[1;34m(*arrays, **options)\u001b[0m\n\u001b[0;32m   2124\u001b[0m \u001b[38;5;28;01mif\u001b[39;00m options:\n\u001b[0;32m   2125\u001b[0m     \u001b[38;5;28;01mraise\u001b[39;00m \u001b[38;5;167;01mTypeError\u001b[39;00m(\u001b[38;5;124m\"\u001b[39m\u001b[38;5;124mInvalid parameters passed: \u001b[39m\u001b[38;5;132;01m%s\u001b[39;00m\u001b[38;5;124m\"\u001b[39m \u001b[38;5;241m%\u001b[39m \u001b[38;5;28mstr\u001b[39m(options))\n\u001b[1;32m-> 2127\u001b[0m arrays \u001b[38;5;241m=\u001b[39m \u001b[43mindexable\u001b[49m\u001b[43m(\u001b[49m\u001b[38;5;241;43m*\u001b[39;49m\u001b[43marrays\u001b[49m\u001b[43m)\u001b[49m\n\u001b[0;32m   2129\u001b[0m n_samples \u001b[38;5;241m=\u001b[39m _num_samples(arrays[\u001b[38;5;241m0\u001b[39m])\n\u001b[0;32m   2130\u001b[0m n_train, n_test \u001b[38;5;241m=\u001b[39m _validate_shuffle_split(n_samples, test_size, train_size,\n\u001b[0;32m   2131\u001b[0m                                           default_test_size\u001b[38;5;241m=\u001b[39m\u001b[38;5;241m0.25\u001b[39m)\n",
      "File \u001b[1;32m~\\anaconda3\\envs\\MSSurface\\lib\\site-packages\\sklearn\\utils\\validation.py:292\u001b[0m, in \u001b[0;36mindexable\u001b[1;34m(*iterables)\u001b[0m\n\u001b[0;32m    280\u001b[0m \u001b[38;5;124;03m\"\"\"Make arrays indexable for cross-validation.\u001b[39;00m\n\u001b[0;32m    281\u001b[0m \n\u001b[0;32m    282\u001b[0m \u001b[38;5;124;03mChecks consistent length, passes through None, and ensures that everything\u001b[39;00m\n\u001b[1;32m   (...)\u001b[0m\n\u001b[0;32m    289\u001b[0m \u001b[38;5;124;03m    List of objects to ensure sliceability.\u001b[39;00m\n\u001b[0;32m    290\u001b[0m \u001b[38;5;124;03m\"\"\"\u001b[39;00m\n\u001b[0;32m    291\u001b[0m result \u001b[38;5;241m=\u001b[39m [_make_indexable(X) \u001b[38;5;28;01mfor\u001b[39;00m X \u001b[38;5;129;01min\u001b[39;00m iterables]\n\u001b[1;32m--> 292\u001b[0m \u001b[43mcheck_consistent_length\u001b[49m\u001b[43m(\u001b[49m\u001b[38;5;241;43m*\u001b[39;49m\u001b[43mresult\u001b[49m\u001b[43m)\u001b[49m\n\u001b[0;32m    293\u001b[0m \u001b[38;5;28;01mreturn\u001b[39;00m result\n",
      "File \u001b[1;32m~\\anaconda3\\envs\\MSSurface\\lib\\site-packages\\sklearn\\utils\\validation.py:255\u001b[0m, in \u001b[0;36mcheck_consistent_length\u001b[1;34m(*arrays)\u001b[0m\n\u001b[0;32m    253\u001b[0m uniques \u001b[38;5;241m=\u001b[39m np\u001b[38;5;241m.\u001b[39munique(lengths)\n\u001b[0;32m    254\u001b[0m \u001b[38;5;28;01mif\u001b[39;00m \u001b[38;5;28mlen\u001b[39m(uniques) \u001b[38;5;241m>\u001b[39m \u001b[38;5;241m1\u001b[39m:\n\u001b[1;32m--> 255\u001b[0m     \u001b[38;5;28;01mraise\u001b[39;00m \u001b[38;5;167;01mValueError\u001b[39;00m(\u001b[38;5;124m\"\u001b[39m\u001b[38;5;124mFound input variables with inconsistent numbers of\u001b[39m\u001b[38;5;124m\"\u001b[39m\n\u001b[0;32m    256\u001b[0m                      \u001b[38;5;124m\"\u001b[39m\u001b[38;5;124m samples: \u001b[39m\u001b[38;5;132;01m%r\u001b[39;00m\u001b[38;5;124m\"\u001b[39m \u001b[38;5;241m%\u001b[39m [\u001b[38;5;28mint\u001b[39m(l) \u001b[38;5;28;01mfor\u001b[39;00m l \u001b[38;5;129;01min\u001b[39;00m lengths])\n",
      "\u001b[1;31mValueError\u001b[0m: Found input variables with inconsistent numbers of samples: [400, 0]"
     ]
    }
   ],
   "source": [
    "train_pos_path,test_pos_path,train_seg_path,test_seg_path = train_test_split(all_data_pos,all_data_seg)\n",
    "train_neg_path,test_neg_path = train_test_split(all_data_neg)"
   ]
  },
  {
   "cell_type": "code",
   "execution_count": 21,
   "id": "6e6e0537",
   "metadata": {},
   "outputs": [],
   "source": [
    "copy_files(train_pos_path,train_pos_dst)\n",
    "copy_files(test_pos_path,test_pos_dst)\n",
    "copy_files(train_seg_path,train_seg_dst)\n",
    "copy_files(test_seg_path,test_seg_dst)\n",
    "copy_files(train_neg_path,train_neg_dst)\n",
    "copy_files(test_neg_path,test_neg_dst)"
   ]
  },
  {
   "cell_type": "code",
   "execution_count": 200,
   "id": "0818ca13",
   "metadata": {},
   "outputs": [],
   "source": []
  },
  {
   "cell_type": "code",
   "execution_count": null,
   "id": "4b990c5e",
   "metadata": {},
   "outputs": [],
   "source": []
  }
 ],
 "metadata": {
  "kernelspec": {
   "display_name": "Python 3 (ipykernel)",
   "language": "python",
   "name": "python3"
  },
  "language_info": {
   "codemirror_mode": {
    "name": "ipython",
    "version": 3
   },
   "file_extension": ".py",
   "mimetype": "text/x-python",
   "name": "python",
   "nbconvert_exporter": "python",
   "pygments_lexer": "ipython3",
   "version": "3.8.15"
  }
 },
 "nbformat": 4,
 "nbformat_minor": 5
}
